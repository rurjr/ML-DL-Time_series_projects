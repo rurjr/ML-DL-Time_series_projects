{
 "cells": [
  {
   "cell_type": "code",
   "execution_count": 1,
   "metadata": {},
   "outputs": [
    {
     "name": "stderr",
     "output_type": "stream",
     "text": [
      "2024-09-18 18:48:28.144629: I tensorflow/core/platform/cpu_feature_guard.cc:210] This TensorFlow binary is optimized to use available CPU instructions in performance-critical operations.\n",
      "To enable the following instructions: AVX2 FMA, in other operations, rebuild TensorFlow with the appropriate compiler flags.\n"
     ]
    },
    {
     "data": {
      "text/html": [
       "<svg  width=\"330\" height=\"55\"><rect x=\"0\" y=\"0\" width=\"55\" height=\"55\" style=\"fill:#35193e;stroke-width:2;stroke:rgb(255,255,255)\"/><rect x=\"55\" y=\"0\" width=\"55\" height=\"55\" style=\"fill:#701f57;stroke-width:2;stroke:rgb(255,255,255)\"/><rect x=\"110\" y=\"0\" width=\"55\" height=\"55\" style=\"fill:#ad1759;stroke-width:2;stroke:rgb(255,255,255)\"/><rect x=\"165\" y=\"0\" width=\"55\" height=\"55\" style=\"fill:#e13342;stroke-width:2;stroke:rgb(255,255,255)\"/><rect x=\"220\" y=\"0\" width=\"55\" height=\"55\" style=\"fill:#f37651;stroke-width:2;stroke:rgb(255,255,255)\"/><rect x=\"275\" y=\"0\" width=\"55\" height=\"55\" style=\"fill:#f6b48f;stroke-width:2;stroke:rgb(255,255,255)\"/></svg>"
      ],
      "text/plain": [
       "[(0.20973515, 0.09747934, 0.24238489),\n",
       " (0.43860848, 0.12177004, 0.34119475),\n",
       " (0.67824099, 0.09192342, 0.3504148),\n",
       " (0.8833417, 0.19830556, 0.26014181),\n",
       " (0.95381595, 0.46373781, 0.31769923),\n",
       " (0.96516917, 0.70776351, 0.5606593)]"
      ]
     },
     "execution_count": 1,
     "metadata": {},
     "output_type": "execute_result"
    }
   ],
   "source": [
    "import numpy as np\n",
    "import pandas as pd\n",
    "import matplotlib.pyplot as plt\n",
    "import seaborn as sns\n",
    "\n",
    "from sklearn.preprocessing import OneHotEncoder\n",
    "from sklearn.preprocessing import normalize\n",
    "\n",
    "from sklearn.model_selection import train_test_split\n",
    "\n",
    "from sklearn.metrics import accuracy_score as accuracy\n",
    "\n",
    "import tensorflow as tf\n",
    "from tensorflow.keras.preprocessing.text import Tokenizer\n",
    "\n",
    "import spacy\n",
    "nlp = spacy.load('en_core_web_sm')\n",
    "\n",
    "from sklearn.decomposition import PCA\n",
    "\n",
    "from tqdm.auto import tqdm\n",
    "\n",
    "colors = sns.color_palette(\"rocket\")\n",
    "colors"
   ]
  },
  {
   "cell_type": "code",
   "execution_count": 2,
   "metadata": {},
   "outputs": [
    {
     "data": {
      "text/html": [
       "<div>\n",
       "<style scoped>\n",
       "    .dataframe tbody tr th:only-of-type {\n",
       "        vertical-align: middle;\n",
       "    }\n",
       "\n",
       "    .dataframe tbody tr th {\n",
       "        vertical-align: top;\n",
       "    }\n",
       "\n",
       "    .dataframe thead th {\n",
       "        text-align: right;\n",
       "    }\n",
       "</style>\n",
       "<table border=\"1\" class=\"dataframe\">\n",
       "  <thead>\n",
       "    <tr style=\"text-align: right;\">\n",
       "      <th></th>\n",
       "      <th>reviewId</th>\n",
       "      <th>userName</th>\n",
       "      <th>userImage</th>\n",
       "      <th>content</th>\n",
       "      <th>score</th>\n",
       "      <th>thumbsUpCount</th>\n",
       "      <th>reviewCreatedVersion</th>\n",
       "      <th>at</th>\n",
       "      <th>replyContent</th>\n",
       "      <th>repliedAt</th>\n",
       "      <th>sortOrder</th>\n",
       "      <th>appId</th>\n",
       "    </tr>\n",
       "  </thead>\n",
       "  <tbody>\n",
       "    <tr>\n",
       "      <th>0</th>\n",
       "      <td>gp:AOqpTOEhZuqSqqWnaKRgv-9ABYdajFUB0WugPGh-SG-...</td>\n",
       "      <td>Eric Tie</td>\n",
       "      <td>https://play-lh.googleusercontent.com/a-/AOh14...</td>\n",
       "      <td>I cannot open the app anymore</td>\n",
       "      <td>1</td>\n",
       "      <td>0</td>\n",
       "      <td>5.4.0.6</td>\n",
       "      <td>2020-10-27 21:24:41</td>\n",
       "      <td>NaN</td>\n",
       "      <td>NaN</td>\n",
       "      <td>newest</td>\n",
       "      <td>com.anydo</td>\n",
       "    </tr>\n",
       "    <tr>\n",
       "      <th>1</th>\n",
       "      <td>gp:AOqpTOH0WP4IQKBZ2LrdNmFy_YmpPCVrV3diEU9KGm3...</td>\n",
       "      <td>john alpha</td>\n",
       "      <td>https://play-lh.googleusercontent.com/a-/AOh14...</td>\n",
       "      <td>I have been begging for a refund from this app...</td>\n",
       "      <td>1</td>\n",
       "      <td>0</td>\n",
       "      <td>NaN</td>\n",
       "      <td>2020-10-27 14:03:28</td>\n",
       "      <td>Please note that from checking our records, yo...</td>\n",
       "      <td>2020-10-27 15:05:52</td>\n",
       "      <td>newest</td>\n",
       "      <td>com.anydo</td>\n",
       "    </tr>\n",
       "    <tr>\n",
       "      <th>2</th>\n",
       "      <td>gp:AOqpTOEMCkJB8Iq1p-r9dPwnSYadA5BkPWTf32Z1azu...</td>\n",
       "      <td>Sudhakar .S</td>\n",
       "      <td>https://play-lh.googleusercontent.com/a-/AOh14...</td>\n",
       "      <td>Very costly for the premium version (approx In...</td>\n",
       "      <td>1</td>\n",
       "      <td>0</td>\n",
       "      <td>NaN</td>\n",
       "      <td>2020-10-27 08:18:40</td>\n",
       "      <td>NaN</td>\n",
       "      <td>NaN</td>\n",
       "      <td>newest</td>\n",
       "      <td>com.anydo</td>\n",
       "    </tr>\n",
       "  </tbody>\n",
       "</table>\n",
       "</div>"
      ],
      "text/plain": [
       "                                            reviewId     userName  \\\n",
       "0  gp:AOqpTOEhZuqSqqWnaKRgv-9ABYdajFUB0WugPGh-SG-...     Eric Tie   \n",
       "1  gp:AOqpTOH0WP4IQKBZ2LrdNmFy_YmpPCVrV3diEU9KGm3...   john alpha   \n",
       "2  gp:AOqpTOEMCkJB8Iq1p-r9dPwnSYadA5BkPWTf32Z1azu...  Sudhakar .S   \n",
       "\n",
       "                                           userImage  \\\n",
       "0  https://play-lh.googleusercontent.com/a-/AOh14...   \n",
       "1  https://play-lh.googleusercontent.com/a-/AOh14...   \n",
       "2  https://play-lh.googleusercontent.com/a-/AOh14...   \n",
       "\n",
       "                                             content  score  thumbsUpCount  \\\n",
       "0                      I cannot open the app anymore      1              0   \n",
       "1  I have been begging for a refund from this app...      1              0   \n",
       "2  Very costly for the premium version (approx In...      1              0   \n",
       "\n",
       "  reviewCreatedVersion                   at  \\\n",
       "0              5.4.0.6  2020-10-27 21:24:41   \n",
       "1                  NaN  2020-10-27 14:03:28   \n",
       "2                  NaN  2020-10-27 08:18:40   \n",
       "\n",
       "                                        replyContent            repliedAt  \\\n",
       "0                                                NaN                  NaN   \n",
       "1  Please note that from checking our records, yo...  2020-10-27 15:05:52   \n",
       "2                                                NaN                  NaN   \n",
       "\n",
       "  sortOrder      appId  \n",
       "0    newest  com.anydo  \n",
       "1    newest  com.anydo  \n",
       "2    newest  com.anydo  "
      ]
     },
     "execution_count": 2,
     "metadata": {},
     "output_type": "execute_result"
    }
   ],
   "source": [
    "df = pd.read_csv('/Users/nazarlenisin/Desktop/Text Segmentation/reviews.csv')\n",
    "df.head(3)"
   ]
  },
  {
   "cell_type": "code",
   "execution_count": 3,
   "metadata": {},
   "outputs": [],
   "source": [
    "class Prior_Data_Analys:\n",
    "  def __init__(self,df):\n",
    "    self.df = df\n",
    "\n",
    "\n",
    "  def shape(self):\n",
    "    n_samples,n_columns = self.df.shape\n",
    "    print(f'Number of samples in Data Set: {n_samples}')\n",
    "    print(f'Number of columns: {n_columns}')\n",
    "\n",
    "    return n_samples,n_columns\n",
    "\n",
    "\n",
    "  def unique_columns(self):\n",
    "    columns = self.df.columns\n",
    "    print(f'Unique columns:\\n')\n",
    "\n",
    "    for column_idx,column in enumerate(columns):\n",
    "      print(f'Column {column_idx + 1}: {column}')\n",
    "\n",
    "    return columns\n",
    "\n",
    "\n",
    "  def columns_dtypes(self):\n",
    "    dtypes = self.df.dtypes\n",
    "    print(f'Dtypes:\\n\\n {dtypes}')\n",
    "\n",
    "    return dtypes\n",
    "\n",
    "\n",
    "  def categorical_features(self):\n",
    "    print(f'Categorical features:\\n')\n",
    "    categorical_feats = [column for column_idx,column in enumerate(self.df.columns) if self.df.dtypes[column_idx] == 'object']\n",
    "\n",
    "    for feature in categorical_feats:\n",
    "      print(f'* {feature}')\n",
    "\n",
    "    return np.array(categorical_feats)\n",
    "\n",
    "\n",
    "  def numerical_features(self):\n",
    "    print(f'Numerical features: \\n')\n",
    "\n",
    "    numerical_feats = [column for column_idx,column in enumerate(self.df.columns) if self.df.dtypes[column_idx] != 'object']\n",
    "    for feature in numerical_feats:\n",
    "      print(f'* {feature}')\n",
    "\n",
    "    return np.array(numerical_feats)\n",
    "\n",
    "\n",
    "  def group_by(self,feature):\n",
    "    categorical = self.categorical_features()\n",
    "\n",
    "    if feature in categorical:\n",
    "      return df.groupby([feature]).count()\n",
    "\n",
    "    else:\n",
    "      return df.groupby([feature]).describe()\n",
    "\n",
    "\n",
    "  def count_NA(self):\n",
    "    print(f'Amout of Nans per class:')\n",
    "    return self.df.isna().sum()\n",
    "\n",
    "\n",
    "  def duplicates(self):\n",
    "    print(f'Amount of duplicates: {self.df.duplicated().sum()}')\n",
    "\n",
    "  def item(self,index):\n",
    "    print(f'Object number: {index}')\n",
    "\n",
    "    return self.df.iloc[index]\n",
    "\n",
    "  def unique_values(self,feature):\n",
    "    data = self.df[feature]\n",
    "\n",
    "    values = data.values\n",
    "    unique_values = np.unique(values)\n",
    "    print(f'Unique values of {feature}: {unique_values}')\n",
    "\n",
    "    return unique_values"
   ]
  },
  {
   "cell_type": "code",
   "execution_count": 4,
   "metadata": {},
   "outputs": [],
   "source": [
    "class Distribution:\n",
    "  def __init__(self,df,target_feature):\n",
    "    self.df = df\n",
    "    self.target_feature = target_feature\n",
    "    self._eda = Prior_Data_Analys(self.df)\n",
    "\n",
    "\n",
    "  def distribution_of_target_feature(self):\n",
    "    for visualization in range(2):\n",
    "      plt.figure(figsize = (10,10))\n",
    "      plt.subplot(2,1,visualization + 1)\n",
    "      if visualization == 0:\n",
    "        sns.histplot(data = self.df,x = self.target_feature,color = colors[3])\n",
    "        plt.title(f'Distribution of Target feature: {self.target_feature}')\n",
    "        plt.show()\n",
    "\n",
    "      else:\n",
    "        sns.boxplot(x = self.df[self.target_feature],color = colors[3])\n",
    "        plt.title(f'Distribution of Target feature: {self.target_feature}')\n",
    "        plt.show()\n",
    "\n",
    "\n",
    "  def distribution_of_numerical_features(self):\n",
    "    numerical_features = self._eda.numerical_features()\n",
    "\n",
    "    for feature_idx,feature in enumerate(numerical_features):\n",
    "      plt.figure(figsize = (15,15))\n",
    "      plt.subplot(len(numerical_features) // 2 + 1 , 2 , feature_idx + 1)\n",
    "      sns.histplot(data = self.df,x = feature,color = colors[1])\n",
    "      plt.title(f'Distibution of {feature}')\n",
    "      plt.tight_layout\n",
    "      plt.show()\n",
    "\n",
    "\n",
    "  def distribution_of_categorical_features(self,top_k = 5):\n",
    "    categorical_features = self._eda.categorical_features()\n",
    "    plt.figure(figsize = (20,20))\n",
    "\n",
    "    for feature_idx,feature in enumerate(categorical_features):\n",
    "\n",
    "      values = self._eda.group_by(feature)[self.target_feature].sort_values(ascending = False).values[:top_k]\n",
    "      labels = self._eda.group_by(feature)[self.target_feature].sort_values(ascending = False).index[:top_k]\n",
    "\n",
    "      data_dict = {'Labels': labels, 'Values': values}\n",
    "      data = pd.DataFrame(data_dict)\n",
    "\n",
    "      plt.subplot(len(categorical_features) // 2 + 1 , 2 , feature_idx + 1)\n",
    "      sns.barplot(data = data,y = 'Labels',x = 'Values',color = colors[-1])\n",
    "      plt.title(f'Top {top_k} {feature} by count')\n",
    "\n",
    "    plt.tight_layout()\n",
    "    plt.show()\n",
    "\n",
    "  def relation_numerical_feats_to_target_feat(self):\n",
    "    numerical_features = self._eda.numerical_features()\n",
    "\n",
    "    data = df[numerical_features]\n",
    "    corr = data.corr()\n",
    "\n",
    "    return sns.heatmap(corr,annot = True, cmap = sns.cubehelix_palette(start=.5, rot=-.5, as_cmap=True))\n",
    "\n",
    "  def relation_categorical_feats_to_target_feat(self,top_k = 3):\n",
    "    categorical_features = self._eda.categorical_features()\n",
    "    plt.figure(figsize = (20,20))\n",
    "\n",
    "    for feature_idx,feature in enumerate(categorical_features):\n",
    "\n",
    "      feats = self._eda.group_by(feature)[self.target_feature].sort_values(ascending = False)[:top_k].index\n",
    "\n",
    "      data = self.df\n",
    "      data = data[data[feature].isin(feats)]\n",
    "\n",
    "      plt.subplot(len(categorical_features) // 2 + 1 , 2 , feature_idx + 1)\n",
    "      sns.stripplot(data = data, x = feature, y = self.target_feature,hue = feature)\n",
    "      plt.title(f'Relation between {feature} (top {top_k}) & {self.target_feature}')\n",
    "\n",
    "    plt.tight_layout()\n",
    "    plt.show()"
   ]
  },
  {
   "cell_type": "code",
   "execution_count": 5,
   "metadata": {},
   "outputs": [],
   "source": [
    "class Text_Tokenization:\n",
    "  def __init__(self,nlp,tokenizer):\n",
    "    self.nlp = nlp\n",
    "    self.tokenizer = tokenizer\n",
    "\n",
    "  def _spacy_tokenizer(self,doc):\n",
    "    return [token.lemma_ for token in self.nlp(doc) if\n",
    "            not token.is_space]\n",
    "\n",
    "  def _text_preprocessing(self,doc):\n",
    "    doc = self._spacy_tokenizer(doc)\n",
    "\n",
    "    return '|'.join(doc)\n",
    "\n",
    "  def tokenize(self,doc,max_len,fit = False):\n",
    "    doc = [self._text_preprocessing(text) for text in doc]\n",
    "\n",
    "    if fit:\n",
    "      self.tokenizer.fit_on_texts(doc)\n",
    "\n",
    "    tokenized_doc = self.tokenizer.texts_to_sequences(doc)\n",
    "    output = tf.keras.utils.pad_sequences(tokenized_doc,max_len,padding = 'post',truncating = 'post')\n",
    "\n",
    "    return output"
   ]
  },
  {
   "cell_type": "code",
   "execution_count": 6,
   "metadata": {},
   "outputs": [],
   "source": [
    "class Sentiment_rnn(tf.keras.Model):\n",
    "  def __init__(self,vocab_size,embedding_size,hidden_size,n_classes):\n",
    "    super().__init__()\n",
    "    self.vocab_size = vocab_size\n",
    "    self.embedding_size = embedding_size\n",
    "    self.hidden_size = hidden_size\n",
    "    self.n_classes = n_classes\n",
    "\n",
    "    self.embedding = tf.keras.layers.Embedding(vocab_size,embedding_size,mask_zero = True)\n",
    "    self.rnn = tf.keras.layers.SimpleRNN(hidden_size,return_sequences = True)\n",
    "\n",
    "    self.flatten = tf.keras.layers.Flatten()\n",
    "\n",
    "    self.linear_1 = tf.keras.layers.Dense(64,activation = 'sigmoid')\n",
    "    self.linear_2 = tf.keras.layers.Dense(128,activation = 'sigmoid')\n",
    "    self.linear_3 = tf.keras.layers.Dense(n_classes,activation = 'softmax')\n",
    "\n",
    "  def call(self,X):\n",
    "    X = self.embedding(X)\n",
    "\n",
    "    output = self.rnn(X)\n",
    "\n",
    "    output = self.flatten(output)\n",
    "\n",
    "    output = self.linear_1(output)\n",
    "    output = self.linear_2(output)\n",
    "    output = self.linear_3(output)\n",
    "\n",
    "    return output"
   ]
  },
  {
   "cell_type": "code",
   "execution_count": 7,
   "metadata": {},
   "outputs": [],
   "source": [
    "class Sentiment_lstm(tf.keras.Model):\n",
    "  def __init__(self,vocab_size,embedding_size,hidden_size,n_classes):\n",
    "    super().__init__()\n",
    "    self.vocab_size = vocab_size\n",
    "    self.embedding_size = embedding_size\n",
    "    self.hidden_size = hidden_size\n",
    "    self.n_classes = n_classes\n",
    "\n",
    "    self.embedding = tf.keras.layers.Embedding(vocab_size,embedding_size,mask_zero = True)\n",
    "    self.lstm = tf.keras.layers.LSTM(hidden_size,return_sequences = True)\n",
    "\n",
    "    self.flatten = tf.keras.layers.Flatten()\n",
    "\n",
    "    self.linear_1 = tf.keras.layers.Dense(64,activation = 'sigmoid')\n",
    "    self.linear_2 = tf.keras.layers.Dense(128,activation = 'sigmoid')\n",
    "    self.linear_3 = tf.keras.layers.Dense(n_classes,activation = 'softmax')\n",
    "\n",
    "  def call(self,X):\n",
    "    X = self.embedding(X)\n",
    "\n",
    "    output = self.lstm(X)\n",
    "\n",
    "    output = self.flatten(output)\n",
    "\n",
    "    output = self.linear_1(output)\n",
    "    output = self.linear_2(output)\n",
    "    output = self.linear_3(output)\n",
    "\n",
    "    return output"
   ]
  },
  {
   "cell_type": "code",
   "execution_count": 8,
   "metadata": {},
   "outputs": [],
   "source": [
    "class Train_Model:\n",
    "  def __init__(self,model,lr,batch_size,epochs):\n",
    "    self.model = model\n",
    "    self.lr = lr\n",
    "    self.batch_size = batch_size\n",
    "    self.epochs = epochs\n",
    "\n",
    "  def fit(self,X_train,y_train):\n",
    "    model = self.model\n",
    "\n",
    "    model.compile(\n",
    "        loss = tf.keras.losses.SparseCategoricalCrossentropy(from_logits = False),\n",
    "        optimizer = tf.keras.optimizers.Adam(learning_rate = self.lr),\n",
    "        metrics = ['accuracy']\n",
    "    )\n",
    "\n",
    "    print(f'Metrics on Train Data:')\n",
    "    model.fit(X_train,y_train,batch_size = self.batch_size,epochs = self.epochs)\n",
    "    self.model = model\n",
    "\n",
    "    return model\n",
    "\n",
    "  def eval(self,X_test,y_test):\n",
    "    model = self.model\n",
    "\n",
    "    print(f'\\nMetrics on Test Data:')\n",
    "    model.evaluate(X_test,y_test)"
   ]
  },
  {
   "cell_type": "code",
   "execution_count": 9,
   "metadata": {},
   "outputs": [],
   "source": [
    "def Sentiment(model,review):\n",
    "  tokenized_review = tokenization.tokenize([review],max_len)\n",
    "\n",
    "  prediction = model(tokenized_review)\n",
    "  label = tf.argmax(prediction,1)\n",
    "\n",
    "  class_label = 'negative' if np.array(label)[0] == 0 else 'positive'\n",
    "\n",
    "  print(f'{review} - {class_label}')\n",
    "\n",
    "  return class_label"
   ]
  },
  {
   "cell_type": "code",
   "execution_count": 10,
   "metadata": {},
   "outputs": [],
   "source": [
    "scores = df['score'].values\n",
    "\n",
    "sentiment = np.where(scores < 3,0,1)\n",
    "df['sentiment'] = sentiment"
   ]
  },
  {
   "cell_type": "code",
   "execution_count": 11,
   "metadata": {},
   "outputs": [
    {
     "data": {
      "text/html": [
       "<div>\n",
       "<style scoped>\n",
       "    .dataframe tbody tr th:only-of-type {\n",
       "        vertical-align: middle;\n",
       "    }\n",
       "\n",
       "    .dataframe tbody tr th {\n",
       "        vertical-align: top;\n",
       "    }\n",
       "\n",
       "    .dataframe thead th {\n",
       "        text-align: right;\n",
       "    }\n",
       "</style>\n",
       "<table border=\"1\" class=\"dataframe\">\n",
       "  <thead>\n",
       "    <tr style=\"text-align: right;\">\n",
       "      <th></th>\n",
       "      <th>content</th>\n",
       "      <th>sentiment</th>\n",
       "    </tr>\n",
       "  </thead>\n",
       "  <tbody>\n",
       "    <tr>\n",
       "      <th>0</th>\n",
       "      <td>I cannot open the app anymore</td>\n",
       "      <td>0</td>\n",
       "    </tr>\n",
       "    <tr>\n",
       "      <th>1</th>\n",
       "      <td>I have been begging for a refund from this app...</td>\n",
       "      <td>0</td>\n",
       "    </tr>\n",
       "    <tr>\n",
       "      <th>2</th>\n",
       "      <td>Very costly for the premium version (approx In...</td>\n",
       "      <td>0</td>\n",
       "    </tr>\n",
       "  </tbody>\n",
       "</table>\n",
       "</div>"
      ],
      "text/plain": [
       "                                             content  sentiment\n",
       "0                      I cannot open the app anymore          0\n",
       "1  I have been begging for a refund from this app...          0\n",
       "2  Very costly for the premium version (approx In...          0"
      ]
     },
     "execution_count": 11,
     "metadata": {},
     "output_type": "execute_result"
    }
   ],
   "source": [
    "df = df[['content','sentiment']]\n",
    "df.head(3)"
   ]
  },
  {
   "cell_type": "code",
   "execution_count": 12,
   "metadata": {},
   "outputs": [],
   "source": [
    "target_feature = 'sentiment'\n",
    "\n",
    "eda = Prior_Data_Analys(df)\n",
    "data_visualization = Distribution(df,target_feature)"
   ]
  },
  {
   "cell_type": "code",
   "execution_count": 13,
   "metadata": {},
   "outputs": [
    {
     "name": "stdout",
     "output_type": "stream",
     "text": [
      "Number of samples in Data Set: 12495\n",
      "Number of columns: 2\n"
     ]
    },
    {
     "data": {
      "text/plain": [
       "(12495, 2)"
      ]
     },
     "execution_count": 13,
     "metadata": {},
     "output_type": "execute_result"
    }
   ],
   "source": [
    "eda.shape()"
   ]
  },
  {
   "cell_type": "code",
   "execution_count": 14,
   "metadata": {},
   "outputs": [
    {
     "name": "stdout",
     "output_type": "stream",
     "text": [
      "Unique columns:\n",
      "\n",
      "Column 1: content\n",
      "Column 2: sentiment\n"
     ]
    },
    {
     "data": {
      "text/plain": [
       "Index(['content', 'sentiment'], dtype='object')"
      ]
     },
     "execution_count": 14,
     "metadata": {},
     "output_type": "execute_result"
    }
   ],
   "source": [
    "eda.unique_columns()"
   ]
  },
  {
   "cell_type": "code",
   "execution_count": 15,
   "metadata": {},
   "outputs": [
    {
     "name": "stdout",
     "output_type": "stream",
     "text": [
      "Dtypes:\n",
      "\n",
      " content      object\n",
      "sentiment     int64\n",
      "dtype: object\n"
     ]
    },
    {
     "data": {
      "text/plain": [
       "content      object\n",
       "sentiment     int64\n",
       "dtype: object"
      ]
     },
     "execution_count": 15,
     "metadata": {},
     "output_type": "execute_result"
    }
   ],
   "source": [
    "eda.columns_dtypes()"
   ]
  },
  {
   "cell_type": "code",
   "execution_count": 16,
   "metadata": {},
   "outputs": [
    {
     "name": "stdout",
     "output_type": "stream",
     "text": [
      "Categorical features:\n",
      "\n",
      "* content\n"
     ]
    },
    {
     "name": "stderr",
     "output_type": "stream",
     "text": [
      "/var/folders/k9/6y59tr5d45s1nynfg_sv5zr80000gn/T/ipykernel_36629/4263177674.py:33: FutureWarning: Series.__getitem__ treating keys as positions is deprecated. In a future version, integer keys will always be treated as labels (consistent with DataFrame behavior). To access a value by position, use `ser.iloc[pos]`\n",
      "  categorical_feats = [column for column_idx,column in enumerate(self.df.columns) if self.df.dtypes[column_idx] == 'object']\n",
      "/var/folders/k9/6y59tr5d45s1nynfg_sv5zr80000gn/T/ipykernel_36629/4263177674.py:33: FutureWarning: Series.__getitem__ treating keys as positions is deprecated. In a future version, integer keys will always be treated as labels (consistent with DataFrame behavior). To access a value by position, use `ser.iloc[pos]`\n",
      "  categorical_feats = [column for column_idx,column in enumerate(self.df.columns) if self.df.dtypes[column_idx] == 'object']\n"
     ]
    },
    {
     "data": {
      "text/plain": [
       "array(['content'], dtype='<U7')"
      ]
     },
     "execution_count": 16,
     "metadata": {},
     "output_type": "execute_result"
    }
   ],
   "source": [
    "eda.categorical_features()"
   ]
  },
  {
   "cell_type": "code",
   "execution_count": 17,
   "metadata": {},
   "outputs": [
    {
     "name": "stdout",
     "output_type": "stream",
     "text": [
      "Numerical features: \n",
      "\n",
      "* sentiment\n"
     ]
    },
    {
     "name": "stderr",
     "output_type": "stream",
     "text": [
      "/var/folders/k9/6y59tr5d45s1nynfg_sv5zr80000gn/T/ipykernel_36629/4263177674.py:44: FutureWarning: Series.__getitem__ treating keys as positions is deprecated. In a future version, integer keys will always be treated as labels (consistent with DataFrame behavior). To access a value by position, use `ser.iloc[pos]`\n",
      "  numerical_feats = [column for column_idx,column in enumerate(self.df.columns) if self.df.dtypes[column_idx] != 'object']\n",
      "/var/folders/k9/6y59tr5d45s1nynfg_sv5zr80000gn/T/ipykernel_36629/4263177674.py:44: FutureWarning: Series.__getitem__ treating keys as positions is deprecated. In a future version, integer keys will always be treated as labels (consistent with DataFrame behavior). To access a value by position, use `ser.iloc[pos]`\n",
      "  numerical_feats = [column for column_idx,column in enumerate(self.df.columns) if self.df.dtypes[column_idx] != 'object']\n"
     ]
    },
    {
     "data": {
      "text/plain": [
       "array(['sentiment'], dtype='<U9')"
      ]
     },
     "execution_count": 17,
     "metadata": {},
     "output_type": "execute_result"
    }
   ],
   "source": [
    "eda.numerical_features()"
   ]
  },
  {
   "cell_type": "code",
   "execution_count": 18,
   "metadata": {},
   "outputs": [
    {
     "name": "stdout",
     "output_type": "stream",
     "text": [
      "Amout of Nans per class:\n"
     ]
    },
    {
     "data": {
      "text/plain": [
       "content      0\n",
       "sentiment    0\n",
       "dtype: int64"
      ]
     },
     "execution_count": 18,
     "metadata": {},
     "output_type": "execute_result"
    }
   ],
   "source": [
    "eda.count_NA()"
   ]
  },
  {
   "cell_type": "code",
   "execution_count": 19,
   "metadata": {},
   "outputs": [
    {
     "name": "stdout",
     "output_type": "stream",
     "text": [
      "Amount of duplicates: 659\n"
     ]
    }
   ],
   "source": [
    "eda.duplicates()\n",
    "df = df[df.duplicated() == False]"
   ]
  },
  {
   "cell_type": "code",
   "execution_count": 20,
   "metadata": {},
   "outputs": [
    {
     "data": {
      "image/png": "[encoded data removed]",
      "text/plain": [
       "<Figure size 1000x1000 with 1 Axes>"
      ]
     },
     "metadata": {},
     "output_type": "display_data"
    },
    {
     "data": {
      "image/png": "[encoded data removed]",
      "text/plain": [
       "<Figure size 1000x1000 with 1 Axes>"
      ]
     },
     "metadata": {},
     "output_type": "display_data"
    }
   ],
   "source": [
    "data_visualization.distribution_of_target_feature()"
   ]
  },
  {
   "cell_type": "code",
   "execution_count": 21,
   "metadata": {},
   "outputs": [],
   "source": [
    "X = df['content'].values\n",
    "y = df['sentiment'].values\n",
    "\n",
    "X_train,X_test,y_train,y_test = train_test_split(X,y,test_size = 0.2,random_state = 42)"
   ]
  },
  {
   "cell_type": "code",
   "execution_count": 22,
   "metadata": {},
   "outputs": [],
   "source": [
    "max_len = 80\n",
    "\n",
    "tokenizer = Tokenizer(split = '|',oov_token = '<unk>')\n",
    "tokenization = Text_Tokenization(nlp,tokenizer)\n",
    "\n",
    "X_train = tokenization.tokenize(X_train,max_len,True)\n",
    "X_test = tokenization.tokenize(X_test,max_len)\n",
    "\n",
    "vocab = tokenization.tokenizer"
   ]
  },
  {
   "cell_type": "code",
   "execution_count": 23,
   "metadata": {},
   "outputs": [
    {
     "data": {
      "image/png": "[encoded data removed]",
      "text/plain": [
       "<Figure size 640x480 with 1 Axes>"
      ]
     },
     "metadata": {},
     "output_type": "display_data"
    }
   ],
   "source": [
    "pca = PCA(n_components = 2)\n",
    "\n",
    "positive_idxs = np.argwhere(y_train == 1)\n",
    "negative_idxs = np.argwhere(y_train == 0)\n",
    "\n",
    "positive_x = X_train[positive_idxs].squeeze()\n",
    "negative_x = X_train[negative_idxs].squeeze()\n",
    "\n",
    "\n",
    "positive_x_2d = pca.fit_transform(positive_x)\n",
    "negative_x_2d = pca.fit_transform(negative_x)\n",
    "\n",
    "plt.scatter(positive_x_2d[:,0],positive_x_2d[:,1],color = colors[0],label = 'positive')\n",
    "plt.scatter(negative_x_2d[:,0],negative_x_2d[:,1],color = colors[4],label = 'negative')\n",
    "plt.title('Distribution of positive and negative comments')\n",
    "plt.xlabel('PCA1')\n",
    "plt.ylabel('PCA2')\n",
    "plt.show()"
   ]
  },
  {
   "cell_type": "code",
   "execution_count": 24,
   "metadata": {},
   "outputs": [
    {
     "name": "stdout",
     "output_type": "stream",
     "text": [
      "Unique values of sentiment: [0 1]\n"
     ]
    }
   ],
   "source": [
    "vocab_size = len(vocab.word_index) + 1\n",
    "embedding_size = 25\n",
    "hidden_size = 128\n",
    "n_classes = len(eda.unique_values(target_feature))\n",
    "\n",
    "model_rnn = Sentiment_rnn(vocab_size,embedding_size,hidden_size,n_classes)\n",
    "model_lstm = Sentiment_lstm(vocab_size,embedding_size,hidden_size,n_classes)"
   ]
  },
  {
   "cell_type": "code",
   "execution_count": 25,
   "metadata": {},
   "outputs": [
    {
     "name": "stdout",
     "output_type": "stream",
     "text": [
      "RNN model: \n",
      "Metrics on Train Data:\n",
      "Epoch 1/30\n"
     ]
    },
    {
     "name": "stderr",
     "output_type": "stream",
     "text": [
      "/Library/Frameworks/Python.framework/Versions/3.11/lib/python3.11/site-packages/keras/src/layers/layer.py:915: UserWarning: Layer 'flatten' (of type Flatten) was passed an input with a mask attached to it. However, this layer does not support masking and will therefore destroy the mask information. Downstream layers will not see the mask.\n",
      "  warnings.warn(\n"
     ]
    },
    {
     "name": "stdout",
     "output_type": "stream",
     "text": [
      "\u001b[1m296/296\u001b[0m \u001b[32m━━━━━━━━━━━━━━━━━━━━\u001b[0m\u001b[37m\u001b[0m \u001b[1m10s\u001b[0m 27ms/step - accuracy: 0.6072 - loss: 0.6578\n",
      "Epoch 2/30\n",
      "\u001b[1m296/296\u001b[0m \u001b[32m━━━━━━━━━━━━━━━━━━━━\u001b[0m\u001b[37m\u001b[0m \u001b[1m8s\u001b[0m 26ms/step - accuracy: 0.7628 - loss: 0.4985\n",
      "Epoch 3/30\n",
      "\u001b[1m296/296\u001b[0m \u001b[32m━━━━━━━━━━━━━━━━━━━━\u001b[0m\u001b[37m\u001b[0m \u001b[1m8s\u001b[0m 26ms/step - accuracy: 0.8171 - loss: 0.4048\n",
      "Epoch 4/30\n",
      "\u001b[1m296/296\u001b[0m \u001b[32m━━━━━━━━━━━━━━━━━━━━\u001b[0m\u001b[37m\u001b[0m \u001b[1m7s\u001b[0m 22ms/step - accuracy: 0.8525 - loss: 0.3570\n",
      "Epoch 5/30\n",
      "\u001b[1m296/296\u001b[0m \u001b[32m━━━━━━━━━━━━━━━━━━━━\u001b[0m\u001b[37m\u001b[0m \u001b[1m7s\u001b[0m 22ms/step - accuracy: 0.8830 - loss: 0.3000\n",
      "Epoch 6/30\n",
      "\u001b[1m296/296\u001b[0m \u001b[32m━━━━━━━━━━━━━━━━━━━━\u001b[0m\u001b[37m\u001b[0m \u001b[1m8s\u001b[0m 28ms/step - accuracy: 0.8998 - loss: 0.2678\n",
      "Epoch 7/30\n",
      "\u001b[1m296/296\u001b[0m \u001b[32m━━━━━━━━━━━━━━━━━━━━\u001b[0m\u001b[37m\u001b[0m \u001b[1m9s\u001b[0m 29ms/step - accuracy: 0.9256 - loss: 0.2202\n",
      "Epoch 8/30\n",
      "\u001b[1m296/296\u001b[0m \u001b[32m━━━━━━━━━━━━━━━━━━━━\u001b[0m\u001b[37m\u001b[0m \u001b[1m8s\u001b[0m 28ms/step - accuracy: 0.9357 - loss: 0.1948\n",
      "Epoch 9/30\n",
      "\u001b[1m296/296\u001b[0m \u001b[32m━━━━━━━━━━━━━━━━━━━━\u001b[0m\u001b[37m\u001b[0m \u001b[1m8s\u001b[0m 26ms/step - accuracy: 0.9500 - loss: 0.1659\n",
      "Epoch 10/30\n",
      "\u001b[1m296/296\u001b[0m \u001b[32m━━━━━━━━━━━━━━━━━━━━\u001b[0m\u001b[37m\u001b[0m \u001b[1m8s\u001b[0m 26ms/step - accuracy: 0.9557 - loss: 0.1515\n",
      "Epoch 11/30\n",
      "\u001b[1m296/296\u001b[0m \u001b[32m━━━━━━━━━━━━━━━━━━━━\u001b[0m\u001b[37m\u001b[0m \u001b[1m8s\u001b[0m 29ms/step - accuracy: 0.9660 - loss: 0.1196\n",
      "Epoch 12/30\n",
      "\u001b[1m296/296\u001b[0m \u001b[32m━━━━━━━━━━━━━━━━━━━━\u001b[0m\u001b[37m\u001b[0m \u001b[1m8s\u001b[0m 27ms/step - accuracy: 0.9739 - loss: 0.1005\n",
      "Epoch 13/30\n",
      "\u001b[1m296/296\u001b[0m \u001b[32m━━━━━━━━━━━━━━━━━━━━\u001b[0m\u001b[37m\u001b[0m \u001b[1m8s\u001b[0m 26ms/step - accuracy: 0.9741 - loss: 0.0971\n",
      "Epoch 14/30\n",
      "\u001b[1m296/296\u001b[0m \u001b[32m━━━━━━━━━━━━━━━━━━━━\u001b[0m\u001b[37m\u001b[0m \u001b[1m8s\u001b[0m 26ms/step - accuracy: 0.9793 - loss: 0.0839\n",
      "Epoch 15/30\n",
      "\u001b[1m296/296\u001b[0m \u001b[32m━━━━━━━━━━━━━━━━━━━━\u001b[0m\u001b[37m\u001b[0m \u001b[1m9s\u001b[0m 29ms/step - accuracy: 0.9814 - loss: 0.0704\n",
      "Epoch 16/30\n",
      "\u001b[1m296/296\u001b[0m \u001b[32m━━━━━━━━━━━━━━━━━━━━\u001b[0m\u001b[37m\u001b[0m \u001b[1m8s\u001b[0m 27ms/step - accuracy: 0.9835 - loss: 0.0648\n",
      "Epoch 17/30\n",
      "\u001b[1m296/296\u001b[0m \u001b[32m━━━━━━━━━━━━━━━━━━━━\u001b[0m\u001b[37m\u001b[0m \u001b[1m8s\u001b[0m 27ms/step - accuracy: 0.9846 - loss: 0.0597\n",
      "Epoch 18/30\n",
      "\u001b[1m296/296\u001b[0m \u001b[32m━━━━━━━━━━━━━━━━━━━━\u001b[0m\u001b[37m\u001b[0m \u001b[1m8s\u001b[0m 27ms/step - accuracy: 0.9873 - loss: 0.0490\n",
      "Epoch 19/30\n",
      "\u001b[1m296/296\u001b[0m \u001b[32m━━━━━━━━━━━━━━━━━━━━\u001b[0m\u001b[37m\u001b[0m \u001b[1m8s\u001b[0m 27ms/step - accuracy: 0.9885 - loss: 0.0490\n",
      "Epoch 20/30\n",
      "\u001b[1m296/296\u001b[0m \u001b[32m━━━━━━━━━━━━━━━━━━━━\u001b[0m\u001b[37m\u001b[0m \u001b[1m9s\u001b[0m 29ms/step - accuracy: 0.9898 - loss: 0.0434\n",
      "Epoch 21/30\n",
      "\u001b[1m296/296\u001b[0m \u001b[32m━━━━━━━━━━━━━━━━━━━━\u001b[0m\u001b[37m\u001b[0m \u001b[1m8s\u001b[0m 28ms/step - accuracy: 0.9875 - loss: 0.0522\n",
      "Epoch 22/30\n",
      "\u001b[1m296/296\u001b[0m \u001b[32m━━━━━━━━━━━━━━━━━━━━\u001b[0m\u001b[37m\u001b[0m \u001b[1m9s\u001b[0m 30ms/step - accuracy: 0.9836 - loss: 0.0584\n",
      "Epoch 23/30\n",
      "\u001b[1m296/296\u001b[0m \u001b[32m━━━━━━━━━━━━━━━━━━━━\u001b[0m\u001b[37m\u001b[0m \u001b[1m11s\u001b[0m 37ms/step - accuracy: 0.9894 - loss: 0.0354\n",
      "Epoch 24/30\n",
      "\u001b[1m296/296\u001b[0m \u001b[32m━━━━━━━━━━━━━━━━━━━━\u001b[0m\u001b[37m\u001b[0m \u001b[1m11s\u001b[0m 37ms/step - accuracy: 0.9924 - loss: 0.0322\n",
      "Epoch 25/30\n",
      "\u001b[1m296/296\u001b[0m \u001b[32m━━━━━━━━━━━━━━━━━━━━\u001b[0m\u001b[37m\u001b[0m \u001b[1m11s\u001b[0m 37ms/step - accuracy: 0.9937 - loss: 0.0255\n",
      "Epoch 26/30\n",
      "\u001b[1m296/296\u001b[0m \u001b[32m━━━━━━━━━━━━━━━━━━━━\u001b[0m\u001b[37m\u001b[0m \u001b[1m11s\u001b[0m 37ms/step - accuracy: 0.9955 - loss: 0.0221\n",
      "Epoch 27/30\n",
      "\u001b[1m296/296\u001b[0m \u001b[32m━━━━━━━━━━━━━━━━━━━━\u001b[0m\u001b[37m\u001b[0m \u001b[1m15s\u001b[0m 51ms/step - accuracy: 0.9886 - loss: 0.0407\n",
      "Epoch 28/30\n",
      "\u001b[1m296/296\u001b[0m \u001b[32m━━━━━━━━━━━━━━━━━━━━\u001b[0m\u001b[37m\u001b[0m \u001b[1m15s\u001b[0m 49ms/step - accuracy: 0.9896 - loss: 0.0349\n",
      "Epoch 29/30\n",
      "\u001b[1m296/296\u001b[0m \u001b[32m━━━━━━━━━━━━━━━━━━━━\u001b[0m\u001b[37m\u001b[0m \u001b[1m9s\u001b[0m 30ms/step - accuracy: 0.9925 - loss: 0.0266\n",
      "Epoch 30/30\n",
      "\u001b[1m296/296\u001b[0m \u001b[32m━━━━━━━━━━━━━━━━━━━━\u001b[0m\u001b[37m\u001b[0m \u001b[1m8s\u001b[0m 26ms/step - accuracy: 0.9949 - loss: 0.0201\n",
      "\n",
      "Metrics on Test Data:\n",
      "\u001b[1m74/74\u001b[0m \u001b[32m━━━━━━━━━━━━━━━━━━━━\u001b[0m\u001b[37m\u001b[0m \u001b[1m1s\u001b[0m 7ms/step - accuracy: 0.7604 - loss: 1.1853\n",
      "LSTM model: \n",
      "Metrics on Train Data:\n",
      "Epoch 1/30\n"
     ]
    },
    {
     "name": "stderr",
     "output_type": "stream",
     "text": [
      "/Library/Frameworks/Python.framework/Versions/3.11/lib/python3.11/site-packages/keras/src/layers/layer.py:915: UserWarning: Layer 'flatten_1' (of type Flatten) was passed an input with a mask attached to it. However, this layer does not support masking and will therefore destroy the mask information. Downstream layers will not see the mask.\n",
      "  warnings.warn(\n"
     ]
    },
    {
     "name": "stdout",
     "output_type": "stream",
     "text": [
      "\u001b[1m296/296\u001b[0m \u001b[32m━━━━━━━━━━━━━━━━━━━━\u001b[0m\u001b[37m\u001b[0m \u001b[1m23s\u001b[0m 68ms/step - accuracy: 0.6135 - loss: 0.6584\n",
      "Epoch 2/30\n",
      "\u001b[1m296/296\u001b[0m \u001b[32m━━━━━━━━━━━━━━━━━━━━\u001b[0m\u001b[37m\u001b[0m \u001b[1m26s\u001b[0m 87ms/step - accuracy: 0.7627 - loss: 0.4984\n",
      "Epoch 3/30\n",
      "\u001b[1m296/296\u001b[0m \u001b[32m━━━━━━━━━━━━━━━━━━━━\u001b[0m\u001b[37m\u001b[0m \u001b[1m25s\u001b[0m 86ms/step - accuracy: 0.8170 - loss: 0.4172\n",
      "Epoch 4/30\n",
      "\u001b[1m296/296\u001b[0m \u001b[32m━━━━━━━━━━━━━━━━━━━━\u001b[0m\u001b[37m\u001b[0m \u001b[1m23s\u001b[0m 78ms/step - accuracy: 0.8481 - loss: 0.3646\n",
      "Epoch 5/30\n",
      "\u001b[1m296/296\u001b[0m \u001b[32m━━━━━━━━━━━━━━━━━━━━\u001b[0m\u001b[37m\u001b[0m \u001b[1m24s\u001b[0m 79ms/step - accuracy: 0.8634 - loss: 0.3331\n",
      "Epoch 6/30\n",
      "\u001b[1m296/296\u001b[0m \u001b[32m━━━━━━━━━━━━━━━━━━━━\u001b[0m\u001b[37m\u001b[0m \u001b[1m23s\u001b[0m 78ms/step - accuracy: 0.8750 - loss: 0.3101\n",
      "Epoch 7/30\n",
      "\u001b[1m296/296\u001b[0m \u001b[32m━━━━━━━━━━━━━━━━━━━━\u001b[0m\u001b[37m\u001b[0m \u001b[1m23s\u001b[0m 78ms/step - accuracy: 0.8931 - loss: 0.2806\n",
      "Epoch 8/30\n",
      "\u001b[1m296/296\u001b[0m \u001b[32m━━━━━━━━━━━━━━━━━━━━\u001b[0m\u001b[37m\u001b[0m \u001b[1m35s\u001b[0m 57ms/step - accuracy: 0.9093 - loss: 0.2472\n",
      "Epoch 9/30\n",
      "\u001b[1m296/296\u001b[0m \u001b[32m━━━━━━━━━━━━━━━━━━━━\u001b[0m\u001b[37m\u001b[0m \u001b[1m27s\u001b[0m 92ms/step - accuracy: 0.9166 - loss: 0.2374\n",
      "Epoch 10/30\n",
      "\u001b[1m296/296\u001b[0m \u001b[32m━━━━━━━━━━━━━━━━━━━━\u001b[0m\u001b[37m\u001b[0m \u001b[1m25s\u001b[0m 83ms/step - accuracy: 0.9275 - loss: 0.2149\n",
      "Epoch 11/30\n",
      "\u001b[1m296/296\u001b[0m \u001b[32m━━━━━━━━━━━━━━━━━━━━\u001b[0m\u001b[37m\u001b[0m \u001b[1m20s\u001b[0m 68ms/step - accuracy: 0.9277 - loss: 0.2089\n",
      "Epoch 12/30\n",
      "\u001b[1m296/296\u001b[0m \u001b[32m━━━━━━━━━━━━━━━━━━━━\u001b[0m\u001b[37m\u001b[0m \u001b[1m18s\u001b[0m 62ms/step - accuracy: 0.9316 - loss: 0.2020\n",
      "Epoch 13/30\n",
      "\u001b[1m296/296\u001b[0m \u001b[32m━━━━━━━━━━━━━━━━━━━━\u001b[0m\u001b[37m\u001b[0m \u001b[1m19s\u001b[0m 63ms/step - accuracy: 0.9415 - loss: 0.1777\n",
      "Epoch 14/30\n",
      "\u001b[1m296/296\u001b[0m \u001b[32m━━━━━━━━━━━━━━━━━━━━\u001b[0m\u001b[37m\u001b[0m \u001b[1m18s\u001b[0m 62ms/step - accuracy: 0.9408 - loss: 0.1794\n",
      "Epoch 15/30\n",
      "\u001b[1m296/296\u001b[0m \u001b[32m━━━━━━━━━━━━━━━━━━━━\u001b[0m\u001b[37m\u001b[0m \u001b[1m19s\u001b[0m 63ms/step - accuracy: 0.9486 - loss: 0.1627\n",
      "Epoch 16/30\n",
      "\u001b[1m296/296\u001b[0m \u001b[32m━━━━━━━━━━━━━━━━━━━━\u001b[0m\u001b[37m\u001b[0m \u001b[1m19s\u001b[0m 63ms/step - accuracy: 0.9533 - loss: 0.1512\n",
      "Epoch 17/30\n",
      "\u001b[1m296/296\u001b[0m \u001b[32m━━━━━━━━━━━━━━━━━━━━\u001b[0m\u001b[37m\u001b[0m \u001b[1m19s\u001b[0m 63ms/step - accuracy: 0.9527 - loss: 0.1603\n",
      "Epoch 18/30\n",
      "\u001b[1m296/296\u001b[0m \u001b[32m━━━━━━━━━━━━━━━━━━━━\u001b[0m\u001b[37m\u001b[0m \u001b[1m18s\u001b[0m 62ms/step - accuracy: 0.9526 - loss: 0.1517\n",
      "Epoch 19/30\n",
      "\u001b[1m296/296\u001b[0m \u001b[32m━━━━━━━━━━━━━━━━━━━━\u001b[0m\u001b[37m\u001b[0m \u001b[1m19s\u001b[0m 64ms/step - accuracy: 0.9539 - loss: 0.1508\n",
      "Epoch 20/30\n",
      "\u001b[1m296/296\u001b[0m \u001b[32m━━━━━━━━━━━━━━━━━━━━\u001b[0m\u001b[37m\u001b[0m \u001b[1m18s\u001b[0m 62ms/step - accuracy: 0.9627 - loss: 0.1292\n",
      "Epoch 21/30\n",
      "\u001b[1m296/296\u001b[0m \u001b[32m━━━━━━━━━━━━━━━━━━━━\u001b[0m\u001b[37m\u001b[0m \u001b[1m19s\u001b[0m 64ms/step - accuracy: 0.9617 - loss: 0.1240\n",
      "Epoch 22/30\n",
      "\u001b[1m296/296\u001b[0m \u001b[32m━━━━━━━━━━━━━━━━━━━━\u001b[0m\u001b[37m\u001b[0m \u001b[1m18s\u001b[0m 62ms/step - accuracy: 0.9611 - loss: 0.1332\n",
      "Epoch 23/30\n",
      "\u001b[1m296/296\u001b[0m \u001b[32m━━━━━━━━━━━━━━━━━━━━\u001b[0m\u001b[37m\u001b[0m \u001b[1m19s\u001b[0m 63ms/step - accuracy: 0.9656 - loss: 0.1199\n",
      "Epoch 24/30\n",
      "\u001b[1m296/296\u001b[0m \u001b[32m━━━━━━━━━━━━━━━━━━━━\u001b[0m\u001b[37m\u001b[0m \u001b[1m18s\u001b[0m 62ms/step - accuracy: 0.9710 - loss: 0.1082\n",
      "Epoch 25/30\n",
      "\u001b[1m296/296\u001b[0m \u001b[32m━━━━━━━━━━━━━━━━━━━━\u001b[0m\u001b[37m\u001b[0m \u001b[1m19s\u001b[0m 63ms/step - accuracy: 0.9710 - loss: 0.1062\n",
      "Epoch 26/30\n",
      "\u001b[1m296/296\u001b[0m \u001b[32m━━━━━━━━━━━━━━━━━━━━\u001b[0m\u001b[37m\u001b[0m \u001b[1m18s\u001b[0m 61ms/step - accuracy: 0.9705 - loss: 0.1056\n",
      "Epoch 27/30\n",
      "\u001b[1m296/296\u001b[0m \u001b[32m━━━━━━━━━━━━━━━━━━━━\u001b[0m\u001b[37m\u001b[0m \u001b[1m18s\u001b[0m 62ms/step - accuracy: 0.9739 - loss: 0.0933\n",
      "Epoch 28/30\n",
      "\u001b[1m296/296\u001b[0m \u001b[32m━━━━━━━━━━━━━━━━━━━━\u001b[0m\u001b[37m\u001b[0m \u001b[1m18s\u001b[0m 62ms/step - accuracy: 0.9760 - loss: 0.0923\n",
      "Epoch 29/30\n",
      "\u001b[1m296/296\u001b[0m \u001b[32m━━━━━━━━━━━━━━━━━━━━\u001b[0m\u001b[37m\u001b[0m \u001b[1m18s\u001b[0m 62ms/step - accuracy: 0.9756 - loss: 0.0937\n",
      "Epoch 30/30\n",
      "\u001b[1m296/296\u001b[0m \u001b[32m━━━━━━━━━━━━━━━━━━━━\u001b[0m\u001b[37m\u001b[0m \u001b[1m18s\u001b[0m 62ms/step - accuracy: 0.9758 - loss: 0.0898\n",
      "\n",
      "Metrics on Test Data:\n",
      "\u001b[1m74/74\u001b[0m \u001b[32m━━━━━━━━━━━━━━━━━━━━\u001b[0m\u001b[37m\u001b[0m \u001b[1m2s\u001b[0m 21ms/step - accuracy: 0.7620 - loss: 0.9700\n"
     ]
    }
   ],
   "source": [
    "lr = 0.0001\n",
    "batch_size = 32\n",
    "epochs = 30\n",
    "\n",
    "Trainer_rnn = Train_Model(model_rnn,lr,batch_size,epochs)\n",
    "Trainer_lstm = Train_Model(model_lstm,lr,batch_size,epochs)\n",
    "\n",
    "print(f'RNN model: ')\n",
    "model_rnn = Trainer_rnn.fit(X_train,y_train)\n",
    "Trainer_rnn.eval(X_test,y_test)\n",
    "\n",
    "print(f'LSTM model: ')\n",
    "model_lstm = Trainer_lstm.fit(X_train,y_train)\n",
    "Trainer_lstm.eval(X_test,y_test)"
   ]
  },
  {
   "cell_type": "code",
   "execution_count": 26,
   "metadata": {},
   "outputs": [
    {
     "name": "stdout",
     "output_type": "stream",
     "text": [
      "Reset my free trial, new phone I'd like to see if it's better. - negative\n"
     ]
    },
    {
     "data": {
      "text/plain": [
       "'negative'"
      ]
     },
     "execution_count": 26,
     "metadata": {},
     "output_type": "execute_result"
    }
   ],
   "source": [
    "review = df['content'].iloc[7]\n",
    "\n",
    "Sentiment(model_rnn,review)"
   ]
  },
  {
   "cell_type": "code",
   "execution_count": null,
   "metadata": {},
   "outputs": [],
   "source": []
  }
 ],
 "metadata": {
  "kernelspec": {
   "display_name": "Python 3",
   "language": "python",
   "name": "python3"
  },
  "language_info": {
   "codemirror_mode": {
    "name": "ipython",
    "version": 3
   },
   "file_extension": ".py",
   "mimetype": "text/x-python",
   "name": "python",
   "nbconvert_exporter": "python",
   "pygments_lexer": "ipython3",
   "version": "3.11.0"
  }
 },
 "nbformat": 4,
 "nbformat_minor": 2
}
