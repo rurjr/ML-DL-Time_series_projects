{
 "cells": [
  {
   "cell_type": "code",
   "execution_count": 1,
   "metadata": {},
   "outputs": [
    {
     "data": {
      "text/html": [
       "<svg  width=\"330\" height=\"55\"><rect x=\"0\" y=\"0\" width=\"55\" height=\"55\" style=\"fill:#35193e;stroke-width:2;stroke:rgb(255,255,255)\"/><rect x=\"55\" y=\"0\" width=\"55\" height=\"55\" style=\"fill:#701f57;stroke-width:2;stroke:rgb(255,255,255)\"/><rect x=\"110\" y=\"0\" width=\"55\" height=\"55\" style=\"fill:#ad1759;stroke-width:2;stroke:rgb(255,255,255)\"/><rect x=\"165\" y=\"0\" width=\"55\" height=\"55\" style=\"fill:#e13342;stroke-width:2;stroke:rgb(255,255,255)\"/><rect x=\"220\" y=\"0\" width=\"55\" height=\"55\" style=\"fill:#f37651;stroke-width:2;stroke:rgb(255,255,255)\"/><rect x=\"275\" y=\"0\" width=\"55\" height=\"55\" style=\"fill:#f6b48f;stroke-width:2;stroke:rgb(255,255,255)\"/></svg>"
      ],
      "text/plain": [
       "[(0.20973515, 0.09747934, 0.24238489),\n",
       " (0.43860848, 0.12177004, 0.34119475),\n",
       " (0.67824099, 0.09192342, 0.3504148),\n",
       " (0.8833417, 0.19830556, 0.26014181),\n",
       " (0.95381595, 0.46373781, 0.31769923),\n",
       " (0.96516917, 0.70776351, 0.5606593)]"
      ]
     },
     "execution_count": 1,
     "metadata": {},
     "output_type": "execute_result"
    }
   ],
   "source": [
    "import torch\n",
    "#import torchvision\n",
    "\n",
    "from torch.utils.data import DataLoader\n",
    "\n",
    "import os\n",
    "from PIL import Image\n",
    "\n",
    "import pandas as pd\n",
    "import numpy as np\n",
    "import matplotlib.pyplot as plt\n",
    "import seaborn as sns\n",
    "\n",
    "from sklearn.metrics import accuracy_score as accuracy\n",
    "\n",
    "from tqdm.auto import tqdm\n",
    "\n",
    "colors = sns.color_palette(\"rocket\")\n",
    "colors"
   ]
  },
  {
   "cell_type": "code",
   "execution_count": 2,
   "metadata": {},
   "outputs": [],
   "source": [
    "class Prior_Data_Analys:\n",
    "  def __init__(self,df):\n",
    "    self.df = df\n",
    "\n",
    "\n",
    "  def shape(self):\n",
    "    n_samples,n_columns = self.df.shape\n",
    "    print(f'Number of samples in Data Set: {n_samples}')\n",
    "    print(f'Number of columns: {n_columns}')\n",
    "\n",
    "    return n_samples,n_columns\n",
    "\n",
    "\n",
    "  def unique_columns(self):\n",
    "    columns = self.df.columns\n",
    "    print(f'Unique columns:\\n')\n",
    "\n",
    "    for column_idx,column in enumerate(columns):\n",
    "      print(f'Column {column_idx + 1}: {column}')\n",
    "\n",
    "    return columns\n",
    "\n",
    "\n",
    "  def columns_dtypes(self):\n",
    "    dtypes = self.df.dtypes\n",
    "    print(f'Dtypes:\\n\\n {dtypes}')\n",
    "\n",
    "    return dtypes\n",
    "\n",
    "\n",
    "  def categorical_features(self):\n",
    "    print(f'Categorical features:\\n')\n",
    "    categorical_feats = [column for column_idx,column in enumerate(self.df.columns) if self.df.dtypes[column_idx] == 'object']\n",
    "\n",
    "    for feature in categorical_feats:\n",
    "      print(f'* {feature}')\n",
    "\n",
    "    return np.array(categorical_feats)\n",
    "\n",
    "\n",
    "  def numerical_features(self):\n",
    "    print(f'Numerical features: \\n')\n",
    "\n",
    "    numerical_feats = [column for column_idx,column in enumerate(self.df.columns) if self.df.dtypes[column_idx] != 'object']\n",
    "    for feature in numerical_feats:\n",
    "      print(f'* {feature}')\n",
    "\n",
    "    return np.array(numerical_feats)\n",
    "\n",
    "\n",
    "  def group_by(self,feature):\n",
    "    categorical = self.categorical_features()\n",
    "\n",
    "    if feature in categorical:\n",
    "      return self.df.groupby([feature]).count()\n",
    "\n",
    "    else:\n",
    "      return self.df.groupby([feature]).describe()\n",
    "\n",
    "\n",
    "  def count_NA(self):\n",
    "    print(f'Amout of Nans per class:')\n",
    "    return self.df.isna().sum()\n",
    "\n",
    "\n",
    "  def duplicates(self):\n",
    "    print(f'Amount of duplicates: {self.df.duplicated().sum()}')\n",
    "\n",
    "  def item(self,index):\n",
    "    print(f'Object number: {index}')\n",
    "\n",
    "    return self.df.iloc[index]\n",
    "\n",
    "  def unique_values(self,feature):\n",
    "    data = self.df[feature]\n",
    "\n",
    "    values = data.values\n",
    "    unique_values = np.unique(values)\n",
    "    print(f'Unique values of {feature}: {unique_values}')\n",
    "\n",
    "    return unique_values"
   ]
  },
  {
   "cell_type": "code",
   "execution_count": 3,
   "metadata": {},
   "outputs": [],
   "source": [
    "class Distribution:\n",
    "  def __init__(self,df,target_feature):\n",
    "    self.df = df\n",
    "    self.target_feature = target_feature\n",
    "    self._eda = Prior_Data_Analys(self.df)\n",
    "\n",
    "\n",
    "  def distribution_of_target_feature(self):\n",
    "    for visualization in range(2):\n",
    "      plt.figure(figsize = (10,10))\n",
    "      plt.subplot(2,1,visualization + 1)\n",
    "      if visualization == 0:\n",
    "        sns.histplot(data = self.df,x = self.target_feature,color = colors[3])\n",
    "        plt.title(f'Distribution of Target feature: {self.target_feature}')\n",
    "        plt.show()\n",
    "\n",
    "      else:\n",
    "        sns.boxplot(x = self.df[self.target_feature],color = colors[3])\n",
    "        plt.title(f'Distribution of Target feature: {self.target_feature}')\n",
    "        plt.show()\n",
    "\n",
    "\n",
    "  def distribution_of_numerical_features(self):\n",
    "    numerical_features = self._eda.numerical_features()\n",
    "\n",
    "    for feature_idx,feature in enumerate(numerical_features):\n",
    "      plt.figure(figsize = (15,15))\n",
    "      plt.subplot(len(numerical_features) // 2 + 1 , 2 , feature_idx + 1)\n",
    "      sns.histplot(data = self.df,x = feature,color = colors[1])\n",
    "      plt.title(f'Distibution of {feature}')\n",
    "      plt.tight_layout\n",
    "      plt.show()\n",
    "\n",
    "\n",
    "  def distribution_of_categorical_features(self,top_k = 5):\n",
    "    categorical_features = self._eda.categorical_features()\n",
    "    plt.figure(figsize = (20,20))\n",
    "\n",
    "    for feature_idx,feature in enumerate(categorical_features):\n",
    "\n",
    "      values = self._eda.group_by(feature)[self.target_feature].sort_values(ascending = False).values[:top_k]\n",
    "      labels = self._eda.group_by(feature)[self.target_feature].sort_values(ascending = False).index[:top_k]\n",
    "\n",
    "      data_dict = {'Labels': labels, 'Values': values}\n",
    "      data = pd.DataFrame(data_dict)\n",
    "\n",
    "      plt.subplot(len(categorical_features) // 2 + 1 , 2 , feature_idx + 1)\n",
    "      sns.barplot(data = data,y = 'Labels',x = 'Values',color = colors[-1])\n",
    "      plt.title(f'Top {top_k} {feature} by count')\n",
    "\n",
    "    plt.tight_layout()\n",
    "    plt.show()\n",
    "\n",
    "  def relation_numerical_feats_to_target_feat(self):\n",
    "    numerical_features = self._eda.numerical_features()\n",
    "\n",
    "    data = self.df[numerical_features]\n",
    "    corr = data.corr()\n",
    "\n",
    "    return sns.heatmap(corr,annot = True, cmap = sns.cubehelix_palette(start=.5, rot=-.5, as_cmap=True))\n",
    "\n",
    "  def relation_categorical_feats_to_target_feat(self,top_k = 3):\n",
    "    categorical_features = self._eda.categorical_features()\n",
    "    plt.figure(figsize = (20,20))\n",
    "\n",
    "    for feature_idx,feature in enumerate(categorical_features):\n",
    "\n",
    "      feats = self._eda.group_by(feature)[self.target_feature].sort_values(ascending = False)[:top_k].index\n",
    "\n",
    "      data = self.df\n",
    "      data = data[data[feature].isin(feats)]\n",
    "\n",
    "      plt.subplot(len(categorical_features) // 2 + 1 , 2 , feature_idx + 1)\n",
    "      sns.stripplot(data = data, x = feature, y = self.target_feature,hue = feature)\n",
    "      plt.title(f'Relation between {feature} (top {top_k}) & {self.target_feature}')\n",
    "\n",
    "    plt.tight_layout()\n",
    "    plt.show()"
   ]
  },
  {
   "cell_type": "code",
   "execution_count": 4,
   "metadata": {},
   "outputs": [],
   "source": [
    "class Image_Df:        \n",
    "    def _data_from_path(self,path):\n",
    "        file_names = None\n",
    "        \n",
    "        for _, _,filenames in os.walk(path):\n",
    "            file_names = filenames\n",
    "            \n",
    "        labels = [0 if file_name.split('_')[0] == 'notsmoking' else 1 for file_name in file_names]\n",
    "        \n",
    "        return np.array(file_names),np.array(labels)\n",
    "\n",
    "        \n",
    "    def create_df(self,path):\n",
    "        images,labels = self._data_from_path(path)\n",
    "        \n",
    "        df_dict = {'Image': images, 'Label': labels}\n",
    "        df = pd.DataFrame(df_dict)\n",
    "        \n",
    "        return df"
   ]
  },
  {
   "cell_type": "code",
   "execution_count": 5,
   "metadata": {},
   "outputs": [],
   "source": [
    "class CustomDataset(torch.utils.data.Dataset):\n",
    "    def __init__(self,df,folder_path,transform = None):\n",
    "        super().__init__()\n",
    "        self.df = df\n",
    "        self.folder_path = folder_path\n",
    "        self.transform = transform\n",
    "        \n",
    "    def __len__(self):\n",
    "        return len(self.df)\n",
    "    \n",
    "    def __getitem__(self,index):\n",
    "        image_path = self.df.iloc[index]['Image']\n",
    "        image = Image.open(os.path.join(self.folder_path,image_path))\n",
    "        \n",
    "        label = self.df.iloc[index]['Label']\n",
    "        \n",
    "        if self.transform != None:\n",
    "            image = self.transform(image)\n",
    "        \n",
    "        return image,label"
   ]
  },
  {
   "cell_type": "code",
   "execution_count": 6,
   "metadata": {},
   "outputs": [],
   "source": [
    "class CNN(torch.nn.Module):\n",
    "    def __init__(self,in_channels,n_classes):\n",
    "        super().__init__()\n",
    "        self.in_channels = in_channels\n",
    "        self.n_classes = n_classes\n",
    "        \n",
    "        self.conv_1_1 = torch.nn.Conv2d(in_channels = in_channels,out_channels = 32,kernel_size = 3)\n",
    "        self.conv_1_2 = torch.nn.Conv2d(in_channels = 32,out_channels = 32,kernel_size = 3)\n",
    "        self.conv_2_1 = torch.nn.Conv2d(in_channels = 32,out_channels = 32,kernel_size = 3)\n",
    "        self.conv_2_2 = torch.nn.Conv2d(in_channels = 32,out_channels = 32,kernel_size = 3)\n",
    "        \n",
    "        self.max_pool = torch.nn.MaxPool2d(kernel_size = 5,stride = 5)\n",
    "        self.relu = torch.nn.ReLU()\n",
    "        \n",
    "        self.linear_1 = torch.nn.Linear(in_features = 1568 , out_features = 128)\n",
    "        self.linear_2 = torch.nn.Linear(in_features = 128 ,out_features = n_classes)\n",
    "        self.softmax = torch.nn.Softmax(1)\n",
    "        \n",
    "    def forward(self,X):\n",
    "        X = self.conv_1_1(X)\n",
    "        X = self.relu(X)\n",
    "        \n",
    "        X = self.conv_1_2(X)\n",
    "        X = self.relu(X)\n",
    "        X = self.max_pool(X)\n",
    "\n",
    "        \n",
    "        X = self.conv_2_1(X)\n",
    "        X = self.relu(X)\n",
    "        \n",
    "        X = self.conv_2_2(X)\n",
    "        X = self.relu(X)\n",
    "        X = self.max_pool(X)\n",
    "        \n",
    "        X = torch.flatten(X,1)\n",
    "        \n",
    "        X = self.linear_1(X)\n",
    "        X = self.relu(X)\n",
    "        \n",
    "        X = self.linear_2(X)\n",
    "        \n",
    "        return X"
   ]
  },
  {
   "cell_type": "code",
   "execution_count": 7,
   "metadata": {},
   "outputs": [],
   "source": [
    "class Train_Model:\n",
    "    def __init__(self,model,optimizer,loss_function,epochs = 10):\n",
    "        self.model = model\n",
    "        self.optimizer = optimizer\n",
    "        self.loss_function  = loss_function\n",
    "        self.epochs = epochs\n",
    "    \n",
    "    def fit(self,train_data_batched):\n",
    "        self.model.train()\n",
    "        train_batch_loss = 0\n",
    "        train_batch_acc = 0\n",
    "        \n",
    "        for epoch in tqdm(range(self.epochs + 1)):\n",
    "            for batch,(X_train,y_train) in tqdm(enumerate(train_data_batched)):\n",
    "                train_prediction = self.model(X_train)\n",
    "                train_labels = torch.argmax(train_prediction,1)\n",
    "                \n",
    "                train_loss = self.loss_function(train_prediction,y_train)\n",
    "                train_acc = accuracy(y_train,train_labels)\n",
    "                \n",
    "                train_batch_loss += train_loss\n",
    "                train_batch_acc += train_acc\n",
    "                \n",
    "                self.optimizer.zero_grad()\n",
    "                train_loss.backward()\n",
    "                self.optimizer.step()\n",
    "                \n",
    "            train_batch_loss /= len(train_data_batched)\n",
    "            train_batch_acc /= len(train_data_batched)\n",
    "            \n",
    "            if epoch % 1 == 0:\n",
    "                print(f'Epoch: {epoch} | Train Loss: {train_batch_loss} | Train Accuracy: {train_batch_acc}')\n",
    "    \n",
    "    def eval(self,test_data_batched):\n",
    "        self.model.eval()\n",
    "        test_batch_loss = 0\n",
    "        test_batch_acc = 0\n",
    "        \n",
    "        for batch,(X_test,y_test) in enumerate(test_data_batched):\n",
    "            test_prediction = self.model(X_test)\n",
    "            test_labels = torch.argmax(test_prediction,1)\n",
    "            \n",
    "            test_loss = self.loss_function(test_prediction,y_test)\n",
    "            test_acc = accuracy(y_test,test_labels)\n",
    "            \n",
    "            test_batch_loss += test_loss\n",
    "            test_batch_acc += test_acc\n",
    "            \n",
    "        test_batch_loss /= len(test_data_batched)\n",
    "        test_batch_acc /= len(test_data_batched)\n",
    "        \n",
    "        print(f'Test Loss: {test_batch_loss} | Test Accuracy: {test_batch_acc}')"
   ]
  },
  {
   "cell_type": "code",
   "execution_count": 8,
   "metadata": {},
   "outputs": [],
   "source": [
    "def Classifie(model,image_path):\n",
    "    transforms = torchvision.transforms.Compose([\n",
    "    torchvision.transforms.Resize(size = (200,200)),\n",
    "    torchvision.transforms.ToTensor(),\n",
    "    torchvision.transforms.Normalize((0.485, 0.456, 0.406), (0.229, 0.224, 0.225))\n",
    "    ])\n",
    "    \n",
    "    image = Image.open(image_path)\n",
    "    image = transforms(image)\n",
    "    \n",
    "    prediction = model(image.unsqueeze(0))\n",
    "    model_confidence = torch.max(prediction).item()\n",
    "    \n",
    "    label = torch.argmax(prediction).item()\n",
    "    label_class = 'notsmoking' if label == 0 else 'smoking'\n",
    "\n",
    "    \n",
    "    return label_class,model_confidence"
   ]
  },
  {
   "cell_type": "code",
   "execution_count": 9,
   "metadata": {},
   "outputs": [],
   "source": [
    "train_path = '/Users/nazarlenisin/Desktop/Image Classification/Training/Training'\n",
    "test_path = '/Users/nazarlenisin/Desktop/Image Classification/Testing/Testing'"
   ]
  },
  {
   "cell_type": "code",
   "execution_count": 10,
   "metadata": {},
   "outputs": [
    {
     "data": {
      "text/html": [
       "<div>\n",
       "<style scoped>\n",
       "    .dataframe tbody tr th:only-of-type {\n",
       "        vertical-align: middle;\n",
       "    }\n",
       "\n",
       "    .dataframe tbody tr th {\n",
       "        vertical-align: top;\n",
       "    }\n",
       "\n",
       "    .dataframe thead th {\n",
       "        text-align: right;\n",
       "    }\n",
       "</style>\n",
       "<table border=\"1\" class=\"dataframe\">\n",
       "  <thead>\n",
       "    <tr style=\"text-align: right;\">\n",
       "      <th></th>\n",
       "      <th>Image</th>\n",
       "      <th>Label</th>\n",
       "    </tr>\n",
       "  </thead>\n",
       "  <tbody>\n",
       "    <tr>\n",
       "      <th>0</th>\n",
       "      <td>notsmoking_0098.jpg</td>\n",
       "      <td>0</td>\n",
       "    </tr>\n",
       "    <tr>\n",
       "      <th>1</th>\n",
       "      <td>smoking_0143.jpg</td>\n",
       "      <td>1</td>\n",
       "    </tr>\n",
       "    <tr>\n",
       "      <th>2</th>\n",
       "      <td>notsmoking_0067.jpg</td>\n",
       "      <td>0</td>\n",
       "    </tr>\n",
       "    <tr>\n",
       "      <th>3</th>\n",
       "      <td>smoking_0194.jpg</td>\n",
       "      <td>1</td>\n",
       "    </tr>\n",
       "    <tr>\n",
       "      <th>4</th>\n",
       "      <td>smoking_0180.jpg</td>\n",
       "      <td>1</td>\n",
       "    </tr>\n",
       "    <tr>\n",
       "      <th>...</th>\n",
       "      <td>...</td>\n",
       "      <td>...</td>\n",
       "    </tr>\n",
       "    <tr>\n",
       "      <th>711</th>\n",
       "      <td>smoking_0370.jpg</td>\n",
       "      <td>1</td>\n",
       "    </tr>\n",
       "    <tr>\n",
       "      <th>712</th>\n",
       "      <td>smoking_0416.jpg</td>\n",
       "      <td>1</td>\n",
       "    </tr>\n",
       "    <tr>\n",
       "      <th>713</th>\n",
       "      <td>notsmoking_0056.jpg</td>\n",
       "      <td>0</td>\n",
       "    </tr>\n",
       "    <tr>\n",
       "      <th>714</th>\n",
       "      <td>notsmoking_0042.jpg</td>\n",
       "      <td>0</td>\n",
       "    </tr>\n",
       "    <tr>\n",
       "      <th>715</th>\n",
       "      <td>smoking_0166.jpg</td>\n",
       "      <td>1</td>\n",
       "    </tr>\n",
       "  </tbody>\n",
       "</table>\n",
       "<p>716 rows × 2 columns</p>\n",
       "</div>"
      ],
      "text/plain": [
       "                   Image  Label\n",
       "0    notsmoking_0098.jpg      0\n",
       "1       smoking_0143.jpg      1\n",
       "2    notsmoking_0067.jpg      0\n",
       "3       smoking_0194.jpg      1\n",
       "4       smoking_0180.jpg      1\n",
       "..                   ...    ...\n",
       "711     smoking_0370.jpg      1\n",
       "712     smoking_0416.jpg      1\n",
       "713  notsmoking_0056.jpg      0\n",
       "714  notsmoking_0042.jpg      0\n",
       "715     smoking_0166.jpg      1\n",
       "\n",
       "[716 rows x 2 columns]"
      ]
     },
     "execution_count": 10,
     "metadata": {},
     "output_type": "execute_result"
    }
   ],
   "source": [
    "train_df = Image_Df().create_df(train_path)\n",
    "test_df = Image_Df().create_df(test_path)\n",
    "train_df"
   ]
  },
  {
   "cell_type": "code",
   "execution_count": 11,
   "metadata": {},
   "outputs": [],
   "source": [
    "target_feature = 'Label'\n",
    "\n",
    "eda = Prior_Data_Analys(train_df)\n",
    "data_visualization = Distribution(train_df,target_feature = target_feature)"
   ]
  },
  {
   "cell_type": "code",
   "execution_count": 12,
   "metadata": {},
   "outputs": [
    {
     "name": "stdout",
     "output_type": "stream",
     "text": [
      "Number of samples in Data Set: 716\n",
      "Number of columns: 2\n"
     ]
    },
    {
     "data": {
      "text/plain": [
       "(716, 2)"
      ]
     },
     "execution_count": 12,
     "metadata": {},
     "output_type": "execute_result"
    }
   ],
   "source": [
    "eda.shape()"
   ]
  },
  {
   "cell_type": "code",
   "execution_count": 13,
   "metadata": {},
   "outputs": [
    {
     "name": "stdout",
     "output_type": "stream",
     "text": [
      "Unique columns:\n",
      "\n",
      "Column 1: Image\n",
      "Column 2: Label\n"
     ]
    },
    {
     "data": {
      "text/plain": [
       "Index(['Image', 'Label'], dtype='object')"
      ]
     },
     "execution_count": 13,
     "metadata": {},
     "output_type": "execute_result"
    }
   ],
   "source": [
    "eda.unique_columns()"
   ]
  },
  {
   "cell_type": "code",
   "execution_count": 14,
   "metadata": {},
   "outputs": [
    {
     "name": "stdout",
     "output_type": "stream",
     "text": [
      "Dtypes:\n",
      "\n",
      " Image    object\n",
      "Label     int64\n",
      "dtype: object\n"
     ]
    },
    {
     "data": {
      "text/plain": [
       "Image    object\n",
       "Label     int64\n",
       "dtype: object"
      ]
     },
     "execution_count": 14,
     "metadata": {},
     "output_type": "execute_result"
    }
   ],
   "source": [
    "eda.columns_dtypes()"
   ]
  },
  {
   "cell_type": "code",
   "execution_count": 15,
   "metadata": {},
   "outputs": [
    {
     "name": "stdout",
     "output_type": "stream",
     "text": [
      "Categorical features:\n",
      "\n",
      "* Image\n"
     ]
    },
    {
     "name": "stderr",
     "output_type": "stream",
     "text": [
      "/var/folders/k9/6y59tr5d45s1nynfg_sv5zr80000gn/T/ipykernel_33798/2509911963.py:33: FutureWarning: Series.__getitem__ treating keys as positions is deprecated. In a future version, integer keys will always be treated as labels (consistent with DataFrame behavior). To access a value by position, use `ser.iloc[pos]`\n",
      "  categorical_feats = [column for column_idx,column in enumerate(self.df.columns) if self.df.dtypes[column_idx] == 'object']\n",
      "/var/folders/k9/6y59tr5d45s1nynfg_sv5zr80000gn/T/ipykernel_33798/2509911963.py:33: FutureWarning: Series.__getitem__ treating keys as positions is deprecated. In a future version, integer keys will always be treated as labels (consistent with DataFrame behavior). To access a value by position, use `ser.iloc[pos]`\n",
      "  categorical_feats = [column for column_idx,column in enumerate(self.df.columns) if self.df.dtypes[column_idx] == 'object']\n"
     ]
    },
    {
     "data": {
      "text/plain": [
       "array(['Image'], dtype='<U5')"
      ]
     },
     "execution_count": 15,
     "metadata": {},
     "output_type": "execute_result"
    }
   ],
   "source": [
    "eda.categorical_features()"
   ]
  },
  {
   "cell_type": "code",
   "execution_count": 16,
   "metadata": {},
   "outputs": [
    {
     "name": "stdout",
     "output_type": "stream",
     "text": [
      "Numerical features: \n",
      "\n",
      "* Label\n"
     ]
    },
    {
     "name": "stderr",
     "output_type": "stream",
     "text": [
      "/var/folders/k9/6y59tr5d45s1nynfg_sv5zr80000gn/T/ipykernel_33798/2509911963.py:44: FutureWarning: Series.__getitem__ treating keys as positions is deprecated. In a future version, integer keys will always be treated as labels (consistent with DataFrame behavior). To access a value by position, use `ser.iloc[pos]`\n",
      "  numerical_feats = [column for column_idx,column in enumerate(self.df.columns) if self.df.dtypes[column_idx] != 'object']\n",
      "/var/folders/k9/6y59tr5d45s1nynfg_sv5zr80000gn/T/ipykernel_33798/2509911963.py:44: FutureWarning: Series.__getitem__ treating keys as positions is deprecated. In a future version, integer keys will always be treated as labels (consistent with DataFrame behavior). To access a value by position, use `ser.iloc[pos]`\n",
      "  numerical_feats = [column for column_idx,column in enumerate(self.df.columns) if self.df.dtypes[column_idx] != 'object']\n"
     ]
    },
    {
     "data": {
      "text/plain": [
       "array(['Label'], dtype='<U5')"
      ]
     },
     "execution_count": 16,
     "metadata": {},
     "output_type": "execute_result"
    }
   ],
   "source": [
    "eda.numerical_features()"
   ]
  },
  {
   "cell_type": "code",
   "execution_count": 17,
   "metadata": {},
   "outputs": [
    {
     "name": "stdout",
     "output_type": "stream",
     "text": [
      "Amout of Nans per class:\n"
     ]
    },
    {
     "data": {
      "text/plain": [
       "Image    0\n",
       "Label    0\n",
       "dtype: int64"
      ]
     },
     "execution_count": 17,
     "metadata": {},
     "output_type": "execute_result"
    }
   ],
   "source": [
    "eda.count_NA()"
   ]
  },
  {
   "cell_type": "code",
   "execution_count": 18,
   "metadata": {},
   "outputs": [
    {
     "name": "stdout",
     "output_type": "stream",
     "text": [
      "Amount of duplicates: 0\n"
     ]
    }
   ],
   "source": [
    "eda.duplicates()"
   ]
  },
  {
   "cell_type": "code",
   "execution_count": 19,
   "metadata": {},
   "outputs": [
    {
     "name": "stdout",
     "output_type": "stream",
     "text": [
      "Unique values of Label: [0 1]\n"
     ]
    },
    {
     "data": {
      "text/plain": [
       "array([0, 1])"
      ]
     },
     "execution_count": 19,
     "metadata": {},
     "output_type": "execute_result"
    }
   ],
   "source": [
    "eda.unique_values(target_feature)"
   ]
  },
  {
   "cell_type": "code",
   "execution_count": 20,
   "metadata": {},
   "outputs": [
    {
     "data": {
      "image/png": "[encoded data removed]",
      "text/plain": [
       "<Figure size 1000x1000 with 1 Axes>"
      ]
     },
     "metadata": {},
     "output_type": "display_data"
    },
    {
     "data": {
      "image/png": "[encoded data removed]",
      "text/plain": [
       "<Figure size 1000x1000 with 1 Axes>"
      ]
     },
     "metadata": {},
     "output_type": "display_data"
    }
   ],
   "source": [
    "data_visualization.distribution_of_target_feature()"
   ]
  },
  {
   "cell_type": "code",
   "execution_count": 21,
   "metadata": {},
   "outputs": [
    {
     "name": "stdout",
     "output_type": "stream",
     "text": [
      "Example Batch from Train Dataset:\n",
      "Batched Images (torch.Size([32, 3, 200, 200])): tensor([[[[ 0.4166,  0.4166,  0.4166,  ...,  0.1426,  0.2453,  0.2624],\n",
      "          [ 0.4337,  0.4337,  0.4337,  ...,  0.1426,  0.2453,  0.4508],\n",
      "          [ 0.4337,  0.4337,  0.4337,  ...,  0.2282,  0.2453,  0.4337],\n",
      "          ...,\n",
      "          [ 2.0092,  1.9578,  1.9235,  ..., -0.0116,  0.1083,  0.0398],\n",
      "          [ 1.9749,  1.9235,  1.9064,  ...,  0.0741,  0.1254, -0.0287],\n",
      "          [ 1.9578,  1.9235,  1.9235,  ...,  0.1426,  0.0741, -0.0287]],\n",
      "\n",
      "         [[ 1.1856,  1.1856,  1.1856,  ..., -0.3200, -0.2675, -0.2325],\n",
      "          [ 1.2031,  1.2031,  1.2031,  ..., -0.3025, -0.3025, -0.1275],\n",
      "          [ 1.2031,  1.2031,  1.2031,  ..., -0.2325, -0.2675, -0.1800],\n",
      "          ...,\n",
      "          [ 1.4132,  1.3606,  1.3256,  ..., -0.7927, -0.6702, -0.7402],\n",
      "          [ 1.3782,  1.3256,  1.3081,  ..., -0.7052, -0.6527, -0.8102],\n",
      "          [ 1.3606,  1.3256,  1.3256,  ..., -0.6352, -0.7052, -0.8102]],\n",
      "\n",
      "         [[ 2.3088,  2.3088,  2.3088,  ..., -0.3230, -0.2707, -0.3055],\n",
      "          [ 2.3263,  2.3263,  2.3263,  ..., -0.3230, -0.3055, -0.1487],\n",
      "          [ 2.3263,  2.3263,  2.3263,  ..., -0.2532, -0.2881, -0.1835],\n",
      "          ...,\n",
      "          [ 1.1411,  1.1062,  1.0539,  ..., -0.9330, -0.8284, -0.9156],\n",
      "          [ 1.1237,  1.0714,  1.0191,  ..., -0.8633, -0.8458, -0.9853],\n",
      "          [ 1.1062,  1.0539,  1.0365,  ..., -0.8110, -0.8807, -0.9678]]],\n",
      "\n",
      "\n",
      "        [[[ 0.9474,  1.1187,  0.9988,  ...,  1.2385,  0.9988,  0.5707],\n",
      "          [ 0.8276,  1.0331,  1.0502,  ...,  1.2385,  1.0844,  0.8447],\n",
      "          [ 0.8447,  1.0331,  1.1015,  ...,  1.2385,  1.1358,  1.0844],\n",
      "          ...,\n",
      "          [-1.9809, -1.8097, -1.5014,  ...,  1.4954,  1.4954,  1.4440],\n",
      "          [-1.9809, -1.7240, -1.4672,  ...,  1.4954,  1.5125,  1.5125],\n",
      "          [-1.8953, -1.6555, -1.4672,  ...,  1.4612,  1.4783,  1.5125]],\n",
      "\n",
      "         [[ 1.0630,  1.1155,  0.8880,  ...,  1.3606,  1.1506,  0.7304],\n",
      "          [ 0.9580,  1.1331,  1.0805,  ...,  1.3782,  1.1856,  0.9230],\n",
      "          [ 0.7654,  1.0105,  1.1331,  ...,  1.3957,  1.2381,  1.1331],\n",
      "          ...,\n",
      "          [-1.8957, -1.6331, -1.2479,  ...,  1.6933,  1.6933,  1.6408],\n",
      "          [-1.8782, -1.5455, -1.2129,  ...,  1.6933,  1.7108,  1.7108],\n",
      "          [-1.7731, -1.4580, -1.2129,  ...,  1.6232,  1.6583,  1.7108]],\n",
      "\n",
      "         [[ 0.9842,  1.0714,  0.8448,  ...,  1.3502,  1.0539,  0.5834],\n",
      "          [ 0.9145,  1.0714,  1.0191,  ...,  1.4025,  1.1062,  0.7751],\n",
      "          [ 0.8099,  1.0017,  1.0714,  ...,  1.4548,  1.2457,  1.0888],\n",
      "          ...,\n",
      "          [-1.5779, -1.3339, -0.9504,  ...,  1.8383,  1.8731,  1.8034],\n",
      "          [-1.5604, -1.2293, -0.8981,  ...,  1.8557,  1.8731,  1.8731],\n",
      "          [-1.4559, -1.1421, -0.8981,  ...,  1.8034,  1.8208,  1.8731]]],\n",
      "\n",
      "\n",
      "        [[[-2.0152, -2.0323, -2.0494,  ..., -0.3541, -0.4739, -0.5596],\n",
      "          [-2.0323, -2.0323, -2.0494,  ..., -0.3712, -0.4911, -0.5938],\n",
      "          [-2.0323, -2.0494, -2.0323,  ..., -0.3541, -0.4911, -0.6281],\n",
      "          ...,\n",
      "          [-0.8849, -0.9192, -0.9020,  ...,  0.3823,  0.3652,  0.3481],\n",
      "          [-0.9020, -0.9020, -0.8507,  ...,  0.4337,  0.3652,  0.3994],\n",
      "          [-0.9534, -0.9020, -0.8507,  ...,  0.3994,  0.3481,  0.3994]],\n",
      "\n",
      "         [[ 0.0476,  0.0651,  0.0476,  ...,  1.0105,  0.9755,  0.9580],\n",
      "          [ 0.0476,  0.0651,  0.0651,  ...,  0.9930,  0.9755,  0.9580],\n",
      "          [ 0.0651,  0.0476,  0.0476,  ...,  0.9755,  0.9580,  0.9230],\n",
      "          ...,\n",
      "          [-0.1450, -0.1275, -0.0924,  ...,  0.7129,  0.7654,  0.7829],\n",
      "          [-0.1800, -0.1450, -0.0924,  ...,  0.7829,  0.7654,  0.8354],\n",
      "          [-0.2325, -0.1625, -0.1099,  ...,  0.7479,  0.7479,  0.8354]],\n",
      "\n",
      "         [[ 1.7163,  1.7337,  1.7163,  ...,  2.2217,  2.2566,  2.2566],\n",
      "          [ 1.7163,  1.7337,  1.7337,  ...,  2.2043,  2.2740,  2.2914],\n",
      "          [ 1.7337,  1.7163,  1.7337,  ...,  2.2043,  2.2566,  2.2391],\n",
      "          ...,\n",
      "          [-1.5081, -1.4384, -1.4384,  ...,  1.3154,  1.3154,  1.2282],\n",
      "          [-1.4907, -1.4384, -1.4036,  ...,  1.3677,  1.3154,  1.2805],\n",
      "          [-1.5256, -1.4733, -1.4210,  ...,  1.2980,  1.3154,  1.2980]]],\n",
      "\n",
      "\n",
      "        ...,\n",
      "\n",
      "\n",
      "        [[[-0.9192, -1.0390, -1.1075,  ...,  2.2147,  2.2147,  2.2147],\n",
      "          [-0.9020, -1.0219, -1.0733,  ...,  2.2147,  2.2147,  2.2147],\n",
      "          [-0.9363, -1.0219, -1.0219,  ...,  2.2147,  2.2147,  2.2147],\n",
      "          ...,\n",
      "          [ 1.4954,  1.5125,  1.5297,  ...,  0.0398,  0.0398,  0.0398],\n",
      "          [ 1.3242,  1.3413,  1.3755,  ...,  0.0741,  0.0741,  0.0569],\n",
      "          [ 1.3413,  1.3413,  1.3755,  ...,  0.0912,  0.0741,  0.0741]],\n",
      "\n",
      "         [[-0.6702, -0.8803, -1.0028,  ...,  2.3936,  2.3936,  2.3936],\n",
      "          [-0.6702, -0.8803, -0.9678,  ...,  2.3936,  2.3936,  2.3936],\n",
      "          [-0.6527, -0.8627, -0.8803,  ...,  2.3936,  2.3936,  2.3936],\n",
      "          ...,\n",
      "          [ 1.7283,  1.7458,  1.7808,  ...,  0.4153,  0.4153,  0.4153],\n",
      "          [ 1.5532,  1.5707,  1.5882,  ...,  0.4503,  0.4503,  0.4328],\n",
      "          [ 1.5182,  1.5182,  1.5357,  ...,  0.4678,  0.4503,  0.4503]],\n",
      "\n",
      "         [[-0.3927, -0.6193, -0.7413,  ...,  2.6051,  2.6051,  2.6051],\n",
      "          [-0.3927, -0.6018, -0.6890,  ...,  2.6051,  2.6051,  2.6051],\n",
      "          [-0.4101, -0.5844, -0.6018,  ...,  2.6051,  2.6051,  2.6051],\n",
      "          ...,\n",
      "          [ 1.8905,  1.9080,  1.9254,  ...,  0.6531,  0.6531,  0.6531],\n",
      "          [ 1.6465,  1.6640,  1.6988,  ...,  0.6879,  0.6879,  0.6705],\n",
      "          [ 1.5942,  1.6117,  1.6291,  ...,  0.7054,  0.6879,  0.6879]]],\n",
      "\n",
      "\n",
      "        [[[-2.0323, -2.0323, -2.0152,  ..., -0.3883, -0.3541, -0.3369],\n",
      "          [-2.0323, -2.0665, -2.0152,  ..., -0.4054, -0.3712, -0.3712],\n",
      "          [-2.0494, -2.0665, -2.0323,  ..., -0.4568, -0.4226, -0.3883],\n",
      "          ...,\n",
      "          [-2.0837, -2.0837, -2.0665,  ..., -0.6452, -0.6281, -0.6965],\n",
      "          [-2.0837, -2.0837, -2.0837,  ..., -0.6794, -0.6794, -0.7650],\n",
      "          [-2.0837, -2.0837, -2.0837,  ..., -0.6965, -0.7308, -0.7822]],\n",
      "\n",
      "         [[-1.9307, -1.8957, -1.8431,  ..., -0.3550, -0.3200, -0.3200],\n",
      "          [-1.9307, -1.9132, -1.8256,  ..., -0.3901, -0.3550, -0.3375],\n",
      "          [-1.9482, -1.9307, -1.8431,  ..., -0.4251, -0.3901, -0.3550],\n",
      "          ...,\n",
      "          [-1.9832, -1.9832, -1.9657,  ..., -1.2829, -1.2829, -1.3179],\n",
      "          [-1.9832, -1.9832, -1.9832,  ..., -1.3179, -1.2829, -1.3179],\n",
      "          [-1.9832, -1.9832, -1.9832,  ..., -1.3004, -1.3004, -1.3179]],\n",
      "\n",
      "         [[-1.3339, -1.2816, -1.2293,  ..., -0.6715, -0.6193, -0.5670],\n",
      "          [-1.3513, -1.3164, -1.2293,  ..., -0.6890, -0.6193, -0.6193],\n",
      "          [-1.3513, -1.3164, -1.2641,  ..., -0.7064, -0.6715, -0.6367],\n",
      "          ...,\n",
      "          [-1.4036, -1.3861, -1.3861,  ..., -1.1944, -1.1596, -1.1421],\n",
      "          [-1.4036, -1.4036, -1.3861,  ..., -1.1944, -1.1421, -1.1596],\n",
      "          [-1.3861, -1.4036, -1.4036,  ..., -1.1770, -1.1421, -1.1421]]],\n",
      "\n",
      "\n",
      "        [[[ 1.8550,  1.8550,  1.8893,  ...,  2.2489,  2.2489,  2.2489],\n",
      "          [ 1.8722,  1.8722,  1.8893,  ...,  2.2489,  2.2489,  2.2489],\n",
      "          [ 1.8722,  1.8722,  1.8893,  ...,  2.2489,  2.2489,  2.2489],\n",
      "          ...,\n",
      "          [ 0.4508,  0.5707,  0.6734,  ...,  2.2489,  2.2489,  2.2489],\n",
      "          [ 0.5193,  0.5193,  0.5364,  ...,  2.2489,  2.2489,  2.2489],\n",
      "          [ 0.5022,  0.4679,  0.4679,  ...,  2.2489,  2.2489,  2.2489]],\n",
      "\n",
      "         [[ 1.5357,  1.5357,  1.5707,  ...,  2.3235,  2.3235,  2.3235],\n",
      "          [ 1.5532,  1.5532,  1.5707,  ...,  2.3235,  2.3235,  2.3235],\n",
      "          [ 1.5532,  1.5532,  1.5707,  ...,  2.3235,  2.3235,  2.3235],\n",
      "          ...,\n",
      "          [-0.1275, -0.0049,  0.1001,  ...,  2.3235,  2.3235,  2.3235],\n",
      "          [-0.0574, -0.0574, -0.0399,  ...,  2.3235,  2.3235,  2.3235],\n",
      "          [-0.0749, -0.1099, -0.1099,  ...,  2.3235,  2.3235,  2.3235]],\n",
      "\n",
      "         [[ 1.5420,  1.5420,  1.5768,  ...,  2.4308,  2.4308,  2.4308],\n",
      "          [ 1.5594,  1.5594,  1.5768,  ...,  2.4308,  2.4308,  2.4308],\n",
      "          [ 1.5594,  1.5594,  1.5768,  ...,  2.4308,  2.4308,  2.4308],\n",
      "          ...,\n",
      "          [-0.2881, -0.1661, -0.0615,  ...,  2.4308,  2.4308,  2.4308],\n",
      "          [-0.2184, -0.2184, -0.2010,  ...,  2.4308,  2.4308,  2.4308],\n",
      "          [-0.2358, -0.2707, -0.2707,  ...,  2.4308,  2.4308,  2.4308]]]])\n",
      "Batched labels (torch.Size([32])): tensor([0, 1, 0, 1, 1, 1, 1, 1, 0, 0, 1, 1, 0, 0, 1, 0, 0, 1, 1, 1, 0, 1, 1, 1,\n",
      "        1, 1, 1, 0, 0, 0, 1, 0])\n"
     ]
    }
   ],
   "source": [
    "import torchvision\n",
    "transforms = torchvision.transforms.Compose([\n",
    "    torchvision.transforms.Resize(size = (200,200)),\n",
    "    torchvision.transforms.ToTensor(),\n",
    "    torchvision.transforms.Normalize((0.485, 0.456, 0.406), (0.229, 0.224, 0.225))\n",
    "])\n",
    "\n",
    "train_data = CustomDataset(train_df,train_path,transform = transforms)\n",
    "test_data = CustomDataset(test_df,test_path,transform = transforms)\n",
    "\n",
    "train_data_batched = DataLoader(train_data,32,shuffle = True)\n",
    "test_data_batched = DataLoader(test_data,32,shuffle = False)\n",
    "\n",
    "batched_images,batched_labels = next(iter(train_data_batched))\n",
    "print(f'Example Batch from Train Dataset:')\n",
    "print(f'Batched Images ({batched_images.shape}): {batched_images}')\n",
    "print(f'Batched labels ({batched_labels.shape}): {batched_labels}')\n"
   ]
  },
  {
   "cell_type": "code",
   "execution_count": 22,
   "metadata": {},
   "outputs": [
    {
     "name": "stdout",
     "output_type": "stream",
     "text": [
      "Unique values of Label: [0 1]\n"
     ]
    },
    {
     "data": {
      "application/vnd.jupyter.widget-view+json": {
       "model_id": "bc91b80c410549559713b21eeb7cdec8",
       "version_major": 2,
       "version_minor": 0
      },
      "text/plain": [
       "  0%|          | 0/31 [00:00<?, ?it/s]"
      ]
     },
     "metadata": {},
     "output_type": "display_data"
    },
    {
     "data": {
      "application/vnd.jupyter.widget-view+json": {
       "model_id": "5bda0b866083414481e0b5df8e232623",
       "version_major": 2,
       "version_minor": 0
      },
      "text/plain": [
       "0it [00:00, ?it/s]"
      ]
     },
     "metadata": {},
     "output_type": "display_data"
    },
    {
     "name": "stdout",
     "output_type": "stream",
     "text": [
      "Epoch: 0 | Train Loss: 0.6702370643615723 | Train Accuracy: 0.6757246376811594\n"
     ]
    },
    {
     "data": {
      "application/vnd.jupyter.widget-view+json": {
       "model_id": "2176970af1244cfbbbbff4adea08ed81",
       "version_major": 2,
       "version_minor": 0
      },
      "text/plain": [
       "0it [00:00, ?it/s]"
      ]
     },
     "metadata": {},
     "output_type": "display_data"
    },
    {
     "name": "stdout",
     "output_type": "stream",
     "text": [
      "Epoch: 1 | Train Loss: 0.6227527856826782 | Train Accuracy: 0.74677063642092\n"
     ]
    },
    {
     "data": {
      "application/vnd.jupyter.widget-view+json": {
       "model_id": "f452dbe6cf044d0cb10afc65274df5b4",
       "version_major": 2,
       "version_minor": 0
      },
      "text/plain": [
       "0it [00:00, ?it/s]"
      ]
     },
     "metadata": {},
     "output_type": "display_data"
    },
    {
     "name": "stdout",
     "output_type": "stream",
     "text": [
      "Epoch: 2 | Train Loss: 0.5757913589477539 | Train Accuracy: 0.762540752308156\n"
     ]
    },
    {
     "data": {
      "application/vnd.jupyter.widget-view+json": {
       "model_id": "2828b4e79c224363bc5083b4ea3e1226",
       "version_major": 2,
       "version_minor": 0
      },
      "text/plain": [
       "0it [00:00, ?it/s]"
      ]
     },
     "metadata": {},
     "output_type": "display_data"
    },
    {
     "name": "stdout",
     "output_type": "stream",
     "text": [
      "Epoch: 3 | Train Loss: 0.5599368810653687 | Train Accuracy: 0.7623206124191951\n"
     ]
    },
    {
     "data": {
      "application/vnd.jupyter.widget-view+json": {
       "model_id": "a2cc8028cf1e45e4ae5e15e81821fe0b",
       "version_major": 2,
       "version_minor": 0
      },
      "text/plain": [
       "0it [00:00, ?it/s]"
      ]
     },
     "metadata": {},
     "output_type": "display_data"
    },
    {
     "name": "stdout",
     "output_type": "stream",
     "text": [
      "Epoch: 4 | Train Loss: 0.5503154993057251 | Train Accuracy: 0.763669736771849\n"
     ]
    },
    {
     "data": {
      "application/vnd.jupyter.widget-view+json": {
       "model_id": "4e095a6e998242a69cf8ef71907bd59e",
       "version_major": 2,
       "version_minor": 0
      },
      "text/plain": [
       "0it [00:00, ?it/s]"
      ]
     },
     "metadata": {},
     "output_type": "display_data"
    },
    {
     "name": "stdout",
     "output_type": "stream",
     "text": [
      "Epoch: 5 | Train Loss: 0.5564752221107483 | Train Accuracy: 0.7573878146422544\n"
     ]
    },
    {
     "data": {
      "application/vnd.jupyter.widget-view+json": {
       "model_id": "23060a746f60416ca4d24d1e61f5f40d",
       "version_major": 2,
       "version_minor": 0
      },
      "text/plain": [
       "0it [00:00, ?it/s]"
      ]
     },
     "metadata": {},
     "output_type": "display_data"
    },
    {
     "name": "stdout",
     "output_type": "stream",
     "text": [
      "Epoch: 6 | Train Loss: 0.5534168481826782 | Train Accuracy: 0.7616436731003879\n"
     ]
    },
    {
     "data": {
      "application/vnd.jupyter.widget-view+json": {
       "model_id": "4410f019ba6c45b0a6a3f0221400b928",
       "version_major": 2,
       "version_minor": 0
      },
      "text/plain": [
       "0it [00:00, ?it/s]"
      ]
     },
     "metadata": {},
     "output_type": "display_data"
    },
    {
     "name": "stdout",
     "output_type": "stream",
     "text": [
      "Epoch: 7 | Train Loss: 0.54542475938797 | Train Accuracy: 0.7754156669463937\n"
     ]
    },
    {
     "data": {
      "application/vnd.jupyter.widget-view+json": {
       "model_id": "1e0a1ac0d3b448ea8e0641b015b85980",
       "version_major": 2,
       "version_minor": 0
      },
      "text/plain": [
       "0it [00:00, ?it/s]"
      ]
     },
     "metadata": {},
     "output_type": "display_data"
    },
    {
     "name": "stdout",
     "output_type": "stream",
     "text": [
      "Epoch: 8 | Train Loss: 0.5425012111663818 | Train Accuracy: 0.7796376376933215\n"
     ]
    },
    {
     "data": {
      "application/vnd.jupyter.widget-view+json": {
       "model_id": "b43fa75038c14c708ab65595bfc311a4",
       "version_major": 2,
       "version_minor": 0
      },
      "text/plain": [
       "0it [00:00, ?it/s]"
      ]
     },
     "metadata": {},
     "output_type": "display_data"
    },
    {
     "name": "stdout",
     "output_type": "stream",
     "text": [
      "Epoch: 9 | Train Loss: 0.5240119099617004 | Train Accuracy: 0.7979371436678255\n"
     ]
    },
    {
     "data": {
      "application/vnd.jupyter.widget-view+json": {
       "model_id": "ecab116e72aa4254916147ab99023e69",
       "version_major": 2,
       "version_minor": 0
      },
      "text/plain": [
       "0it [00:00, ?it/s]"
      ]
     },
     "metadata": {},
     "output_type": "display_data"
    },
    {
     "name": "stdout",
     "output_type": "stream",
     "text": [
      "Epoch: 10 | Train Loss: 0.5165349841117859 | Train Accuracy: 0.8105081366812097\n"
     ]
    },
    {
     "data": {
      "application/vnd.jupyter.widget-view+json": {
       "model_id": "ab43416c40634644bd17579ee9a061f0",
       "version_major": 2,
       "version_minor": 0
      },
      "text/plain": [
       "0it [00:00, ?it/s]"
      ]
     },
     "metadata": {},
     "output_type": "display_data"
    },
    {
     "name": "stdout",
     "output_type": "stream",
     "text": [
      "Epoch: 11 | Train Loss: 0.5274546146392822 | Train Accuracy: 0.7983735421745454\n"
     ]
    },
    {
     "data": {
      "application/vnd.jupyter.widget-view+json": {
       "model_id": "b7824457f28743afb4c3047936280dc0",
       "version_major": 2,
       "version_minor": 0
      },
      "text/plain": [
       "0it [00:00, ?it/s]"
      ]
     },
     "metadata": {},
     "output_type": "display_data"
    },
    {
     "name": "stdout",
     "output_type": "stream",
     "text": [
      "Epoch: 12 | Train Loss: 0.5058717727661133 | Train Accuracy: 0.8041865308191831\n"
     ]
    },
    {
     "data": {
      "application/vnd.jupyter.widget-view+json": {
       "model_id": "e8c7489460674dc784bdfeeef843188c",
       "version_major": 2,
       "version_minor": 0
      },
      "text/plain": [
       "0it [00:00, ?it/s]"
      ]
     },
     "metadata": {},
     "output_type": "display_data"
    },
    {
     "name": "stdout",
     "output_type": "stream",
     "text": [
      "Epoch: 13 | Train Loss: 0.5163252353668213 | Train Accuracy: 0.7822472404703993\n"
     ]
    },
    {
     "data": {
      "application/vnd.jupyter.widget-view+json": {
       "model_id": "33403ddf31ff46cda8504ce7fceaeda4",
       "version_major": 2,
       "version_minor": 0
      },
      "text/plain": [
       "0it [00:00, ?it/s]"
      ]
     },
     "metadata": {},
     "output_type": "display_data"
    },
    {
     "name": "stdout",
     "output_type": "stream",
     "text": [
      "Epoch: 14 | Train Loss: 0.4951803386211395 | Train Accuracy: 0.800767995962481\n"
     ]
    },
    {
     "data": {
      "application/vnd.jupyter.widget-view+json": {
       "model_id": "43f2ef9ee84f4f958dae3311e572bc62",
       "version_major": 2,
       "version_minor": 0
      },
      "text/plain": [
       "0it [00:00, ?it/s]"
      ]
     },
     "metadata": {},
     "output_type": "display_data"
    },
    {
     "name": "stdout",
     "output_type": "stream",
     "text": [
      "Epoch: 15 | Train Loss: 0.48172062635421753 | Train Accuracy: 0.815613101273731\n"
     ]
    },
    {
     "data": {
      "application/vnd.jupyter.widget-view+json": {
       "model_id": "6b86f0e2faee421d837a797e36a99f59",
       "version_major": 2,
       "version_minor": 0
      },
      "text/plain": [
       "0it [00:00, ?it/s]"
      ]
     },
     "metadata": {},
     "output_type": "display_data"
    },
    {
     "name": "stdout",
     "output_type": "stream",
     "text": [
      "Epoch: 16 | Train Loss: 0.4770652651786804 | Train Accuracy: 0.819881729040887\n"
     ]
    },
    {
     "data": {
      "application/vnd.jupyter.widget-view+json": {
       "model_id": "235b30f11e074809b1667a4d7279c7d0",
       "version_major": 2,
       "version_minor": 0
      },
      "text/plain": [
       "0it [00:00, ?it/s]"
      ]
     },
     "metadata": {},
     "output_type": "display_data"
    },
    {
     "name": "stdout",
     "output_type": "stream",
     "text": [
      "Epoch: 17 | Train Loss: 0.4736068844795227 | Train Accuracy: 0.814179640393082\n"
     ]
    },
    {
     "data": {
      "application/vnd.jupyter.widget-view+json": {
       "model_id": "75087dbc5a18431cab47238f48026e3e",
       "version_major": 2,
       "version_minor": 0
      },
      "text/plain": [
       "0it [00:00, ?it/s]"
      ]
     },
     "metadata": {},
     "output_type": "display_data"
    },
    {
     "name": "stdout",
     "output_type": "stream",
     "text": [
      "Epoch: 18 | Train Loss: 0.45908302068710327 | Train Accuracy: 0.8288773756692644\n"
     ]
    },
    {
     "data": {
      "application/vnd.jupyter.widget-view+json": {
       "model_id": "0f68348cc62c4c51b8e515a712286cd4",
       "version_major": 2,
       "version_minor": 0
      },
      "text/plain": [
       "0it [00:00, ?it/s]"
      ]
     },
     "metadata": {},
     "output_type": "display_data"
    },
    {
     "name": "stdout",
     "output_type": "stream",
     "text": [
      "Epoch: 19 | Train Loss: 0.47522640228271484 | Train Accuracy: 0.8272519148841709\n"
     ]
    },
    {
     "data": {
      "application/vnd.jupyter.widget-view+json": {
       "model_id": "d9246ffbfac740ea8effc3931462b92d",
       "version_major": 2,
       "version_minor": 0
      },
      "text/plain": [
       "0it [00:00, ?it/s]"
      ]
     },
     "metadata": {},
     "output_type": "display_data"
    },
    {
     "name": "stdout",
     "output_type": "stream",
     "text": [
      "Epoch: 20 | Train Loss: 0.44867008924484253 | Train Accuracy: 0.8425797934007611\n"
     ]
    },
    {
     "data": {
      "application/vnd.jupyter.widget-view+json": {
       "model_id": "153e35f9472047f992a49f6f7a7ab45e",
       "version_major": 2,
       "version_minor": 0
      },
      "text/plain": [
       "0it [00:00, ?it/s]"
      ]
     },
     "metadata": {},
     "output_type": "display_data"
    },
    {
     "name": "stdout",
     "output_type": "stream",
     "text": [
      "Epoch: 21 | Train Loss: 0.4379549026489258 | Train Accuracy: 0.8500397011623518\n"
     ]
    },
    {
     "data": {
      "application/vnd.jupyter.widget-view+json": {
       "model_id": "2023f836e32b4942abb92fb12876ab42",
       "version_major": 2,
       "version_minor": 0
      },
      "text/plain": [
       "0it [00:00, ?it/s]"
      ]
     },
     "metadata": {},
     "output_type": "display_data"
    },
    {
     "name": "stdout",
     "output_type": "stream",
     "text": [
      "Epoch: 22 | Train Loss: 0.4146263599395752 | Train Accuracy: 0.8634981029490878\n"
     ]
    },
    {
     "data": {
      "application/vnd.jupyter.widget-view+json": {
       "model_id": "a898841923424130af573d2e8c824677",
       "version_major": 2,
       "version_minor": 0
      },
      "text/plain": [
       "0it [00:00, ?it/s]"
      ]
     },
     "metadata": {},
     "output_type": "display_data"
    },
    {
     "name": "stdout",
     "output_type": "stream",
     "text": [
      "Epoch: 23 | Train Loss: 0.40823736786842346 | Train Accuracy: 0.8631774537514095\n"
     ]
    },
    {
     "data": {
      "application/vnd.jupyter.widget-view+json": {
       "model_id": "fe14f930f1ab41cb8e20cf0c7b20074e",
       "version_major": 2,
       "version_minor": 0
      },
      "text/plain": [
       "0it [00:00, ?it/s]"
      ]
     },
     "metadata": {},
     "output_type": "display_data"
    },
    {
     "name": "stdout",
     "output_type": "stream",
     "text": [
      "Epoch: 24 | Train Loss: 0.40410393476486206 | Train Accuracy: 0.8622577153804961\n"
     ]
    },
    {
     "data": {
      "application/vnd.jupyter.widget-view+json": {
       "model_id": "86cb84aa48a74632b04dd5a67047c2c4",
       "version_major": 2,
       "version_minor": 0
      },
      "text/plain": [
       "0it [00:00, ?it/s]"
      ]
     },
     "metadata": {},
     "output_type": "display_data"
    },
    {
     "name": "stdout",
     "output_type": "stream",
     "text": [
      "Epoch: 25 | Train Loss: 0.3968982398509979 | Train Accuracy: 0.8608590311034997\n"
     ]
    },
    {
     "data": {
      "application/vnd.jupyter.widget-view+json": {
       "model_id": "097b2c1a9ce247e0af95001d461e17a0",
       "version_major": 2,
       "version_minor": 0
      },
      "text/plain": [
       "0it [00:00, ?it/s]"
      ]
     },
     "metadata": {},
     "output_type": "display_data"
    },
    {
     "name": "stdout",
     "output_type": "stream",
     "text": [
      "Epoch: 26 | Train Loss: 0.3832162916660309 | Train Accuracy: 0.8848018419320363\n"
     ]
    },
    {
     "data": {
      "application/vnd.jupyter.widget-view+json": {
       "model_id": "aa6b55b0bd8346c29d704d13e5921151",
       "version_major": 2,
       "version_minor": 0
      },
      "text/plain": [
       "0it [00:00, ?it/s]"
      ]
     },
     "metadata": {},
     "output_type": "display_data"
    },
    {
     "name": "stdout",
     "output_type": "stream",
     "text": [
      "Epoch: 27 | Train Loss: 0.3740411102771759 | Train Accuracy: 0.8713500800840016\n"
     ]
    },
    {
     "data": {
      "application/vnd.jupyter.widget-view+json": {
       "model_id": "cb5cbf46dd324b7094cf6991ca7ac1d5",
       "version_major": 2,
       "version_minor": 0
      },
      "text/plain": [
       "0it [00:00, ?it/s]"
      ]
     },
     "metadata": {},
     "output_type": "display_data"
    },
    {
     "name": "stdout",
     "output_type": "stream",
     "text": [
      "Epoch: 28 | Train Loss: 0.3809662163257599 | Train Accuracy: 0.8789173947862609\n"
     ]
    },
    {
     "data": {
      "application/vnd.jupyter.widget-view+json": {
       "model_id": "bbb1f208bee349068d1a7e6e921322ac",
       "version_major": 2,
       "version_minor": 0
      },
      "text/plain": [
       "0it [00:00, ?it/s]"
      ]
     },
     "metadata": {},
     "output_type": "display_data"
    },
    {
     "name": "stdout",
     "output_type": "stream",
     "text": [
      "Epoch: 29 | Train Loss: 0.3660737872123718 | Train Accuracy: 0.8769819157153447\n"
     ]
    },
    {
     "data": {
      "application/vnd.jupyter.widget-view+json": {
       "model_id": "ba4b23a3a0174c2f89a222ae9233ed67",
       "version_major": 2,
       "version_minor": 0
      },
      "text/plain": [
       "0it [00:00, ?it/s]"
      ]
     },
     "metadata": {},
     "output_type": "display_data"
    },
    {
     "name": "stdout",
     "output_type": "stream",
     "text": [
      "Epoch: 30 | Train Loss: 0.3524577021598816 | Train Accuracy: 0.8868615325673338\n",
      "Test Loss: 0.5919623374938965 | Test Accuracy: 0.7232142857142857\n"
     ]
    }
   ],
   "source": [
    "in_channels = batched_images.shape[1]\n",
    "n_classes = len(eda.unique_values(target_feature))\n",
    "lr = 0.0001\n",
    "\n",
    "model = CNN(in_channels = in_channels,n_classes = n_classes)\n",
    "loss_function = torch.nn.CrossEntropyLoss()\n",
    "optimizer = torch.optim.Adam(model.parameters(),lr = lr)\n",
    "\n",
    "Trainer = Train_Model(model,optimizer,loss_function,epochs = 30)\n",
    "Trainer.fit(train_data_batched)\n",
    "Trainer.eval(test_data_batched)\n"
   ]
  },
  {
   "cell_type": "code",
   "execution_count": 24,
   "metadata": {},
   "outputs": [
    {
     "name": "stdout",
     "output_type": "stream",
     "text": [
      "Person on the photo: notsmoking\n"
     ]
    },
    {
     "data": {
      "image/jpeg": "[encoded data removed]",
      "image/png": "[encoded data removed]",
      "text/plain": [
       "<PIL.JpegImagePlugin.JpegImageFile image mode=RGB size=250x250>"
      ]
     },
     "execution_count": 24,
     "metadata": {},
     "output_type": "execute_result"
    }
   ],
   "source": [
    "image_path = '/Users/nazarlenisin/Desktop/Image Classification/Testing/Testing/smoking_0496.jpg'\n",
    "\n",
    "prediction,model_confidence = Classifie(model,image_path)\n",
    "print(f'Person on the photo: {prediction}')\n",
    "Image.open(image_path)\n"
   ]
  },
  {
   "cell_type": "code",
   "execution_count": null,
   "metadata": {},
   "outputs": [],
   "source": []
  }
 ],
 "metadata": {
  "kernelspec": {
   "display_name": "Python 3",
   "language": "python",
   "name": "python3"
  },
  "language_info": {
   "codemirror_mode": {
    "name": "ipython",
    "version": 3
   },
   "file_extension": ".py",
   "mimetype": "text/x-python",
   "name": "python",
   "nbconvert_exporter": "python",
   "pygments_lexer": "ipython3",
   "version": "3.11.0"
  }
 },
 "nbformat": 4,
 "nbformat_minor": 2
}
