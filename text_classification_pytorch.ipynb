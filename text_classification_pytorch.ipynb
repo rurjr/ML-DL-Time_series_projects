{
 "cells": [
  {
   "cell_type": "code",
   "execution_count": 55,
   "metadata": {},
   "outputs": [
    {
     "name": "stdout",
     "output_type": "stream",
     "text": [
      "Requirement already satisfied: torchtext==0.16.0 in /Library/Frameworks/Python.framework/Versions/3.11/lib/python3.11/site-packages (0.16.0)\n",
      "Requirement already satisfied: tqdm in /Library/Frameworks/Python.framework/Versions/3.11/lib/python3.11/site-packages (from torchtext==0.16.0) (4.66.4)\n",
      "Requirement already satisfied: requests in /Users/nazarlenisin/Library/Python/3.11/lib/python/site-packages (from torchtext==0.16.0) (2.31.0)\n",
      "Requirement already satisfied: torch==2.1.0 in /Library/Frameworks/Python.framework/Versions/3.11/lib/python3.11/site-packages (from torchtext==0.16.0) (2.1.0)\n",
      "Requirement already satisfied: numpy in /Users/nazarlenisin/Library/Python/3.11/lib/python/site-packages (from torchtext==0.16.0) (1.26.1)\n",
      "Requirement already satisfied: torchdata==0.7.0 in /Library/Frameworks/Python.framework/Versions/3.11/lib/python3.11/site-packages (from torchtext==0.16.0) (0.7.0)\n",
      "Requirement already satisfied: filelock in /Library/Frameworks/Python.framework/Versions/3.11/lib/python3.11/site-packages (from torch==2.1.0->torchtext==0.16.0) (3.15.4)\n",
      "Requirement already satisfied: typing-extensions in /Library/Frameworks/Python.framework/Versions/3.11/lib/python3.11/site-packages (from torch==2.1.0->torchtext==0.16.0) (4.12.2)\n",
      "Requirement already satisfied: sympy in /Library/Frameworks/Python.framework/Versions/3.11/lib/python3.11/site-packages (from torch==2.1.0->torchtext==0.16.0) (1.13.1)\n",
      "Requirement already satisfied: networkx in /Library/Frameworks/Python.framework/Versions/3.11/lib/python3.11/site-packages (from torch==2.1.0->torchtext==0.16.0) (3.3)\n",
      "Requirement already satisfied: jinja2 in /Users/nazarlenisin/Library/Python/3.11/lib/python/site-packages (from torch==2.1.0->torchtext==0.16.0) (3.1.2)\n",
      "Requirement already satisfied: fsspec in /Library/Frameworks/Python.framework/Versions/3.11/lib/python3.11/site-packages (from torch==2.1.0->torchtext==0.16.0) (2024.6.1)\n",
      "Requirement already satisfied: urllib3>=1.25 in /Users/nazarlenisin/Library/Python/3.11/lib/python/site-packages (from torchdata==0.7.0->torchtext==0.16.0) (2.0.7)\n",
      "Requirement already satisfied: charset-normalizer<4,>=2 in /Users/nazarlenisin/Library/Python/3.11/lib/python/site-packages (from requests->torchtext==0.16.0) (3.3.0)\n",
      "Requirement already satisfied: idna<4,>=2.5 in /Users/nazarlenisin/Library/Python/3.11/lib/python/site-packages (from requests->torchtext==0.16.0) (3.4)\n",
      "Requirement already satisfied: certifi>=2017.4.17 in /Users/nazarlenisin/Library/Python/3.11/lib/python/site-packages (from requests->torchtext==0.16.0) (2023.7.22)\n",
      "Requirement already satisfied: MarkupSafe>=2.0 in /Users/nazarlenisin/Library/Python/3.11/lib/python/site-packages (from jinja2->torch==2.1.0->torchtext==0.16.0) (2.1.3)\n",
      "Requirement already satisfied: mpmath<1.4,>=1.1.0 in /Library/Frameworks/Python.framework/Versions/3.11/lib/python3.11/site-packages (from sympy->torch==2.1.0->torchtext==0.16.0) (1.3.0)\n",
      "Note: you may need to restart the kernel to use updated packages.\n"
     ]
    }
   ],
   "source": [
    "pip install torchtext==0.16.0"
   ]
  },
  {
   "cell_type": "code",
   "execution_count": 56,
   "metadata": {},
   "outputs": [
    {
     "data": {
      "text/html": [
       "<svg  width=\"330\" height=\"55\"><rect x=\"0\" y=\"0\" width=\"55\" height=\"55\" style=\"fill:#35193e;stroke-width:2;stroke:rgb(255,255,255)\"/><rect x=\"55\" y=\"0\" width=\"55\" height=\"55\" style=\"fill:#701f57;stroke-width:2;stroke:rgb(255,255,255)\"/><rect x=\"110\" y=\"0\" width=\"55\" height=\"55\" style=\"fill:#ad1759;stroke-width:2;stroke:rgb(255,255,255)\"/><rect x=\"165\" y=\"0\" width=\"55\" height=\"55\" style=\"fill:#e13342;stroke-width:2;stroke:rgb(255,255,255)\"/><rect x=\"220\" y=\"0\" width=\"55\" height=\"55\" style=\"fill:#f37651;stroke-width:2;stroke:rgb(255,255,255)\"/><rect x=\"275\" y=\"0\" width=\"55\" height=\"55\" style=\"fill:#f6b48f;stroke-width:2;stroke:rgb(255,255,255)\"/></svg>"
      ],
      "text/plain": [
       "[(0.20973515, 0.09747934, 0.24238489),\n",
       " (0.43860848, 0.12177004, 0.34119475),\n",
       " (0.67824099, 0.09192342, 0.3504148),\n",
       " (0.8833417, 0.19830556, 0.26014181),\n",
       " (0.95381595, 0.46373781, 0.31769923),\n",
       " (0.96516917, 0.70776351, 0.5606593)]"
      ]
     },
     "execution_count": 56,
     "metadata": {},
     "output_type": "execute_result"
    }
   ],
   "source": [
    "import numpy as np\n",
    "import pandas as pd\n",
    "import matplotlib.pyplot as plt\n",
    "import seaborn as sns\n",
    "\n",
    "from sklearn.preprocessing import OneHotEncoder\n",
    "from sklearn.preprocessing import normalize\n",
    "\n",
    "from sklearn.model_selection import train_test_split\n",
    "\n",
    "from sklearn.metrics import accuracy_score as accuracy\n",
    "\n",
    "import torch\n",
    "from torch.utils.data import DataLoader\n",
    "\n",
    "import torchtext\n",
    "from torchtext.vocab import build_vocab_from_iterator\n",
    "import torchtext.transforms as T\n",
    "\n",
    "import spacy\n",
    "nlp = spacy.load('en_core_web_sm')\n",
    "\n",
    "from sklearn.decomposition import PCA\n",
    "\n",
    "from tqdm.auto import tqdm\n",
    "\n",
    "colors = sns.color_palette(\"rocket\")\n",
    "colors"
   ]
  },
  {
   "cell_type": "code",
   "execution_count": 57,
   "metadata": {},
   "outputs": [],
   "source": [
    "df = pd.read_csv('/Users/nazarlenisin/Desktop/Text Segmentation/reviews.csv')"
   ]
  },
  {
   "cell_type": "code",
   "execution_count": 58,
   "metadata": {},
   "outputs": [],
   "source": [
    "class Prior_Data_Analys:\n",
    "  def __init__(self,df):\n",
    "    self.df = df\n",
    "\n",
    "\n",
    "  def shape(self):\n",
    "    n_samples,n_columns = self.df.shape\n",
    "    print(f'Number of samples in Data Set: {n_samples}')\n",
    "    print(f'Number of columns: {n_columns}')\n",
    "\n",
    "    return n_samples,n_columns\n",
    "\n",
    "\n",
    "  def unique_columns(self):\n",
    "    columns = self.df.columns\n",
    "    print(f'Unique columns:\\n')\n",
    "\n",
    "    for column_idx,column in enumerate(columns):\n",
    "      print(f'Column {column_idx + 1}: {column}')\n",
    "\n",
    "    return columns\n",
    "\n",
    "\n",
    "  def columns_dtypes(self):\n",
    "    dtypes = self.df.dtypes\n",
    "    print(f'Dtypes:\\n\\n {dtypes}')\n",
    "\n",
    "    return dtypes\n",
    "\n",
    "\n",
    "  def categorical_features(self):\n",
    "    print(f'Categorical features:\\n')\n",
    "    categorical_feats = [column for column_idx,column in enumerate(self.df.columns) if self.df.dtypes[column_idx] == 'object']\n",
    "\n",
    "    for feature in categorical_feats:\n",
    "      print(f'* {feature}')\n",
    "\n",
    "    return np.array(categorical_feats)\n",
    "\n",
    "\n",
    "  def numerical_features(self):\n",
    "    print(f'Numerical features: \\n')\n",
    "\n",
    "    numerical_feats = [column for column_idx,column in enumerate(self.df.columns) if self.df.dtypes[column_idx] != 'object']\n",
    "    for feature in numerical_feats:\n",
    "      print(f'* {feature}')\n",
    "\n",
    "    return np.array(numerical_feats)\n",
    "\n",
    "\n",
    "  def group_by(self,feature):\n",
    "    categorical = self.categorical_features()\n",
    "\n",
    "    if feature in categorical:\n",
    "      return df.groupby([feature]).count()\n",
    "\n",
    "    else:\n",
    "      return df.groupby([feature]).describe()\n",
    "\n",
    "\n",
    "  def count_NA(self):\n",
    "    print(f'Amout of Nans per class:')\n",
    "    return self.df.isna().sum()\n",
    "\n",
    "\n",
    "  def duplicates(self):\n",
    "    print(f'Amount of duplicates: {self.df.duplicated().sum()}')\n",
    "\n",
    "  def item(self,index):\n",
    "    print(f'Object number: {index}')\n",
    "\n",
    "    return self.df.iloc[index]\n",
    "\n",
    "  def unique_values(self,feature):\n",
    "    data = self.df[feature]\n",
    "\n",
    "    values = data.values\n",
    "    unique_values = np.unique(values)\n",
    "    print(f'Unique values of {feature}: {unique_values}')\n",
    "\n",
    "    return unique_values"
   ]
  },
  {
   "cell_type": "code",
   "execution_count": 59,
   "metadata": {},
   "outputs": [],
   "source": [
    "class Distribution:\n",
    "  def __init__(self,df,target_feature):\n",
    "    self.df = df\n",
    "    self.target_feature = target_feature\n",
    "    self._eda = Prior_Data_Analys(self.df)\n",
    "\n",
    "\n",
    "  def distribution_of_target_feature(self):\n",
    "    for visualization in range(2):\n",
    "      plt.figure(figsize = (10,10))\n",
    "      plt.subplot(2,1,visualization + 1)\n",
    "      if visualization == 0:\n",
    "        sns.histplot(data = self.df,x = self.target_feature,color = colors[3])\n",
    "        plt.title(f'Distribution of Target feature: {self.target_feature}')\n",
    "        plt.show()\n",
    "\n",
    "      else:\n",
    "        sns.boxplot(x = self.df[self.target_feature],color = colors[3])\n",
    "        plt.title(f'Distribution of Target feature: {self.target_feature}')\n",
    "        plt.show()\n",
    "\n",
    "\n",
    "  def distribution_of_numerical_features(self):\n",
    "    numerical_features = self._eda.numerical_features()\n",
    "\n",
    "    for feature_idx,feature in enumerate(numerical_features):\n",
    "      plt.figure(figsize = (15,15))\n",
    "      plt.subplot(len(numerical_features) // 2 + 1 , 2 , feature_idx + 1)\n",
    "      sns.histplot(data = self.df,x = feature,color = colors[1])\n",
    "      plt.title(f'Distibution of {feature}')\n",
    "      plt.tight_layout\n",
    "      plt.show()\n",
    "\n",
    "\n",
    "  def distribution_of_categorical_features(self,top_k = 5):\n",
    "    categorical_features = self._eda.categorical_features()\n",
    "    plt.figure(figsize = (20,20))\n",
    "\n",
    "    for feature_idx,feature in enumerate(categorical_features):\n",
    "\n",
    "      values = self._eda.group_by(feature)[self.target_feature].sort_values(ascending = False).values[:top_k]\n",
    "      labels = self._eda.group_by(feature)[self.target_feature].sort_values(ascending = False).index[:top_k]\n",
    "\n",
    "      data_dict = {'Labels': labels, 'Values': values}\n",
    "      data = pd.DataFrame(data_dict)\n",
    "\n",
    "      plt.subplot(len(categorical_features) // 2 + 1 , 2 , feature_idx + 1)\n",
    "      sns.barplot(data = data,y = 'Labels',x = 'Values',color = colors[-1])\n",
    "      plt.title(f'Top {top_k} {feature} by count')\n",
    "\n",
    "    plt.tight_layout()\n",
    "    plt.show()\n",
    "\n",
    "  def relation_numerical_feats_to_target_feat(self):\n",
    "    numerical_features = self._eda.numerical_features()\n",
    "\n",
    "    data = df[numerical_features]\n",
    "    corr = data.corr()\n",
    "\n",
    "    return sns.heatmap(corr,annot = True, cmap = sns.cubehelix_palette(start=.5, rot=-.5, as_cmap=True))\n",
    "\n",
    "  def relation_categorical_feats_to_target_feat(self,top_k = 3):\n",
    "    categorical_features = self._eda.categorical_features()\n",
    "    plt.figure(figsize = (20,20))\n",
    "\n",
    "    for feature_idx,feature in enumerate(categorical_features):\n",
    "\n",
    "      feats = self._eda.group_by(feature)[self.target_feature].sort_values(ascending = False)[:top_k].index\n",
    "\n",
    "      data = self.df\n",
    "      data = data[data[feature].isin(feats)]\n",
    "\n",
    "      plt.subplot(len(categorical_features) // 2 + 1 , 2 , feature_idx + 1)\n",
    "      sns.stripplot(data = data, x = feature, y = self.target_feature,hue = feature)\n",
    "      plt.title(f'Relation between {feature} (top {top_k}) & {self.target_feature}')\n",
    "\n",
    "    plt.tight_layout()\n",
    "    plt.show()"
   ]
  },
  {
   "cell_type": "code",
   "execution_count": 60,
   "metadata": {},
   "outputs": [],
   "source": [
    "class Text_Tokenization:\n",
    "  def __init__(self,nlp):\n",
    "    self.nlp = nlp\n",
    "\n",
    "  def _spacy_tokenizer(self,doc):\n",
    "    return [token.lemma_ for token in self.nlp(doc) if\n",
    "            not token.is_space]\n",
    "\n",
    "  def _yield_tokens(self,doc):\n",
    "    for text in doc:\n",
    "      text = self._spacy_tokenizer(text)\n",
    "      yield text\n",
    "\n",
    "  def _vocab(self,data):\n",
    "    vocab = build_vocab_from_iterator(\n",
    "        self._yield_tokens(data),\n",
    "        specials = ['<pad>','<unk>']\n",
    "    )\n",
    "    vocab.set_default_index(vocab['<unk>'])\n",
    "\n",
    "    return vocab\n",
    "\n",
    "  def tokenize(self,data,max_len,vocab = None):\n",
    "    if vocab == None:\n",
    "      vocab = self._vocab(data)\n",
    "      self.vocab = vocab\n",
    "\n",
    "    self.vocab = vocab\n",
    "\n",
    "    transforms = T.Sequential(\n",
    "        T.VocabTransform(vocab),\n",
    "        T.Truncate(max_seq_len = max_len),\n",
    "        T.ToTensor(padding_value = 0),\n",
    "        T.PadTransform(max_length = max_len,pad_value = 0)\n",
    "    )\n",
    "\n",
    "    data = [self._spacy_tokenizer(text) for text in data]\n",
    "    data = transforms(data)\n",
    "\n",
    "    return data"
   ]
  },
  {
   "cell_type": "code",
   "execution_count": 61,
   "metadata": {},
   "outputs": [],
   "source": [
    "class Sentiment_rnn(torch.nn.Module):\n",
    "  def __init__(self,batch_size,sequence_length,vocab_size,embedding_size,hidden_size,num_layers,n_classes):\n",
    "    super().__init__()\n",
    "    self.batch_size = batch_size\n",
    "    self.sequence_length = sequence_length\n",
    "    self.vocab_size = vocab_size\n",
    "    self.embedding_size = embedding_size\n",
    "    self.hidden_size = hidden_size\n",
    "    self.num_layers = num_layers\n",
    "    self.n_classes = n_classes\n",
    "\n",
    "    self.embedding = torch.nn.Embedding(num_embeddings = vocab_size,embedding_dim = embedding_size,padding_idx = 0)\n",
    "    self.rnn = torch.nn.RNN(input_size = embedding_size,hidden_size = hidden_size,num_layers = num_layers,batch_first = True,bidirectional = True)\n",
    "\n",
    "    self.flatten = torch.nn.Flatten(start_dim = 1)\n",
    "\n",
    "    self.linear_1 = torch.nn.Linear(in_features = 2 * hidden_size * sequence_length,out_features = 128)\n",
    "    self.linear_2 = torch.nn.Linear(in_features = 128,out_features = 256)\n",
    "    self.linear_3 = torch.nn.Linear(in_features = 256,out_features = n_classes)\n",
    "\n",
    "    self.sigmoid = torch.nn.Sigmoid()\n",
    "    self.softmax = torch.nn.Softmax(1)\n",
    "\n",
    "  def forward(self,X):\n",
    "    X = self.embedding(X)\n",
    "\n",
    "    output,_ = self.rnn(X)\n",
    "\n",
    "    output = self.flatten(output)\n",
    "\n",
    "    output = self.linear_1(output)\n",
    "    output = self.sigmoid(output)\n",
    "\n",
    "    output = self.linear_2(output)\n",
    "    output = self.sigmoid(output)\n",
    "\n",
    "    output = self.linear_3(output)\n",
    "\n",
    "    return output\n",
    " "
   ]
  },
  {
   "cell_type": "code",
   "execution_count": 62,
   "metadata": {},
   "outputs": [],
   "source": [
    "class Sentiment_lstm(torch.nn.Module):\n",
    "  def __init__(self,batch_size,sequence_length,vocab_size,embedding_size,hidden_size,num_layers,n_classes):\n",
    "    super().__init__()\n",
    "    self.batch_size = batch_size\n",
    "    self.sequence_length = sequence_length\n",
    "    self.vocab_size = vocab_size\n",
    "    self.embedding_size = embedding_size\n",
    "    self.hidden_size = hidden_size\n",
    "    self.num_layers = num_layers\n",
    "    self.n_classes = n_classes\n",
    "\n",
    "    self.embedding = torch.nn.Embedding(num_embeddings = vocab_size,embedding_dim = embedding_size,padding_idx = 0)\n",
    "    self.lstm = torch.nn.LSTM(input_size = embedding_size,hidden_size = hidden_size,num_layers = num_layers,batch_first = True,bidirectional = True)\n",
    "\n",
    "    self.flatten = torch.nn.Flatten()\n",
    "\n",
    "    self.linear_1 = torch.nn.Linear(in_features = 2 * hidden_size * sequence_length,out_features = 128)\n",
    "    self.linear_2 = torch.nn.Linear(in_features = 128,out_features = 256)\n",
    "    self.linear_3 = torch.nn.Linear(in_features = 256,out_features = n_classes)\n",
    "\n",
    "    self.sigmoid = torch.nn.Sigmoid()\n",
    "    self.softmax = torch.nn.Softmax(1)\n",
    "\n",
    "  def forward(self,X):\n",
    "    X = self.embedding(X)\n",
    "\n",
    "    output, _ = self.lstm(X)\n",
    "\n",
    "    output = self.flatten(output)\n",
    "\n",
    "    output = self.linear_1(output)\n",
    "    output = self.sigmoid(output)\n",
    "\n",
    "    output = self.linear_2(output)\n",
    "    output = self.sigmoid(output)\n",
    "\n",
    "    output = self.linear_3(output)\n",
    "\n",
    "    return output"
   ]
  },
  {
   "cell_type": "code",
   "execution_count": 63,
   "metadata": {},
   "outputs": [],
   "source": [
    "class Train_Model:\n",
    "  def __init__(self,model,loss_function,optimizer,epochs = 10):\n",
    "    self.model = model\n",
    "    self.loss_function = loss_function\n",
    "    self.optimizer = optimizer\n",
    "    self.epochs = epochs\n",
    "\n",
    "  def fit(self,train_data):\n",
    "    model = self.model\n",
    "\n",
    "    for epoch in tqdm(range(self.epochs + 1)):\n",
    "      print(f'Epoch: {epoch}')\n",
    "      train_batch_loss = 0\n",
    "      train_batch_acc = 0\n",
    "\n",
    "      for batch,(X_train,y_train) in tqdm(enumerate(train_data)):\n",
    "        train_predictions = model(X_train)\n",
    "\n",
    "        train_labels = torch.argmax(train_predictions,1)\n",
    "\n",
    "        train_loss = self.loss_function(train_predictions,y_train)\n",
    "        train_acc = accuracy(y_train,train_labels)\n",
    "\n",
    "        train_batch_loss += train_loss\n",
    "        train_batch_acc += train_acc\n",
    "\n",
    "        self.optimizer.zero_grad()\n",
    "        train_loss.backward()\n",
    "        self.optimizer.step()\n",
    "\n",
    "      train_batch_loss /= len(train_data)\n",
    "      train_batch_acc /= len(train_data)\n",
    "\n",
    "\n",
    "      print(f'\\nEpoch: {epoch} | Train Loss: {train_batch_loss} | Train Accuracy: {train_batch_acc}')\n",
    "\n",
    "\n",
    "  def eval(self,test_data):\n",
    "    model = self.model\n",
    "    test_batch_loss = 0\n",
    "    test_batch_acc = 0\n",
    "\n",
    "    for batch,(X_test,y_test) in tqdm(enumerate(test_data)):\n",
    "      test_predictions = model(X_test)\n",
    "\n",
    "      test_labels = torch.argmax(test_predictions,1)\n",
    "\n",
    "      test_loss = self.loss_function(test_predictions,y_test)\n",
    "      test_acc = accuracy(y_test,test_labels)\n",
    "\n",
    "      test_batch_loss += test_loss\n",
    "      test_batch_acc += test_acc\n",
    "\n",
    "\n",
    "    test_batch_loss /= len(test_data)\n",
    "    test_batch_acc /= len(test_data)\n",
    "\n",
    "\n",
    "    print(f'\\nTest Loss: {test_batch_loss} | Test Accuracy: {test_batch_acc}')"
   ]
  },
  {
   "cell_type": "code",
   "execution_count": 64,
   "metadata": {},
   "outputs": [],
   "source": [
    "def Sentiment(model,review):\n",
    "  tokenized_review = tokenizer.tokenize([review],max_len,vocab)\n",
    "\n",
    "  prediction = model(tokenized_review)\n",
    "\n",
    "  label = torch.argmax(prediction).item()\n",
    "  label_class = 'negative' if label == 0 else 'positive'\n",
    "  print(f'Review: {review} - {label_class}')\n",
    "\n",
    "  return label_class"
   ]
  },
  {
   "cell_type": "code",
   "execution_count": 65,
   "metadata": {},
   "outputs": [],
   "source": [
    "scores = df['score'].values\n",
    "scores = np.where(scores < 3,0,1)\n",
    "\n",
    "df['sentiment'] = scores"
   ]
  },
  {
   "cell_type": "code",
   "execution_count": 66,
   "metadata": {},
   "outputs": [
    {
     "data": {
      "text/html": [
       "<div>\n",
       "<style scoped>\n",
       "    .dataframe tbody tr th:only-of-type {\n",
       "        vertical-align: middle;\n",
       "    }\n",
       "\n",
       "    .dataframe tbody tr th {\n",
       "        vertical-align: top;\n",
       "    }\n",
       "\n",
       "    .dataframe thead th {\n",
       "        text-align: right;\n",
       "    }\n",
       "</style>\n",
       "<table border=\"1\" class=\"dataframe\">\n",
       "  <thead>\n",
       "    <tr style=\"text-align: right;\">\n",
       "      <th></th>\n",
       "      <th>content</th>\n",
       "      <th>sentiment</th>\n",
       "    </tr>\n",
       "  </thead>\n",
       "  <tbody>\n",
       "    <tr>\n",
       "      <th>0</th>\n",
       "      <td>I cannot open the app anymore</td>\n",
       "      <td>0</td>\n",
       "    </tr>\n",
       "    <tr>\n",
       "      <th>1</th>\n",
       "      <td>I have been begging for a refund from this app...</td>\n",
       "      <td>0</td>\n",
       "    </tr>\n",
       "    <tr>\n",
       "      <th>2</th>\n",
       "      <td>Very costly for the premium version (approx In...</td>\n",
       "      <td>0</td>\n",
       "    </tr>\n",
       "  </tbody>\n",
       "</table>\n",
       "</div>"
      ],
      "text/plain": [
       "                                             content  sentiment\n",
       "0                      I cannot open the app anymore          0\n",
       "1  I have been begging for a refund from this app...          0\n",
       "2  Very costly for the premium version (approx In...          0"
      ]
     },
     "execution_count": 66,
     "metadata": {},
     "output_type": "execute_result"
    }
   ],
   "source": [
    "df = df[['content','sentiment']]\n",
    "df.head(3)"
   ]
  },
  {
   "cell_type": "code",
   "execution_count": 67,
   "metadata": {},
   "outputs": [],
   "source": [
    "target_feature = 'sentiment'\n",
    "\n",
    "eda = Prior_Data_Analys(df)\n",
    "data_visualization = Distribution(df,target_feature)"
   ]
  },
  {
   "cell_type": "code",
   "execution_count": 68,
   "metadata": {},
   "outputs": [
    {
     "name": "stdout",
     "output_type": "stream",
     "text": [
      "Number of samples in Data Set: 12495\n",
      "Number of columns: 2\n"
     ]
    },
    {
     "data": {
      "text/plain": [
       "(12495, 2)"
      ]
     },
     "execution_count": 68,
     "metadata": {},
     "output_type": "execute_result"
    }
   ],
   "source": [
    "eda.shape()"
   ]
  },
  {
   "cell_type": "code",
   "execution_count": 69,
   "metadata": {},
   "outputs": [
    {
     "name": "stdout",
     "output_type": "stream",
     "text": [
      "Unique columns:\n",
      "\n",
      "Column 1: content\n",
      "Column 2: sentiment\n"
     ]
    },
    {
     "data": {
      "text/plain": [
       "Index(['content', 'sentiment'], dtype='object')"
      ]
     },
     "execution_count": 69,
     "metadata": {},
     "output_type": "execute_result"
    }
   ],
   "source": [
    "eda.unique_columns()"
   ]
  },
  {
   "cell_type": "code",
   "execution_count": 70,
   "metadata": {},
   "outputs": [
    {
     "name": "stdout",
     "output_type": "stream",
     "text": [
      "Dtypes:\n",
      "\n",
      " content      object\n",
      "sentiment     int64\n",
      "dtype: object\n"
     ]
    },
    {
     "data": {
      "text/plain": [
       "content      object\n",
       "sentiment     int64\n",
       "dtype: object"
      ]
     },
     "execution_count": 70,
     "metadata": {},
     "output_type": "execute_result"
    }
   ],
   "source": [
    "eda.columns_dtypes()"
   ]
  },
  {
   "cell_type": "code",
   "execution_count": 71,
   "metadata": {},
   "outputs": [
    {
     "name": "stdout",
     "output_type": "stream",
     "text": [
      "Categorical features:\n",
      "\n",
      "* content\n"
     ]
    },
    {
     "name": "stderr",
     "output_type": "stream",
     "text": [
      "/var/folders/k9/6y59tr5d45s1nynfg_sv5zr80000gn/T/ipykernel_17060/4263177674.py:33: FutureWarning: Series.__getitem__ treating keys as positions is deprecated. In a future version, integer keys will always be treated as labels (consistent with DataFrame behavior). To access a value by position, use `ser.iloc[pos]`\n",
      "  categorical_feats = [column for column_idx,column in enumerate(self.df.columns) if self.df.dtypes[column_idx] == 'object']\n",
      "/var/folders/k9/6y59tr5d45s1nynfg_sv5zr80000gn/T/ipykernel_17060/4263177674.py:33: FutureWarning: Series.__getitem__ treating keys as positions is deprecated. In a future version, integer keys will always be treated as labels (consistent with DataFrame behavior). To access a value by position, use `ser.iloc[pos]`\n",
      "  categorical_feats = [column for column_idx,column in enumerate(self.df.columns) if self.df.dtypes[column_idx] == 'object']\n"
     ]
    },
    {
     "data": {
      "text/plain": [
       "array(['content'], dtype='<U7')"
      ]
     },
     "execution_count": 71,
     "metadata": {},
     "output_type": "execute_result"
    }
   ],
   "source": [
    "eda.categorical_features()"
   ]
  },
  {
   "cell_type": "code",
   "execution_count": 72,
   "metadata": {},
   "outputs": [
    {
     "name": "stdout",
     "output_type": "stream",
     "text": [
      "Numerical features: \n",
      "\n",
      "* sentiment\n"
     ]
    },
    {
     "name": "stderr",
     "output_type": "stream",
     "text": [
      "/var/folders/k9/6y59tr5d45s1nynfg_sv5zr80000gn/T/ipykernel_17060/4263177674.py:44: FutureWarning: Series.__getitem__ treating keys as positions is deprecated. In a future version, integer keys will always be treated as labels (consistent with DataFrame behavior). To access a value by position, use `ser.iloc[pos]`\n",
      "  numerical_feats = [column for column_idx,column in enumerate(self.df.columns) if self.df.dtypes[column_idx] != 'object']\n",
      "/var/folders/k9/6y59tr5d45s1nynfg_sv5zr80000gn/T/ipykernel_17060/4263177674.py:44: FutureWarning: Series.__getitem__ treating keys as positions is deprecated. In a future version, integer keys will always be treated as labels (consistent with DataFrame behavior). To access a value by position, use `ser.iloc[pos]`\n",
      "  numerical_feats = [column for column_idx,column in enumerate(self.df.columns) if self.df.dtypes[column_idx] != 'object']\n"
     ]
    },
    {
     "data": {
      "text/plain": [
       "array(['sentiment'], dtype='<U9')"
      ]
     },
     "execution_count": 72,
     "metadata": {},
     "output_type": "execute_result"
    }
   ],
   "source": [
    "eda.numerical_features()"
   ]
  },
  {
   "cell_type": "code",
   "execution_count": 73,
   "metadata": {},
   "outputs": [
    {
     "name": "stdout",
     "output_type": "stream",
     "text": [
      "Amout of Nans per class:\n"
     ]
    },
    {
     "data": {
      "text/plain": [
       "content      0\n",
       "sentiment    0\n",
       "dtype: int64"
      ]
     },
     "execution_count": 73,
     "metadata": {},
     "output_type": "execute_result"
    }
   ],
   "source": [
    "eda.count_NA()"
   ]
  },
  {
   "cell_type": "code",
   "execution_count": 74,
   "metadata": {},
   "outputs": [
    {
     "name": "stdout",
     "output_type": "stream",
     "text": [
      "Amount of duplicates: 659\n"
     ]
    }
   ],
   "source": [
    "eda.duplicates()\n",
    "df = df[df.duplicated() == False]"
   ]
  },
  {
   "cell_type": "code",
   "execution_count": 75,
   "metadata": {},
   "outputs": [
    {
     "data": {
      "image/png": "[encoded data removed]",
      "text/plain": [
       "<Figure size 1000x1000 with 1 Axes>"
      ]
     },
     "metadata": {},
     "output_type": "display_data"
    },
    {
     "data": {
      "image/png": "[encoded data removed]",
      "text/plain": [
       "<Figure size 1000x1000 with 1 Axes>"
      ]
     },
     "metadata": {},
     "output_type": "display_data"
    }
   ],
   "source": [
    "data_visualization.distribution_of_target_feature()"
   ]
  },
  {
   "cell_type": "code",
   "execution_count": 76,
   "metadata": {},
   "outputs": [],
   "source": [
    "X = df['content'].values\n",
    "y = df['sentiment'].values\n",
    "\n",
    "x_train,x_test,y_train,y_test = train_test_split(X,y,test_size = 0.2,random_state = 42)"
   ]
  },
  {
   "cell_type": "code",
   "execution_count": 77,
   "metadata": {},
   "outputs": [],
   "source": [
    "tokenizer = Text_Tokenization(nlp)\n",
    "max_len = 350\n",
    "\n",
    "X_train = tokenizer.tokenize(x_train,max_len,vocab = None)\n",
    "vocab = tokenizer.vocab\n",
    "\n",
    "X_test = tokenizer.tokenize(x_test,max_len,vocab)"
   ]
  },
  {
   "cell_type": "code",
   "execution_count": 78,
   "metadata": {},
   "outputs": [
    {
     "data": {
      "image/png": "[encoded data removed]",
      "text/plain": [
       "<Figure size 640x480 with 1 Axes>"
      ]
     },
     "metadata": {},
     "output_type": "display_data"
    }
   ],
   "source": [
    "pca = PCA(n_components = 2)\n",
    "\n",
    "positive_idxs = np.argwhere(y_train == 1)\n",
    "negative_idxs = np.argwhere(y_train == 0)\n",
    "\n",
    "positive_x = X_train[positive_idxs].squeeze()\n",
    "negative_x = X_train[negative_idxs].squeeze()\n",
    "\n",
    "positive_x_2d = pca.fit_transform(positive_x)\n",
    "negative_x_2d = pca.fit_transform(negative_x)\n",
    "\n",
    "plt.scatter(positive_x_2d[:,0],positive_x_2d[:,1],color = colors[0],label = 'positive')\n",
    "plt.scatter(negative_x_2d[:,0],negative_x_2d[:,1],color = colors[4],label = 'negative')\n",
    "plt.title('Distribution of positive and negative comments')\n",
    "plt.xlabel('PCA1')\n",
    "plt.ylabel('PCA2')\n",
    "plt.show()"
   ]
  },
  {
   "cell_type": "code",
   "execution_count": 79,
   "metadata": {},
   "outputs": [],
   "source": [
    "batch_size = 32\n",
    "train_data = DataLoader(list(zip(X_train,y_train)),batch_size = batch_size,shuffle = True)\n",
    "test_data = DataLoader(list(zip(X_test,y_test)),batch_size = batch_size)"
   ]
  },
  {
   "cell_type": "code",
   "execution_count": 83,
   "metadata": {},
   "outputs": [
    {
     "name": "stdout",
     "output_type": "stream",
     "text": [
      "Unique values of sentiment: [0 1]\n"
     ]
    }
   ],
   "source": [
    "vocab_size = len(vocab.get_stoi())\n",
    "embedding_size = 64\n",
    "hidden_size = 164\n",
    "num_layers = 1\n",
    "n_classes = len(eda.unique_values(target_feature))\n",
    "\n",
    "test_x,_ = next(iter(train_data))"
   ]
  },
  {
   "cell_type": "code",
   "execution_count": 84,
   "metadata": {},
   "outputs": [],
   "source": [
    "model_rnn = Sentiment_rnn(batch_size,max_len,vocab_size,embedding_size,hidden_size,num_layers,n_classes)\n",
    "model_lstm = Sentiment_lstm(batch_size,max_len,vocab_size,embedding_size,hidden_size,num_layers,n_classes)"
   ]
  },
  {
   "cell_type": "code",
   "execution_count": 85,
   "metadata": {},
   "outputs": [
    {
     "name": "stdout",
     "output_type": "stream",
     "text": [
      "RNN model:\n"
     ]
    },
    {
     "data": {
      "application/vnd.jupyter.widget-view+json": {
       "model_id": "14b672e36c0b44e29b47a5087d81202f",
       "version_major": 2,
       "version_minor": 0
      },
      "text/plain": [
       "  0%|          | 0/21 [00:00<?, ?it/s]"
      ]
     },
     "metadata": {},
     "output_type": "display_data"
    },
    {
     "name": "stdout",
     "output_type": "stream",
     "text": [
      "Epoch: 0\n"
     ]
    },
    {
     "data": {
      "application/vnd.jupyter.widget-view+json": {
       "model_id": "e3232a64d93e4f2db5202c3274a777a5",
       "version_major": 2,
       "version_minor": 0
      },
      "text/plain": [
       "0it [00:00, ?it/s]"
      ]
     },
     "metadata": {},
     "output_type": "display_data"
    },
    {
     "name": "stdout",
     "output_type": "stream",
     "text": [
      "\n",
      "Epoch: 0 | Train Loss: 0.6759077310562134 | Train Accuracy: 0.5900548986486487\n",
      "Epoch: 1\n"
     ]
    },
    {
     "data": {
      "application/vnd.jupyter.widget-view+json": {
       "model_id": "0839b1c4f31b436b9ab97fbd84e51c5d",
       "version_major": 2,
       "version_minor": 0
      },
      "text/plain": [
       "0it [00:00, ?it/s]"
      ]
     },
     "metadata": {},
     "output_type": "display_data"
    },
    {
     "name": "stdout",
     "output_type": "stream",
     "text": [
      "\n",
      "Epoch: 1 | Train Loss: 0.6726794242858887 | Train Accuracy: 0.5956050916988417\n",
      "Epoch: 2\n"
     ]
    },
    {
     "data": {
      "application/vnd.jupyter.widget-view+json": {
       "model_id": "9a5d92636b3a478eac22752fbfca4832",
       "version_major": 2,
       "version_minor": 0
      },
      "text/plain": [
       "0it [00:00, ?it/s]"
      ]
     },
     "metadata": {},
     "output_type": "display_data"
    },
    {
     "name": "stdout",
     "output_type": "stream",
     "text": [
      "\n",
      "Epoch: 2 | Train Loss: 0.665961742401123 | Train Accuracy: 0.5977618243243243\n",
      "Epoch: 3\n"
     ]
    },
    {
     "data": {
      "application/vnd.jupyter.widget-view+json": {
       "model_id": "27909b11d30d40ada82c1b90bc995da9",
       "version_major": 2,
       "version_minor": 0
      },
      "text/plain": [
       "0it [00:00, ?it/s]"
      ]
     },
     "metadata": {},
     "output_type": "display_data"
    },
    {
     "name": "stdout",
     "output_type": "stream",
     "text": [
      "\n",
      "Epoch: 3 | Train Loss: 0.6518943309783936 | Train Accuracy: 0.6205809604247104\n",
      "Epoch: 4\n"
     ]
    },
    {
     "data": {
      "application/vnd.jupyter.widget-view+json": {
       "model_id": "3cae03dd40fe49ad9431b0b88416ae4b",
       "version_major": 2,
       "version_minor": 0
      },
      "text/plain": [
       "0it [00:00, ?it/s]"
      ]
     },
     "metadata": {},
     "output_type": "display_data"
    },
    {
     "name": "stdout",
     "output_type": "stream",
     "text": [
      "\n",
      "Epoch: 4 | Train Loss: 0.6257187724113464 | Train Accuracy: 0.6634743001930502\n",
      "Epoch: 5\n"
     ]
    },
    {
     "data": {
      "application/vnd.jupyter.widget-view+json": {
       "model_id": "40b8b8c4383b4175ab832ae2730d570d",
       "version_major": 2,
       "version_minor": 0
      },
      "text/plain": [
       "0it [00:00, ?it/s]"
      ]
     },
     "metadata": {},
     "output_type": "display_data"
    },
    {
     "name": "stdout",
     "output_type": "stream",
     "text": [
      "\n",
      "Epoch: 5 | Train Loss: 0.600152850151062 | Train Accuracy: 0.6962174227799227\n",
      "Epoch: 6\n"
     ]
    },
    {
     "data": {
      "application/vnd.jupyter.widget-view+json": {
       "model_id": "fb1250589fcf4a78b952539df323f271",
       "version_major": 2,
       "version_minor": 0
      },
      "text/plain": [
       "0it [00:00, ?it/s]"
      ]
     },
     "metadata": {},
     "output_type": "display_data"
    },
    {
     "name": "stdout",
     "output_type": "stream",
     "text": [
      "\n",
      "Epoch: 6 | Train Loss: 0.5847204327583313 | Train Accuracy: 0.7060961631274131\n",
      "Epoch: 7\n"
     ]
    },
    {
     "data": {
      "application/vnd.jupyter.widget-view+json": {
       "model_id": "fc486ce55c1447a7bdcbf26c195b76c8",
       "version_major": 2,
       "version_minor": 0
      },
      "text/plain": [
       "0it [00:00, ?it/s]"
      ]
     },
     "metadata": {},
     "output_type": "display_data"
    },
    {
     "name": "stdout",
     "output_type": "stream",
     "text": [
      "\n",
      "Epoch: 7 | Train Loss: 0.5705880522727966 | Train Accuracy: 0.7234103523166023\n",
      "Epoch: 8\n"
     ]
    },
    {
     "data": {
      "application/vnd.jupyter.widget-view+json": {
       "model_id": "761e734228d24beca9cfcc096a927ea2",
       "version_major": 2,
       "version_minor": 0
      },
      "text/plain": [
       "0it [00:00, ?it/s]"
      ]
     },
     "metadata": {},
     "output_type": "display_data"
    },
    {
     "name": "stdout",
     "output_type": "stream",
     "text": [
      "\n",
      "Epoch: 8 | Train Loss: 0.5583391785621643 | Train Accuracy: 0.7302425193050194\n",
      "Epoch: 9\n"
     ]
    },
    {
     "data": {
      "application/vnd.jupyter.widget-view+json": {
       "model_id": "48b588ef12764f19ad4a76aef38829bd",
       "version_major": 2,
       "version_minor": 0
      },
      "text/plain": [
       "0it [00:00, ?it/s]"
      ]
     },
     "metadata": {},
     "output_type": "display_data"
    },
    {
     "name": "stdout",
     "output_type": "stream",
     "text": [
      "\n",
      "Epoch: 9 | Train Loss: 0.5470447540283203 | Train Accuracy: 0.7361395994208494\n",
      "Epoch: 10\n"
     ]
    },
    {
     "data": {
      "application/vnd.jupyter.widget-view+json": {
       "model_id": "25624271dc724096a44816d44c0a2301",
       "version_major": 2,
       "version_minor": 0
      },
      "text/plain": [
       "0it [00:00, ?it/s]"
      ]
     },
     "metadata": {},
     "output_type": "display_data"
    },
    {
     "name": "stdout",
     "output_type": "stream",
     "text": [
      "\n",
      "Epoch: 10 | Train Loss: 0.5351802110671997 | Train Accuracy: 0.7427153716216216\n",
      "Epoch: 11\n"
     ]
    },
    {
     "data": {
      "application/vnd.jupyter.widget-view+json": {
       "model_id": "b9368e61cadc4900855dcf214fcd8e26",
       "version_major": 2,
       "version_minor": 0
      },
      "text/plain": [
       "0it [00:00, ?it/s]"
      ]
     },
     "metadata": {},
     "output_type": "display_data"
    },
    {
     "name": "stdout",
     "output_type": "stream",
     "text": [
      "\n",
      "Epoch: 11 | Train Loss: 0.5222584009170532 | Train Accuracy: 0.7520662403474904\n",
      "Epoch: 12\n"
     ]
    },
    {
     "data": {
      "application/vnd.jupyter.widget-view+json": {
       "model_id": "828ad3e4840142c880cc7a783c8a9f5f",
       "version_major": 2,
       "version_minor": 0
      },
      "text/plain": [
       "0it [00:00, ?it/s]"
      ]
     },
     "metadata": {},
     "output_type": "display_data"
    },
    {
     "name": "stdout",
     "output_type": "stream",
     "text": [
      "\n",
      "Epoch: 12 | Train Loss: 0.5106722116470337 | Train Accuracy: 0.7593659507722007\n",
      "Epoch: 13\n"
     ]
    },
    {
     "data": {
      "application/vnd.jupyter.widget-view+json": {
       "model_id": "7e422b72fc994786b25f05643a18ec87",
       "version_major": 2,
       "version_minor": 0
      },
      "text/plain": [
       "0it [00:00, ?it/s]"
      ]
     },
     "metadata": {},
     "output_type": "display_data"
    },
    {
     "name": "stdout",
     "output_type": "stream",
     "text": [
      "\n",
      "Epoch: 13 | Train Loss: 0.5004330277442932 | Train Accuracy: 0.7670427123552124\n",
      "Epoch: 14\n"
     ]
    },
    {
     "data": {
      "application/vnd.jupyter.widget-view+json": {
       "model_id": "e5a6b6dd5f0040b192a66f294ff26c11",
       "version_major": 2,
       "version_minor": 0
      },
      "text/plain": [
       "0it [00:00, ?it/s]"
      ]
     },
     "metadata": {},
     "output_type": "display_data"
    },
    {
     "name": "stdout",
     "output_type": "stream",
     "text": [
      "\n",
      "Epoch: 14 | Train Loss: 0.49103665351867676 | Train Accuracy: 0.7722007722007722\n",
      "Epoch: 15\n"
     ]
    },
    {
     "data": {
      "application/vnd.jupyter.widget-view+json": {
       "model_id": "680954133ee7457d9a559a79148fa85a",
       "version_major": 2,
       "version_minor": 0
      },
      "text/plain": [
       "0it [00:00, ?it/s]"
      ]
     },
     "metadata": {},
     "output_type": "display_data"
    },
    {
     "name": "stdout",
     "output_type": "stream",
     "text": [
      "\n",
      "Epoch: 15 | Train Loss: 0.48113152384757996 | Train Accuracy: 0.7768460424710425\n",
      "Epoch: 16\n"
     ]
    },
    {
     "data": {
      "application/vnd.jupyter.widget-view+json": {
       "model_id": "95913ab021a24f9683dde59c3b76182e",
       "version_major": 2,
       "version_minor": 0
      },
      "text/plain": [
       "0it [00:00, ?it/s]"
      ]
     },
     "metadata": {},
     "output_type": "display_data"
    },
    {
     "name": "stdout",
     "output_type": "stream",
     "text": [
      "\n",
      "Epoch: 16 | Train Loss: 0.47261491417884827 | Train Accuracy: 0.7830598455598455\n",
      "Epoch: 17\n"
     ]
    },
    {
     "data": {
      "application/vnd.jupyter.widget-view+json": {
       "model_id": "c33f813bb182499ab4c65e650f6a5244",
       "version_major": 2,
       "version_minor": 0
      },
      "text/plain": [
       "0it [00:00, ?it/s]"
      ]
     },
     "metadata": {},
     "output_type": "display_data"
    },
    {
     "name": "stdout",
     "output_type": "stream",
     "text": [
      "\n",
      "Epoch: 17 | Train Loss: 0.4647088050842285 | Train Accuracy: 0.7895903716216216\n",
      "Epoch: 18\n"
     ]
    },
    {
     "data": {
      "application/vnd.jupyter.widget-view+json": {
       "model_id": "48bea59182fb4f46bb67f40f4cbab6ea",
       "version_major": 2,
       "version_minor": 0
      },
      "text/plain": [
       "0it [00:00, ?it/s]"
      ]
     },
     "metadata": {},
     "output_type": "display_data"
    },
    {
     "name": "stdout",
     "output_type": "stream",
     "text": [
      "\n",
      "Epoch: 18 | Train Loss: 0.4556192457675934 | Train Accuracy: 0.7904651303088803\n",
      "Epoch: 19\n"
     ]
    },
    {
     "data": {
      "application/vnd.jupyter.widget-view+json": {
       "model_id": "d5eb4ae25c9642268b56644acff16d72",
       "version_major": 2,
       "version_minor": 0
      },
      "text/plain": [
       "0it [00:00, ?it/s]"
      ]
     },
     "metadata": {},
     "output_type": "display_data"
    },
    {
     "name": "stdout",
     "output_type": "stream",
     "text": [
      "\n",
      "Epoch: 19 | Train Loss: 0.44802531599998474 | Train Accuracy: 0.801082890926641\n",
      "Epoch: 20\n"
     ]
    },
    {
     "data": {
      "application/vnd.jupyter.widget-view+json": {
       "model_id": "f7e654b585e042879b7ce8a0891ec253",
       "version_major": 2,
       "version_minor": 0
      },
      "text/plain": [
       "0it [00:00, ?it/s]"
      ]
     },
     "metadata": {},
     "output_type": "display_data"
    },
    {
     "name": "stdout",
     "output_type": "stream",
     "text": [
      "\n",
      "Epoch: 20 | Train Loss: 0.44158002734184265 | Train Accuracy: 0.8021687982625483\n"
     ]
    },
    {
     "data": {
      "application/vnd.jupyter.widget-view+json": {
       "model_id": "7b5caa62ab9f4988a344f9c55eb4219c",
       "version_major": 2,
       "version_minor": 0
      },
      "text/plain": [
       "0it [00:00, ?it/s]"
      ]
     },
     "metadata": {},
     "output_type": "display_data"
    },
    {
     "name": "stdout",
     "output_type": "stream",
     "text": [
      "\n",
      "Test Loss: 0.5880159139633179 | Test Accuracy: 0.6959459459459459\n",
      "\n",
      "LSTM model:\n"
     ]
    },
    {
     "data": {
      "application/vnd.jupyter.widget-view+json": {
       "model_id": "12da6757dc1f4c388794359a22392178",
       "version_major": 2,
       "version_minor": 0
      },
      "text/plain": [
       "  0%|          | 0/21 [00:00<?, ?it/s]"
      ]
     },
     "metadata": {},
     "output_type": "display_data"
    },
    {
     "name": "stdout",
     "output_type": "stream",
     "text": [
      "Epoch: 0\n"
     ]
    },
    {
     "data": {
      "application/vnd.jupyter.widget-view+json": {
       "model_id": "93c94776b4494dda864853ff57e8b9e9",
       "version_major": 2,
       "version_minor": 0
      },
      "text/plain": [
       "0it [00:00, ?it/s]"
      ]
     },
     "metadata": {},
     "output_type": "display_data"
    },
    {
     "name": "stdout",
     "output_type": "stream",
     "text": [
      "\n",
      "Epoch: 0 | Train Loss: 0.6775507926940918 | Train Accuracy: 0.5850325772200773\n",
      "Epoch: 1\n"
     ]
    },
    {
     "data": {
      "application/vnd.jupyter.widget-view+json": {
       "model_id": "15751308ba7d4b4d9c8eddff6f51aa6d",
       "version_major": 2,
       "version_minor": 0
      },
      "text/plain": [
       "0it [00:00, ?it/s]"
      ]
     },
     "metadata": {},
     "output_type": "display_data"
    },
    {
     "name": "stdout",
     "output_type": "stream",
     "text": [
      "\n",
      "Epoch: 1 | Train Loss: 0.6728169918060303 | Train Accuracy: 0.5955749276061777\n",
      "Epoch: 2\n"
     ]
    },
    {
     "data": {
      "application/vnd.jupyter.widget-view+json": {
       "model_id": "5190fc22f4eb4120a2949892af1a56e5",
       "version_major": 2,
       "version_minor": 0
      },
      "text/plain": [
       "0it [00:00, ?it/s]"
      ]
     },
     "metadata": {},
     "output_type": "display_data"
    },
    {
     "name": "stdout",
     "output_type": "stream",
     "text": [
      "\n",
      "Epoch: 2 | Train Loss: 0.6691816449165344 | Train Accuracy: 0.5956201737451737\n",
      "Epoch: 3\n"
     ]
    },
    {
     "data": {
      "application/vnd.jupyter.widget-view+json": {
       "model_id": "6908fa6a52324aa388b953dd161a09d8",
       "version_major": 2,
       "version_minor": 0
      },
      "text/plain": [
       "0it [00:00, ?it/s]"
      ]
     },
     "metadata": {},
     "output_type": "display_data"
    },
    {
     "name": "stdout",
     "output_type": "stream",
     "text": [
      "\n",
      "Epoch: 3 | Train Loss: 0.6602402329444885 | Train Accuracy: 0.5980333011583011\n",
      "Epoch: 4\n"
     ]
    },
    {
     "data": {
      "application/vnd.jupyter.widget-view+json": {
       "model_id": "f4327ede69e343b8afe69603ed511914",
       "version_major": 2,
       "version_minor": 0
      },
      "text/plain": [
       "0it [00:00, ?it/s]"
      ]
     },
     "metadata": {},
     "output_type": "display_data"
    },
    {
     "name": "stdout",
     "output_type": "stream",
     "text": [
      "\n",
      "Epoch: 4 | Train Loss: 0.6442462205886841 | Train Accuracy: 0.6247285231660232\n",
      "Epoch: 5\n"
     ]
    },
    {
     "data": {
      "application/vnd.jupyter.widget-view+json": {
       "model_id": "0cf611cba1f84623b361b5afcad40bb1",
       "version_major": 2,
       "version_minor": 0
      },
      "text/plain": [
       "0it [00:00, ?it/s]"
      ]
     },
     "metadata": {},
     "output_type": "display_data"
    },
    {
     "name": "stdout",
     "output_type": "stream",
     "text": [
      "\n",
      "Epoch: 5 | Train Loss: 0.6189168095588684 | Train Accuracy: 0.6669280888030887\n",
      "Epoch: 6\n"
     ]
    },
    {
     "data": {
      "application/vnd.jupyter.widget-view+json": {
       "model_id": "6211ed6aa46842f9821ece70930c258b",
       "version_major": 2,
       "version_minor": 0
      },
      "text/plain": [
       "0it [00:00, ?it/s]"
      ]
     },
     "metadata": {},
     "output_type": "display_data"
    },
    {
     "name": "stdout",
     "output_type": "stream",
     "text": [
      "\n",
      "Epoch: 6 | Train Loss: 0.5957609415054321 | Train Accuracy: 0.6879675434362934\n",
      "Epoch: 7\n"
     ]
    },
    {
     "data": {
      "application/vnd.jupyter.widget-view+json": {
       "model_id": "28b7b6cabc1f400e9a35f3083a67d178",
       "version_major": 2,
       "version_minor": 0
      },
      "text/plain": [
       "0it [00:00, ?it/s]"
      ]
     },
     "metadata": {},
     "output_type": "display_data"
    },
    {
     "name": "stdout",
     "output_type": "stream",
     "text": [
      "\n",
      "Epoch: 7 | Train Loss: 0.5826787948608398 | Train Accuracy: 0.6945433156370656\n",
      "Epoch: 8\n"
     ]
    },
    {
     "data": {
      "application/vnd.jupyter.widget-view+json": {
       "model_id": "cee7c5f2e1a248699fb0cf558f431fcd",
       "version_major": 2,
       "version_minor": 0
      },
      "text/plain": [
       "0it [00:00, ?it/s]"
      ]
     },
     "metadata": {},
     "output_type": "display_data"
    },
    {
     "name": "stdout",
     "output_type": "stream",
     "text": [
      "\n",
      "Epoch: 8 | Train Loss: 0.5733749270439148 | Train Accuracy: 0.7017223696911197\n",
      "Epoch: 9\n"
     ]
    },
    {
     "data": {
      "application/vnd.jupyter.widget-view+json": {
       "model_id": "65b6ad2fbdde4a2f958c8cbb20d96c61",
       "version_major": 2,
       "version_minor": 0
      },
      "text/plain": [
       "0it [00:00, ?it/s]"
      ]
     },
     "metadata": {},
     "output_type": "display_data"
    },
    {
     "name": "stdout",
     "output_type": "stream",
     "text": [
      "\n",
      "Epoch: 9 | Train Loss: 0.5654386281967163 | Train Accuracy: 0.7061112451737452\n",
      "Epoch: 10\n"
     ]
    },
    {
     "data": {
      "application/vnd.jupyter.widget-view+json": {
       "model_id": "b7db77aab1364ab6a0c3e16669917287",
       "version_major": 2,
       "version_minor": 0
      },
      "text/plain": [
       "0it [00:00, ?it/s]"
      ]
     },
     "metadata": {},
     "output_type": "display_data"
    },
    {
     "name": "stdout",
     "output_type": "stream",
     "text": [
      "\n",
      "Epoch: 10 | Train Loss: 0.5585401654243469 | Train Accuracy: 0.7111486486486487\n",
      "Epoch: 11\n"
     ]
    },
    {
     "data": {
      "application/vnd.jupyter.widget-view+json": {
       "model_id": "3a35ea7f8e3144cdba30a52d8c15fbe7",
       "version_major": 2,
       "version_minor": 0
      },
      "text/plain": [
       "0it [00:00, ?it/s]"
      ]
     },
     "metadata": {},
     "output_type": "display_data"
    },
    {
     "name": "stdout",
     "output_type": "stream",
     "text": [
      "\n",
      "Epoch: 11 | Train Loss: 0.5516336560249329 | Train Accuracy: 0.7165631032818534\n",
      "Epoch: 12\n"
     ]
    },
    {
     "data": {
      "application/vnd.jupyter.widget-view+json": {
       "model_id": "ef163cc8bed94e829e145846279bd7db",
       "version_major": 2,
       "version_minor": 0
      },
      "text/plain": [
       "0it [00:00, ?it/s]"
      ]
     },
     "metadata": {},
     "output_type": "display_data"
    },
    {
     "name": "stdout",
     "output_type": "stream",
     "text": [
      "\n",
      "Epoch: 12 | Train Loss: 0.544956386089325 | Train Accuracy: 0.7217211631274131\n",
      "Epoch: 13\n"
     ]
    },
    {
     "data": {
      "application/vnd.jupyter.widget-view+json": {
       "model_id": "d0ef05a19fe84e628c554bf10422d46e",
       "version_major": 2,
       "version_minor": 0
      },
      "text/plain": [
       "0it [00:00, ?it/s]"
      ]
     },
     "metadata": {},
     "output_type": "display_data"
    },
    {
     "name": "stdout",
     "output_type": "stream",
     "text": [
      "\n",
      "Epoch: 13 | Train Loss: 0.5378255844116211 | Train Accuracy: 0.7294130067567568\n",
      "Epoch: 14\n"
     ]
    },
    {
     "data": {
      "application/vnd.jupyter.widget-view+json": {
       "model_id": "36b24e4838fa43bba76216fccb9fb781",
       "version_major": 2,
       "version_minor": 0
      },
      "text/plain": [
       "0it [00:00, ?it/s]"
      ]
     },
     "metadata": {},
     "output_type": "display_data"
    },
    {
     "name": "stdout",
     "output_type": "stream",
     "text": [
      "\n",
      "Epoch: 14 | Train Loss: 0.5316110849380493 | Train Accuracy: 0.7328969594594594\n",
      "Epoch: 15\n"
     ]
    },
    {
     "data": {
      "application/vnd.jupyter.widget-view+json": {
       "model_id": "9bacf923c0a9413688c4554e33a1e274",
       "version_major": 2,
       "version_minor": 0
      },
      "text/plain": [
       "0it [00:00, ?it/s]"
      ]
     },
     "metadata": {},
     "output_type": "display_data"
    },
    {
     "name": "stdout",
     "output_type": "stream",
     "text": [
      "\n",
      "Epoch: 15 | Train Loss: 0.5249545574188232 | Train Accuracy: 0.7374819015444015\n",
      "Epoch: 16\n"
     ]
    },
    {
     "data": {
      "application/vnd.jupyter.widget-view+json": {
       "model_id": "afdd57d4f26d431b9bb08e04f7b46e24",
       "version_major": 2,
       "version_minor": 0
      },
      "text/plain": [
       "0it [00:00, ?it/s]"
      ]
     },
     "metadata": {},
     "output_type": "display_data"
    },
    {
     "name": "stdout",
     "output_type": "stream",
     "text": [
      "\n",
      "Epoch: 16 | Train Loss: 0.5181183815002441 | Train Accuracy: 0.7412071669884169\n",
      "Epoch: 17\n"
     ]
    },
    {
     "data": {
      "application/vnd.jupyter.widget-view+json": {
       "model_id": "c0a5a1e3409b4d77b4679c4894bdb852",
       "version_major": 2,
       "version_minor": 0
      },
      "text/plain": [
       "0it [00:00, ?it/s]"
      ]
     },
     "metadata": {},
     "output_type": "display_data"
    },
    {
     "name": "stdout",
     "output_type": "stream",
     "text": [
      "\n",
      "Epoch: 17 | Train Loss: 0.5129088163375854 | Train Accuracy: 0.7440275096525096\n",
      "Epoch: 18\n"
     ]
    },
    {
     "data": {
      "application/vnd.jupyter.widget-view+json": {
       "model_id": "93a4a4bea2b14ea88ce4942cecc4435f",
       "version_major": 2,
       "version_minor": 0
      },
      "text/plain": [
       "0it [00:00, ?it/s]"
      ]
     },
     "metadata": {},
     "output_type": "display_data"
    },
    {
     "name": "stdout",
     "output_type": "stream",
     "text": [
      "\n",
      "Epoch: 18 | Train Loss: 0.5063631534576416 | Train Accuracy: 0.749698359073359\n",
      "Epoch: 19\n"
     ]
    },
    {
     "data": {
      "application/vnd.jupyter.widget-view+json": {
       "model_id": "a7351e1b9e50447f9cc35dbca5f6404e",
       "version_major": 2,
       "version_minor": 0
      },
      "text/plain": [
       "0it [00:00, ?it/s]"
      ]
     },
     "metadata": {},
     "output_type": "display_data"
    },
    {
     "name": "stdout",
     "output_type": "stream",
     "text": [
      "\n",
      "Epoch: 19 | Train Loss: 0.5009201765060425 | Train Accuracy: 0.7527449324324325\n",
      "Epoch: 20\n"
     ]
    },
    {
     "data": {
      "application/vnd.jupyter.widget-view+json": {
       "model_id": "97afd67712b54b46b0bb41ce4378fea9",
       "version_major": 2,
       "version_minor": 0
      },
      "text/plain": [
       "0it [00:00, ?it/s]"
      ]
     },
     "metadata": {},
     "output_type": "display_data"
    },
    {
     "name": "stdout",
     "output_type": "stream",
     "text": [
      "\n",
      "Epoch: 20 | Train Loss: 0.49584439396858215 | Train Accuracy: 0.7567416747104247\n"
     ]
    },
    {
     "data": {
      "application/vnd.jupyter.widget-view+json": {
       "model_id": "6db3a6cbde8d4d55a007bcf819a53dfe",
       "version_major": 2,
       "version_minor": 0
      },
      "text/plain": [
       "0it [00:00, ?it/s]"
      ]
     },
     "metadata": {},
     "output_type": "display_data"
    },
    {
     "name": "stdout",
     "output_type": "stream",
     "text": [
      "\n",
      "Test Loss: 0.5359441041946411 | Test Accuracy: 0.734375\n"
     ]
    }
   ],
   "source": [
    "lr = 0.00001\n",
    "loss_function = torch.nn.CrossEntropyLoss()\n",
    "optimizer_rnn = torch.optim.Adam(model_rnn.parameters(),lr = lr)\n",
    "optimizer_lstm = torch.optim.Adam(model_lstm.parameters(),lr = lr)\n",
    "\n",
    "Trainer_rnn = Train_Model(model_rnn,loss_function,optimizer_rnn,epochs = 20)\n",
    "Trainer_lst = Train_Model(model_lstm,loss_function,optimizer_lstm,epochs = 20)\n",
    "\n",
    "print(f'RNN model:')\n",
    "Trainer_rnn.fit(train_data)\n",
    "Trainer_rnn.eval(test_data)\n",
    "\n",
    "print(f'\\nLSTM model:')\n",
    "Trainer_lst.fit(train_data)\n",
    "Trainer_lst.eval(test_data)"
   ]
  },
  {
   "cell_type": "code",
   "execution_count": null,
   "metadata": {},
   "outputs": [
    {
     "name": "stdout",
     "output_type": "stream",
     "text": [
      "Review: Subscription!!! - positive\n"
     ]
    },
    {
     "data": {
      "text/plain": [
       "'positive'"
      ]
     },
     "execution_count": 75,
     "metadata": {},
     "output_type": "execute_result"
    }
   ],
   "source": [
    "review = df['content'].iloc[99]\n",
    "\n",
    "Sentiment(model_rnn,review)"
   ]
  },
  {
   "cell_type": "code",
   "execution_count": null,
   "metadata": {},
   "outputs": [],
   "source": []
  }
 ],
 "metadata": {
  "kernelspec": {
   "display_name": "Python 3",
   "language": "python",
   "name": "python3"
  },
  "language_info": {
   "codemirror_mode": {
    "name": "ipython",
    "version": 3
   },
   "file_extension": ".py",
   "mimetype": "text/x-python",
   "name": "python",
   "nbconvert_exporter": "python",
   "pygments_lexer": "ipython3",
   "version": "3.11.0"
  }
 },
 "nbformat": 4,
 "nbformat_minor": 2
}
