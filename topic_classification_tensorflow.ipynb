{
 "cells": [
  {
   "cell_type": "code",
   "execution_count": 77,
   "metadata": {},
   "outputs": [
    {
     "data": {
      "text/html": [
       "<svg  width=\"330\" height=\"55\"><rect x=\"0\" y=\"0\" width=\"55\" height=\"55\" style=\"fill:#35193e;stroke-width:2;stroke:rgb(255,255,255)\"/><rect x=\"55\" y=\"0\" width=\"55\" height=\"55\" style=\"fill:#701f57;stroke-width:2;stroke:rgb(255,255,255)\"/><rect x=\"110\" y=\"0\" width=\"55\" height=\"55\" style=\"fill:#ad1759;stroke-width:2;stroke:rgb(255,255,255)\"/><rect x=\"165\" y=\"0\" width=\"55\" height=\"55\" style=\"fill:#e13342;stroke-width:2;stroke:rgb(255,255,255)\"/><rect x=\"220\" y=\"0\" width=\"55\" height=\"55\" style=\"fill:#f37651;stroke-width:2;stroke:rgb(255,255,255)\"/><rect x=\"275\" y=\"0\" width=\"55\" height=\"55\" style=\"fill:#f6b48f;stroke-width:2;stroke:rgb(255,255,255)\"/></svg>"
      ],
      "text/plain": [
       "[(0.20973515, 0.09747934, 0.24238489),\n",
       " (0.43860848, 0.12177004, 0.34119475),\n",
       " (0.67824099, 0.09192342, 0.3504148),\n",
       " (0.8833417, 0.19830556, 0.26014181),\n",
       " (0.95381595, 0.46373781, 0.31769923),\n",
       " (0.96516917, 0.70776351, 0.5606593)]"
      ]
     },
     "execution_count": 77,
     "metadata": {},
     "output_type": "execute_result"
    }
   ],
   "source": [
    "import numpy as np\n",
    "import pandas as pd\n",
    "import matplotlib.pyplot as plt\n",
    "import seaborn as sns\n",
    "\n",
    "from sklearn.preprocessing import OneHotEncoder\n",
    "from sklearn.preprocessing import normalize\n",
    "\n",
    "from sklearn.model_selection import train_test_split\n",
    "\n",
    "from sklearn.metrics import accuracy_score as accuracy\n",
    "\n",
    "import tensorflow as tf\n",
    "from tensorflow.keras.preprocessing.text import Tokenizer\n",
    "\n",
    "import spacy\n",
    "nlp = spacy.load('en_core_web_sm')\n",
    "\n",
    "from sklearn.decomposition import PCA\n",
    "\n",
    "from tqdm.auto import tqdm\n",
    "\n",
    "colors = sns.color_palette(\"rocket\")\n",
    "colors"
   ]
  },
  {
   "cell_type": "code",
   "execution_count": 78,
   "metadata": {},
   "outputs": [
    {
     "data": {
      "text/html": [
       "<div>\n",
       "<style scoped>\n",
       "    .dataframe tbody tr th:only-of-type {\n",
       "        vertical-align: middle;\n",
       "    }\n",
       "\n",
       "    .dataframe tbody tr th {\n",
       "        vertical-align: top;\n",
       "    }\n",
       "\n",
       "    .dataframe thead th {\n",
       "        text-align: right;\n",
       "    }\n",
       "</style>\n",
       "<table border=\"1\" class=\"dataframe\">\n",
       "  <thead>\n",
       "    <tr style=\"text-align: right;\">\n",
       "      <th></th>\n",
       "      <th>id</th>\n",
       "      <th>url</th>\n",
       "      <th>title</th>\n",
       "      <th>subtitle</th>\n",
       "      <th>claps</th>\n",
       "      <th>responses</th>\n",
       "      <th>reading_time</th>\n",
       "      <th>publication</th>\n",
       "      <th>date</th>\n",
       "    </tr>\n",
       "  </thead>\n",
       "  <tbody>\n",
       "    <tr>\n",
       "      <th>0</th>\n",
       "      <td>1</td>\n",
       "      <td>https://towardsdatascience.com/not-all-rainbow...</td>\n",
       "      <td>Not All Rainbows and Sunshine: The Darker Side...</td>\n",
       "      <td>Part 1: The Risks and Ethical Issues…</td>\n",
       "      <td>453.0</td>\n",
       "      <td>11</td>\n",
       "      <td>9</td>\n",
       "      <td>Towards Data Science</td>\n",
       "      <td>27-01-2023</td>\n",
       "    </tr>\n",
       "    <tr>\n",
       "      <th>1</th>\n",
       "      <td>2</td>\n",
       "      <td>https://towardsdatascience.com/ethics-in-ai-po...</td>\n",
       "      <td>Ethics in AI: Potential Root Causes for Biased...</td>\n",
       "      <td>An alternative approach to understanding bias ...</td>\n",
       "      <td>311.0</td>\n",
       "      <td>3</td>\n",
       "      <td>12</td>\n",
       "      <td>Towards Data Science</td>\n",
       "      <td>27-01-2023</td>\n",
       "    </tr>\n",
       "    <tr>\n",
       "      <th>2</th>\n",
       "      <td>3</td>\n",
       "      <td>https://towardsdatascience.com/python-tuple-th...</td>\n",
       "      <td>Python Tuple, The Whole Truth and Only the Tru...</td>\n",
       "      <td>NaN</td>\n",
       "      <td>188.0</td>\n",
       "      <td>0</td>\n",
       "      <td>24</td>\n",
       "      <td>Towards Data Science</td>\n",
       "      <td>27-01-2023</td>\n",
       "    </tr>\n",
       "  </tbody>\n",
       "</table>\n",
       "</div>"
      ],
      "text/plain": [
       "   id                                                url  \\\n",
       "0   1  https://towardsdatascience.com/not-all-rainbow...   \n",
       "1   2  https://towardsdatascience.com/ethics-in-ai-po...   \n",
       "2   3  https://towardsdatascience.com/python-tuple-th...   \n",
       "\n",
       "                                               title  \\\n",
       "0  Not All Rainbows and Sunshine: The Darker Side...   \n",
       "1  Ethics in AI: Potential Root Causes for Biased...   \n",
       "2  Python Tuple, The Whole Truth and Only the Tru...   \n",
       "\n",
       "                                            subtitle  claps  responses  \\\n",
       "0              Part 1: The Risks and Ethical Issues…  453.0         11   \n",
       "1  An alternative approach to understanding bias ...  311.0          3   \n",
       "2                                                NaN  188.0          0   \n",
       "\n",
       "   reading_time           publication        date  \n",
       "0             9  Towards Data Science  27-01-2023  \n",
       "1            12  Towards Data Science  27-01-2023  \n",
       "2            24  Towards Data Science  27-01-2023  "
      ]
     },
     "execution_count": 78,
     "metadata": {},
     "output_type": "execute_result"
    }
   ],
   "source": [
    "df = pd.read_csv('/Users/nazarlenisin/Desktop/Topic Classification/medium_data.csv')\n",
    "df.head(3)"
   ]
  },
  {
   "cell_type": "code",
   "execution_count": 79,
   "metadata": {},
   "outputs": [],
   "source": [
    "class Prior_Data_Analys:\n",
    "  def __init__(self,df):\n",
    "    self.df = df\n",
    "\n",
    "\n",
    "  def shape(self):\n",
    "    n_samples,n_columns = self.df.shape\n",
    "    print(f'Number of samples in Data Set: {n_samples}')\n",
    "    print(f'Number of columns: {n_columns}')\n",
    "\n",
    "    return n_samples,n_columns\n",
    "\n",
    "\n",
    "  def unique_columns(self):\n",
    "    columns = self.df.columns\n",
    "    print(f'Unique columns:\\n')\n",
    "\n",
    "    for column_idx,column in enumerate(columns):\n",
    "      print(f'Column {column_idx + 1}: {column}')\n",
    "\n",
    "    return columns\n",
    "\n",
    "\n",
    "  def columns_dtypes(self):\n",
    "    dtypes = self.df.dtypes\n",
    "    print(f'Dtypes:\\n\\n {dtypes}')\n",
    "\n",
    "    return dtypes\n",
    "\n",
    "\n",
    "  def categorical_features(self):\n",
    "    print(f'Categorical features:\\n')\n",
    "    categorical_feats = [column for column_idx,column in enumerate(self.df.columns) if self.df.dtypes[column_idx] == 'object']\n",
    "\n",
    "    for feature in categorical_feats:\n",
    "      print(f'* {feature}')\n",
    "\n",
    "    return np.array(categorical_feats)\n",
    "\n",
    "\n",
    "  def numerical_features(self):\n",
    "    print(f'Numerical features: \\n')\n",
    "\n",
    "    numerical_feats = [column for column_idx,column in enumerate(self.df.columns) if self.df.dtypes[column_idx] != 'object']\n",
    "    for feature in numerical_feats:\n",
    "      print(f'* {feature}')\n",
    "\n",
    "    return np.array(numerical_feats)\n",
    "\n",
    "\n",
    "  def group_by(self,feature):\n",
    "    categorical = self.categorical_features()\n",
    "\n",
    "    if feature in categorical:\n",
    "      return df.groupby([feature]).count()\n",
    "\n",
    "    else:\n",
    "      return df.groupby([feature]).describe()\n",
    "\n",
    "\n",
    "  def count_NA(self):\n",
    "    print(f'Amout of Nans per class:')\n",
    "    return self.df.isna().sum()\n",
    "\n",
    "\n",
    "  def duplicates(self):\n",
    "    print(f'Amount of duplicates: {self.df.duplicated().sum()}')\n",
    "\n",
    "  def item(self,index):\n",
    "    print(f'Object number: {index}')\n",
    "\n",
    "    return self.df.iloc[index]\n",
    "\n",
    "  def unique_values(self,feature):\n",
    "    data = self.df[feature]\n",
    "\n",
    "    values = data.values\n",
    "    unique_values = np.unique(values)\n",
    "    print(f'Unique values of {feature}: {unique_values}')\n",
    "\n",
    "    return unique_values"
   ]
  },
  {
   "cell_type": "code",
   "execution_count": 80,
   "metadata": {},
   "outputs": [],
   "source": [
    "class Distribution:\n",
    "  def __init__(self,df,target_feature):\n",
    "    self.df = df\n",
    "    self.target_feature = target_feature\n",
    "    self._eda = Prior_Data_Analys(self.df)\n",
    "\n",
    "\n",
    "  def distribution_of_target_feature(self):\n",
    "    for visualization in range(2):\n",
    "      plt.figure(figsize = (10,10))\n",
    "      plt.subplot(2,1,visualization + 1)\n",
    "      if visualization == 0:\n",
    "        sns.histplot(data = self.df,x = self.target_feature,color = colors[3])\n",
    "        plt.title(f'Distribution of Target feature: {self.target_feature}')\n",
    "        plt.show()\n",
    "\n",
    "      else:\n",
    "        sns.boxplot(x = self.df[self.target_feature],color = colors[3])\n",
    "        plt.title(f'Distribution of Target feature: {self.target_feature}')\n",
    "        plt.show()\n",
    "\n",
    "\n",
    "  def distribution_of_numerical_features(self):\n",
    "    numerical_features = self._eda.numerical_features()\n",
    "\n",
    "    for feature_idx,feature in enumerate(numerical_features):\n",
    "      plt.figure(figsize = (15,15))\n",
    "      plt.subplot(len(numerical_features) // 2 + 1 , 2 , feature_idx + 1)\n",
    "      sns.histplot(data = self.df,x = feature,color = colors[1])\n",
    "      plt.title(f'Distibution of {feature}')\n",
    "      plt.tight_layout\n",
    "      plt.show()\n",
    "\n",
    "\n",
    "  def distribution_of_categorical_features(self,top_k = 5):\n",
    "    categorical_features = self._eda.categorical_features()\n",
    "    plt.figure(figsize = (20,20))\n",
    "\n",
    "    for feature_idx,feature in enumerate(categorical_features):\n",
    "\n",
    "      values = self._eda.group_by(feature)[self.target_feature].sort_values(ascending = False).values[:top_k]\n",
    "      labels = self._eda.group_by(feature)[self.target_feature].sort_values(ascending = False).index[:top_k]\n",
    "\n",
    "      data_dict = {'Labels': labels, 'Values': values}\n",
    "      data = pd.DataFrame(data_dict)\n",
    "\n",
    "      plt.subplot(len(categorical_features) // 2 + 1 , 2 , feature_idx + 1)\n",
    "      sns.barplot(data = data,y = 'Labels',x = 'Values',color = colors[-1])\n",
    "      plt.title(f'Top {top_k} {feature} by count')\n",
    "\n",
    "    plt.tight_layout()\n",
    "    plt.show()\n",
    "\n",
    "  def relation_numerical_feats_to_target_feat(self):\n",
    "    numerical_features = self._eda.numerical_features()\n",
    "\n",
    "    data = df[numerical_features]\n",
    "    corr = data.corr()\n",
    "\n",
    "    return sns.heatmap(corr,annot = True, cmap = sns.cubehelix_palette(start=.5, rot=-.5, as_cmap=True))\n",
    "\n",
    "  def relation_categorical_feats_to_target_feat(self,top_k = 3):\n",
    "    categorical_features = self._eda.categorical_features()\n",
    "    plt.figure(figsize = (20,20))\n",
    "\n",
    "    for feature_idx,feature in enumerate(categorical_features):\n",
    "\n",
    "      feats = self._eda.group_by(feature)[self.target_feature].sort_values(ascending = False)[:top_k].index\n",
    "\n",
    "      data = self.df\n",
    "      data = data[data[feature].isin(feats)]\n",
    "\n",
    "      plt.subplot(len(categorical_features) // 2 + 1 , 2 , feature_idx + 1)\n",
    "      sns.stripplot(data = data, x = feature, y = self.target_feature,hue = feature)\n",
    "      plt.title(f'Relation between {feature} (top {top_k}) & {self.target_feature}')\n",
    "\n",
    "    plt.tight_layout()\n",
    "    plt.show()"
   ]
  },
  {
   "cell_type": "code",
   "execution_count": 81,
   "metadata": {},
   "outputs": [],
   "source": [
    "class Text_Tokenization:\n",
    "  def __init__(self,nlp,tokenizer):\n",
    "    self.nlp = nlp\n",
    "    self.tokenizer = tokenizer\n",
    "\n",
    "  def _spacy_tokenizer(self,doc):\n",
    "    return [token.lemma_ for token in self.nlp(doc) if\n",
    "            not token.is_space]\n",
    "\n",
    "  def _text_preprocessing(self,doc):\n",
    "    doc = self._spacy_tokenizer(doc)\n",
    "\n",
    "    return '|'.join(doc)\n",
    "\n",
    "  def tokenize(self,doc,max_len,fit = False):\n",
    "    doc = [self._text_preprocessing(text) for text in doc]\n",
    "\n",
    "    if fit:\n",
    "      self.tokenizer.fit_on_texts(doc)\n",
    "\n",
    "    tokenized_doc = self.tokenizer.texts_to_sequences(doc)\n",
    "    output = tf.keras.utils.pad_sequences(tokenized_doc,max_len,padding = 'post',truncating = 'post')\n",
    "\n",
    "    return output"
   ]
  },
  {
   "cell_type": "code",
   "execution_count": 82,
   "metadata": {},
   "outputs": [],
   "source": [
    "class Publication_rnn(tf.keras.Model):\n",
    "  def __init__(self,vocab_size,embedding_size,hidden_size,n_classes):\n",
    "    super().__init__()\n",
    "    self.vocab_size = vocab_size\n",
    "    self.embedding_size = embedding_size\n",
    "    self.hidden_size = hidden_size\n",
    "    self.n_classes = n_classes\n",
    "\n",
    "    self.embedding = tf.keras.layers.Embedding(vocab_size,embedding_size,mask_zero = True)\n",
    "    self.rnn = tf.keras.layers.SimpleRNN(hidden_size,return_sequences = True)\n",
    "\n",
    "    self.flatten = tf.keras.layers.Flatten()\n",
    "\n",
    "    self.linear_1 = tf.keras.layers.Dense(64,activation = 'sigmoid')\n",
    "    self.linear_2 = tf.keras.layers.Dense(128,activation = 'sigmoid')\n",
    "    self.linear_3 = tf.keras.layers.Dense(n_classes,activation = 'softmax')\n",
    "\n",
    "  def call(self,X):\n",
    "    X = self.embedding(X)\n",
    "\n",
    "    output = self.rnn(X)\n",
    "\n",
    "    output = self.flatten(output)\n",
    "\n",
    "    output = self.linear_1(output)\n",
    "    output = self.linear_2(output)\n",
    "    output = self.linear_3(output)\n",
    "\n",
    "    return output"
   ]
  },
  {
   "cell_type": "code",
   "execution_count": 83,
   "metadata": {},
   "outputs": [],
   "source": [
    "class Publication_lstm(tf.keras.Model):\n",
    "  def __init__(self,vocab_size,embedding_size,hidden_size,n_classes):\n",
    "    super().__init__()\n",
    "    self.vocab_size = vocab_size\n",
    "    self.embedding_size = embedding_size\n",
    "    self.hidden_size = hidden_size\n",
    "    self.n_classes = n_classes\n",
    "\n",
    "    self.embedding = tf.keras.layers.Embedding(vocab_size,embedding_size,mask_zero = True)\n",
    "    self.lstm = tf.keras.layers.LSTM(hidden_size,return_sequences = True)\n",
    "\n",
    "    self.flatten = tf.keras.layers.Flatten()\n",
    "\n",
    "    self.linear_1 = tf.keras.layers.Dense(64,activation = 'sigmoid')\n",
    "    self.linear_2 = tf.keras.layers.Dense(128,activation = 'sigmoid')\n",
    "    self.linear_3 = tf.keras.layers.Dense(n_classes,activation = 'softmax')\n",
    "\n",
    "  def call(self,X):\n",
    "    X = self.embedding(X)\n",
    "\n",
    "    output = self.lstm(X)\n",
    "\n",
    "    output = self.flatten(output)\n",
    "\n",
    "    output = self.linear_1(output)\n",
    "    output = self.linear_2(output)\n",
    "    output = self.linear_3(output)\n",
    "\n",
    "    return output"
   ]
  },
  {
   "cell_type": "code",
   "execution_count": 84,
   "metadata": {},
   "outputs": [],
   "source": [
    "class Train_Model:\n",
    "  def __init__(self,model,lr,batch_size,epochs):\n",
    "    self.model = model\n",
    "    self.lr = lr\n",
    "    self.batch_size = batch_size\n",
    "    self.epochs = epochs\n",
    "\n",
    "  def fit(self,X_train,y_train):\n",
    "    model = self.model\n",
    "\n",
    "    model.compile(\n",
    "        loss = tf.keras.losses.SparseCategoricalCrossentropy(from_logits = False),\n",
    "        optimizer = tf.keras.optimizers.Adam(learning_rate = self.lr),\n",
    "        metrics = ['accuracy']\n",
    "    )\n",
    "\n",
    "    print(f'Metrics on Train Data:')\n",
    "    model.fit(X_train,y_train,batch_size = self.batch_size,epochs = self.epochs)\n",
    "    self.model = model\n",
    "\n",
    "    return model\n",
    "\n",
    "  def eval(self,X_test,y_test):\n",
    "    model = self.model\n",
    "\n",
    "    print(f'\\nMetrics on Test Data:')\n",
    "    model.evaluate(X_test,y_test)"
   ]
  },
  {
   "cell_type": "code",
   "execution_count": 103,
   "metadata": {},
   "outputs": [],
   "source": [
    "def Publication(model,review):\n",
    "  tokenized_review = tokenization.tokenize([review],max_len)\n",
    "\n",
    "  prediction = model(tokenized_review)\n",
    "\n",
    "  label = np.array(tf.argmax(prediction))[0]\n",
    "  publication = publications[label]\n",
    "  print(f'Review: {review} - Publication: {publication}')"
   ]
  },
  {
   "cell_type": "code",
   "execution_count": 86,
   "metadata": {},
   "outputs": [],
   "source": [
    "df['text'] = df.title.astype('str') + df.subtitle.astype('str')\n",
    "df = df[['text','publication']]\n",
    "\n",
    "publications = df['publication'].unique()"
   ]
  },
  {
   "cell_type": "code",
   "execution_count": 87,
   "metadata": {},
   "outputs": [],
   "source": [
    "df = df.replace(to_replace = 'Towards Data Science', value = 0)\n",
    "df = df.replace(to_replace = 'UX Collective', value = 1)\n",
    "df = df.replace(to_replace = 'The Startup', value = 2)\n",
    "df = df.replace(to_replace = 'The Writing Cooperative', value = 3)"
   ]
  },
  {
   "cell_type": "code",
   "execution_count": 88,
   "metadata": {},
   "outputs": [],
   "source": [
    "target_feature = 'publication'\n",
    "\n",
    "eda = Prior_Data_Analys(df)\n",
    "data_visualization = Distribution(df,target_feature)"
   ]
  },
  {
   "cell_type": "code",
   "execution_count": 89,
   "metadata": {},
   "outputs": [
    {
     "name": "stdout",
     "output_type": "stream",
     "text": [
      "Number of samples in Data Set: 2498\n",
      "Number of columns: 2\n"
     ]
    },
    {
     "data": {
      "text/plain": [
       "(2498, 2)"
      ]
     },
     "execution_count": 89,
     "metadata": {},
     "output_type": "execute_result"
    }
   ],
   "source": [
    "eda.shape()"
   ]
  },
  {
   "cell_type": "code",
   "execution_count": 90,
   "metadata": {},
   "outputs": [
    {
     "name": "stdout",
     "output_type": "stream",
     "text": [
      "Unique columns:\n",
      "\n",
      "Column 1: text\n",
      "Column 2: publication\n"
     ]
    },
    {
     "data": {
      "text/plain": [
       "Index(['text', 'publication'], dtype='object')"
      ]
     },
     "execution_count": 90,
     "metadata": {},
     "output_type": "execute_result"
    }
   ],
   "source": [
    "eda.unique_columns()"
   ]
  },
  {
   "cell_type": "code",
   "execution_count": 91,
   "metadata": {},
   "outputs": [
    {
     "name": "stdout",
     "output_type": "stream",
     "text": [
      "Dtypes:\n",
      "\n",
      " text           object\n",
      "publication     int64\n",
      "dtype: object\n"
     ]
    },
    {
     "data": {
      "text/plain": [
       "text           object\n",
       "publication     int64\n",
       "dtype: object"
      ]
     },
     "execution_count": 91,
     "metadata": {},
     "output_type": "execute_result"
    }
   ],
   "source": [
    "eda.columns_dtypes()"
   ]
  },
  {
   "cell_type": "code",
   "execution_count": 92,
   "metadata": {},
   "outputs": [
    {
     "name": "stdout",
     "output_type": "stream",
     "text": [
      "Categorical features:\n",
      "\n",
      "* text\n"
     ]
    },
    {
     "name": "stderr",
     "output_type": "stream",
     "text": [
      "/var/folders/k9/6y59tr5d45s1nynfg_sv5zr80000gn/T/ipykernel_36849/4263177674.py:33: FutureWarning: Series.__getitem__ treating keys as positions is deprecated. In a future version, integer keys will always be treated as labels (consistent with DataFrame behavior). To access a value by position, use `ser.iloc[pos]`\n",
      "  categorical_feats = [column for column_idx,column in enumerate(self.df.columns) if self.df.dtypes[column_idx] == 'object']\n",
      "/var/folders/k9/6y59tr5d45s1nynfg_sv5zr80000gn/T/ipykernel_36849/4263177674.py:33: FutureWarning: Series.__getitem__ treating keys as positions is deprecated. In a future version, integer keys will always be treated as labels (consistent with DataFrame behavior). To access a value by position, use `ser.iloc[pos]`\n",
      "  categorical_feats = [column for column_idx,column in enumerate(self.df.columns) if self.df.dtypes[column_idx] == 'object']\n"
     ]
    },
    {
     "data": {
      "text/plain": [
       "array(['text'], dtype='<U4')"
      ]
     },
     "execution_count": 92,
     "metadata": {},
     "output_type": "execute_result"
    }
   ],
   "source": [
    "eda.categorical_features()"
   ]
  },
  {
   "cell_type": "code",
   "execution_count": 93,
   "metadata": {},
   "outputs": [
    {
     "name": "stdout",
     "output_type": "stream",
     "text": [
      "Numerical features: \n",
      "\n",
      "* publication\n"
     ]
    },
    {
     "name": "stderr",
     "output_type": "stream",
     "text": [
      "/var/folders/k9/6y59tr5d45s1nynfg_sv5zr80000gn/T/ipykernel_36849/4263177674.py:44: FutureWarning: Series.__getitem__ treating keys as positions is deprecated. In a future version, integer keys will always be treated as labels (consistent with DataFrame behavior). To access a value by position, use `ser.iloc[pos]`\n",
      "  numerical_feats = [column for column_idx,column in enumerate(self.df.columns) if self.df.dtypes[column_idx] != 'object']\n",
      "/var/folders/k9/6y59tr5d45s1nynfg_sv5zr80000gn/T/ipykernel_36849/4263177674.py:44: FutureWarning: Series.__getitem__ treating keys as positions is deprecated. In a future version, integer keys will always be treated as labels (consistent with DataFrame behavior). To access a value by position, use `ser.iloc[pos]`\n",
      "  numerical_feats = [column for column_idx,column in enumerate(self.df.columns) if self.df.dtypes[column_idx] != 'object']\n"
     ]
    },
    {
     "data": {
      "text/plain": [
       "array(['publication'], dtype='<U11')"
      ]
     },
     "execution_count": 93,
     "metadata": {},
     "output_type": "execute_result"
    }
   ],
   "source": [
    "eda.numerical_features()"
   ]
  },
  {
   "cell_type": "code",
   "execution_count": 94,
   "metadata": {},
   "outputs": [
    {
     "name": "stdout",
     "output_type": "stream",
     "text": [
      "Amout of Nans per class:\n"
     ]
    },
    {
     "data": {
      "text/plain": [
       "text           0\n",
       "publication    0\n",
       "dtype: int64"
      ]
     },
     "execution_count": 94,
     "metadata": {},
     "output_type": "execute_result"
    }
   ],
   "source": [
    "eda.count_NA()"
   ]
  },
  {
   "cell_type": "code",
   "execution_count": 95,
   "metadata": {},
   "outputs": [
    {
     "name": "stdout",
     "output_type": "stream",
     "text": [
      "Amount of duplicates: 649\n"
     ]
    }
   ],
   "source": [
    "eda.duplicates()\n",
    "df = df[df.duplicated() == False]"
   ]
  },
  {
   "cell_type": "code",
   "execution_count": 96,
   "metadata": {},
   "outputs": [
    {
     "data": {
      "image/png": "[encoded data removed]",
      "text/plain": [
       "<Figure size 1000x1000 with 1 Axes>"
      ]
     },
     "metadata": {},
     "output_type": "display_data"
    },
    {
     "data": {
      "image/png": "[encoded data removed]",
      "text/plain": [
       "<Figure size 1000x1000 with 1 Axes>"
      ]
     },
     "metadata": {},
     "output_type": "display_data"
    }
   ],
   "source": [
    "data_visualization.distribution_of_target_feature()"
   ]
  },
  {
   "cell_type": "code",
   "execution_count": 97,
   "metadata": {},
   "outputs": [],
   "source": [
    "X = df['text'].values\n",
    "y = df['publication'].values\n",
    "\n",
    "X_train,X_test,y_train,y_test = train_test_split(X,y,test_size = 0.2,random_state = 42)"
   ]
  },
  {
   "cell_type": "code",
   "execution_count": 98,
   "metadata": {},
   "outputs": [],
   "source": [
    "max_len = 80\n",
    "\n",
    "tokenizer = Tokenizer(split = '|',oov_token = '<unk>')\n",
    "tokenization = Text_Tokenization(nlp,tokenizer)\n",
    "\n",
    "X_train = tokenization.tokenize(X_train,max_len,True)\n",
    "X_test = tokenization.tokenize(X_test,max_len)\n",
    "\n",
    "vocab = tokenization.tokenizer"
   ]
  },
  {
   "cell_type": "code",
   "execution_count": 99,
   "metadata": {},
   "outputs": [
    {
     "data": {
      "image/png": "[encoded data removed]",
      "text/plain": [
       "<Figure size 640x480 with 1 Axes>"
      ]
     },
     "metadata": {},
     "output_type": "display_data"
    }
   ],
   "source": [
    "pca = PCA(n_components = 2)\n",
    "\n",
    "class_one_idxs = np.argwhere(y_train == 0)\n",
    "class_two_idxs = np.argwhere(y_train == 1)\n",
    "class_three_idxs = np.argwhere(y_train == 2)\n",
    "class_four_idxs = np.argwhere(y_train == 3)\n",
    "\n",
    "\n",
    "class_one = X_train[class_one_idxs].squeeze()\n",
    "class_two = X_train[class_two_idxs].squeeze()\n",
    "class_three = X_train[class_three_idxs].squeeze()\n",
    "class_four = X_train[class_four_idxs].squeeze()\n",
    "\n",
    "\n",
    "class_one_2d = pca.fit_transform(class_one)\n",
    "class_two_2d = pca.fit_transform(class_two)\n",
    "class_three_2d = pca.fit_transform(class_three)\n",
    "class_four_2d = pca.fit_transform(class_four)\n",
    "\n",
    "\n",
    "plt.scatter(class_one_2d[:,0],class_one_2d[:,1],label = '0')\n",
    "plt.scatter(class_two_2d[:,0],class_two_2d[:,1],label = '1')\n",
    "plt.scatter(class_three_2d[:,0],class_three_2d[:,1],label = '2')\n",
    "plt.scatter(class_four_2d[:,0],class_four_2d[:,1],label = '3')\n",
    "plt.title('Distribution of publications')\n",
    "plt.xlabel('PCA1')\n",
    "plt.ylabel('PCA2')\n",
    "plt.show()"
   ]
  },
  {
   "cell_type": "code",
   "execution_count": 100,
   "metadata": {},
   "outputs": [
    {
     "name": "stdout",
     "output_type": "stream",
     "text": [
      "Unique values of publication: [0 1 2 3]\n"
     ]
    }
   ],
   "source": [
    "vocab_size = len(vocab.word_index) + 1\n",
    "embedding_size = 164\n",
    "hidden_size = 128\n",
    "n_classes = len(eda.unique_values(target_feature))\n",
    "\n",
    "model_rnn = Publication_rnn(vocab_size,embedding_size,hidden_size,n_classes)\n",
    "model_lstm = Publication_lstm(vocab_size,embedding_size,hidden_size,n_classes)"
   ]
  },
  {
   "cell_type": "code",
   "execution_count": 101,
   "metadata": {},
   "outputs": [
    {
     "name": "stdout",
     "output_type": "stream",
     "text": [
      "RNN model: \n",
      "Metrics on Train Data:\n",
      "Epoch 1/30\n"
     ]
    },
    {
     "name": "stderr",
     "output_type": "stream",
     "text": [
      "/Library/Frameworks/Python.framework/Versions/3.11/lib/python3.11/site-packages/keras/src/layers/layer.py:915: UserWarning: Layer 'flatten_4' (of type Flatten) was passed an input with a mask attached to it. However, this layer does not support masking and will therefore destroy the mask information. Downstream layers will not see the mask.\n",
      "  warnings.warn(\n"
     ]
    },
    {
     "name": "stdout",
     "output_type": "stream",
     "text": [
      "\u001b[1m47/47\u001b[0m \u001b[32m━━━━━━━━━━━━━━━━━━━━\u001b[0m\u001b[37m\u001b[0m \u001b[1m4s\u001b[0m 30ms/step - accuracy: 0.1972 - loss: 1.6193\n",
      "Epoch 2/30\n",
      "\u001b[1m47/47\u001b[0m \u001b[32m━━━━━━━━━━━━━━━━━━━━\u001b[0m\u001b[37m\u001b[0m \u001b[1m2s\u001b[0m 42ms/step - accuracy: 0.4743 - loss: 1.2731\n",
      "Epoch 3/30\n",
      "\u001b[1m47/47\u001b[0m \u001b[32m━━━━━━━━━━━━━━━━━━━━\u001b[0m\u001b[37m\u001b[0m \u001b[1m2s\u001b[0m 37ms/step - accuracy: 0.4648 - loss: 1.2704\n",
      "Epoch 4/30\n",
      "\u001b[1m47/47\u001b[0m \u001b[32m━━━━━━━━━━━━━━━━━━━━\u001b[0m\u001b[37m\u001b[0m \u001b[1m2s\u001b[0m 33ms/step - accuracy: 0.5189 - loss: 1.1949\n",
      "Epoch 5/30\n",
      "\u001b[1m47/47\u001b[0m \u001b[32m━━━━━━━━━━━━━━━━━━━━\u001b[0m\u001b[37m\u001b[0m \u001b[1m2s\u001b[0m 38ms/step - accuracy: 0.5975 - loss: 1.0238\n",
      "Epoch 6/30\n",
      "\u001b[1m47/47\u001b[0m \u001b[32m━━━━━━━━━━━━━━━━━━━━\u001b[0m\u001b[37m\u001b[0m \u001b[1m2s\u001b[0m 33ms/step - accuracy: 0.7175 - loss: 0.8315\n",
      "Epoch 7/30\n",
      "\u001b[1m47/47\u001b[0m \u001b[32m━━━━━━━━━━━━━━━━━━━━\u001b[0m\u001b[37m\u001b[0m \u001b[1m2s\u001b[0m 37ms/step - accuracy: 0.8566 - loss: 0.6583\n",
      "Epoch 8/30\n",
      "\u001b[1m47/47\u001b[0m \u001b[32m━━━━━━━━━━━━━━━━━━━━\u001b[0m\u001b[37m\u001b[0m \u001b[1m2s\u001b[0m 34ms/step - accuracy: 0.9244 - loss: 0.5654\n",
      "Epoch 9/30\n",
      "\u001b[1m47/47\u001b[0m \u001b[32m━━━━━━━━━━━━━━━━━━━━\u001b[0m\u001b[37m\u001b[0m \u001b[1m2s\u001b[0m 36ms/step - accuracy: 0.9692 - loss: 0.4474\n",
      "Epoch 10/30\n",
      "\u001b[1m47/47\u001b[0m \u001b[32m━━━━━━━━━━━━━━━━━━━━\u001b[0m\u001b[37m\u001b[0m \u001b[1m2s\u001b[0m 33ms/step - accuracy: 0.9630 - loss: 0.4133\n",
      "Epoch 11/30\n",
      "\u001b[1m47/47\u001b[0m \u001b[32m━━━━━━━━━━━━━━━━━━━━\u001b[0m\u001b[37m\u001b[0m \u001b[1m2s\u001b[0m 36ms/step - accuracy: 0.9839 - loss: 0.3453\n",
      "Epoch 12/30\n",
      "\u001b[1m47/47\u001b[0m \u001b[32m━━━━━━━━━━━━━━━━━━━━\u001b[0m\u001b[37m\u001b[0m \u001b[1m2s\u001b[0m 39ms/step - accuracy: 0.9831 - loss: 0.3039\n",
      "Epoch 13/30\n",
      "\u001b[1m47/47\u001b[0m \u001b[32m━━━━━━━━━━━━━━━━━━━━\u001b[0m\u001b[37m\u001b[0m \u001b[1m3s\u001b[0m 40ms/step - accuracy: 0.9921 - loss: 0.2550\n",
      "Epoch 14/30\n",
      "\u001b[1m47/47\u001b[0m \u001b[32m━━━━━━━━━━━━━━━━━━━━\u001b[0m\u001b[37m\u001b[0m \u001b[1m2s\u001b[0m 40ms/step - accuracy: 0.9920 - loss: 0.2303\n",
      "Epoch 15/30\n",
      "\u001b[1m47/47\u001b[0m \u001b[32m━━━━━━━━━━━━━━━━━━━━\u001b[0m\u001b[37m\u001b[0m \u001b[1m2s\u001b[0m 40ms/step - accuracy: 0.9811 - loss: 0.2198\n",
      "Epoch 16/30\n",
      "\u001b[1m47/47\u001b[0m \u001b[32m━━━━━━━━━━━━━━━━━━━━\u001b[0m\u001b[37m\u001b[0m \u001b[1m2s\u001b[0m 50ms/step - accuracy: 0.9874 - loss: 0.1948\n",
      "Epoch 17/30\n",
      "\u001b[1m47/47\u001b[0m \u001b[32m━━━━━━━━━━━━━━━━━━━━\u001b[0m\u001b[37m\u001b[0m \u001b[1m2s\u001b[0m 43ms/step - accuracy: 0.9945 - loss: 0.1656\n",
      "Epoch 18/30\n",
      "\u001b[1m47/47\u001b[0m \u001b[32m━━━━━━━━━━━━━━━━━━━━\u001b[0m\u001b[37m\u001b[0m \u001b[1m2s\u001b[0m 45ms/step - accuracy: 0.9969 - loss: 0.1484\n",
      "Epoch 19/30\n",
      "\u001b[1m47/47\u001b[0m \u001b[32m━━━━━━━━━━━━━━━━━━━━\u001b[0m\u001b[37m\u001b[0m \u001b[1m2s\u001b[0m 50ms/step - accuracy: 0.9952 - loss: 0.1339\n",
      "Epoch 20/30\n",
      "\u001b[1m47/47\u001b[0m \u001b[32m━━━━━━━━━━━━━━━━━━━━\u001b[0m\u001b[37m\u001b[0m \u001b[1m2s\u001b[0m 42ms/step - accuracy: 0.9917 - loss: 0.1291\n",
      "Epoch 21/30\n",
      "\u001b[1m47/47\u001b[0m \u001b[32m━━━━━━━━━━━━━━━━━━━━\u001b[0m\u001b[37m\u001b[0m \u001b[1m2s\u001b[0m 44ms/step - accuracy: 0.9956 - loss: 0.1136\n",
      "Epoch 22/30\n",
      "\u001b[1m47/47\u001b[0m \u001b[32m━━━━━━━━━━━━━━━━━━━━\u001b[0m\u001b[37m\u001b[0m \u001b[1m2s\u001b[0m 44ms/step - accuracy: 0.9949 - loss: 0.1063\n",
      "Epoch 23/30\n",
      "\u001b[1m47/47\u001b[0m \u001b[32m━━━━━━━━━━━━━━━━━━━━\u001b[0m\u001b[37m\u001b[0m \u001b[1m2s\u001b[0m 41ms/step - accuracy: 0.9988 - loss: 0.0939\n",
      "Epoch 24/30\n",
      "\u001b[1m47/47\u001b[0m \u001b[32m━━━━━━━━━━━━━━━━━━━━\u001b[0m\u001b[37m\u001b[0m \u001b[1m2s\u001b[0m 39ms/step - accuracy: 0.9976 - loss: 0.0852\n",
      "Epoch 25/30\n",
      "\u001b[1m47/47\u001b[0m \u001b[32m━━━━━━━━━━━━━━━━━━━━\u001b[0m\u001b[37m\u001b[0m \u001b[1m2s\u001b[0m 40ms/step - accuracy: 0.9989 - loss: 0.0744\n",
      "Epoch 26/30\n",
      "\u001b[1m47/47\u001b[0m \u001b[32m━━━━━━━━━━━━━━━━━━━━\u001b[0m\u001b[37m\u001b[0m \u001b[1m2s\u001b[0m 39ms/step - accuracy: 0.9994 - loss: 0.0725\n",
      "Epoch 27/30\n",
      "\u001b[1m47/47\u001b[0m \u001b[32m━━━━━━━━━━━━━━━━━━━━\u001b[0m\u001b[37m\u001b[0m \u001b[1m2s\u001b[0m 44ms/step - accuracy: 0.9996 - loss: 0.0645\n",
      "Epoch 28/30\n",
      "\u001b[1m47/47\u001b[0m \u001b[32m━━━━━━━━━━━━━━━━━━━━\u001b[0m\u001b[37m\u001b[0m \u001b[1m2s\u001b[0m 37ms/step - accuracy: 0.9984 - loss: 0.0644\n",
      "Epoch 29/30\n",
      "\u001b[1m47/47\u001b[0m \u001b[32m━━━━━━━━━━━━━━━━━━━━\u001b[0m\u001b[37m\u001b[0m \u001b[1m2s\u001b[0m 37ms/step - accuracy: 0.9993 - loss: 0.0598\n",
      "Epoch 30/30\n",
      "\u001b[1m47/47\u001b[0m \u001b[32m━━━━━━━━━━━━━━━━━━━━\u001b[0m\u001b[37m\u001b[0m \u001b[1m2s\u001b[0m 38ms/step - accuracy: 0.9994 - loss: 0.0535\n",
      "\n",
      "Metrics on Test Data:\n",
      "\u001b[1m12/12\u001b[0m \u001b[32m━━━━━━━━━━━━━━━━━━━━\u001b[0m\u001b[37m\u001b[0m \u001b[1m1s\u001b[0m 13ms/step - accuracy: 0.7572 - loss: 0.7373\n",
      "LSTM model: \n",
      "Metrics on Train Data:\n",
      "Epoch 1/30\n"
     ]
    },
    {
     "name": "stderr",
     "output_type": "stream",
     "text": [
      "/Library/Frameworks/Python.framework/Versions/3.11/lib/python3.11/site-packages/keras/src/layers/layer.py:915: UserWarning: Layer 'flatten_5' (of type Flatten) was passed an input with a mask attached to it. However, this layer does not support masking and will therefore destroy the mask information. Downstream layers will not see the mask.\n",
      "  warnings.warn(\n"
     ]
    },
    {
     "name": "stdout",
     "output_type": "stream",
     "text": [
      "\u001b[1m47/47\u001b[0m \u001b[32m━━━━━━━━━━━━━━━━━━━━\u001b[0m\u001b[37m\u001b[0m \u001b[1m8s\u001b[0m 95ms/step - accuracy: 0.4839 - loss: 1.3064\n",
      "Epoch 2/30\n",
      "\u001b[1m47/47\u001b[0m \u001b[32m━━━━━━━━━━━━━━━━━━━━\u001b[0m\u001b[37m\u001b[0m \u001b[1m5s\u001b[0m 102ms/step - accuracy: 0.4917 - loss: 1.2407\n",
      "Epoch 3/30\n",
      "\u001b[1m47/47\u001b[0m \u001b[32m━━━━━━━━━━━━━━━━━━━━\u001b[0m\u001b[37m\u001b[0m \u001b[1m5s\u001b[0m 99ms/step - accuracy: 0.5294 - loss: 1.0887\n",
      "Epoch 4/30\n",
      "\u001b[1m47/47\u001b[0m \u001b[32m━━━━━━━━━━━━━━━━━━━━\u001b[0m\u001b[37m\u001b[0m \u001b[1m4s\u001b[0m 95ms/step - accuracy: 0.6485 - loss: 0.8848\n",
      "Epoch 5/30\n",
      "\u001b[1m47/47\u001b[0m \u001b[32m━━━━━━━━━━━━━━━━━━━━\u001b[0m\u001b[37m\u001b[0m \u001b[1m5s\u001b[0m 101ms/step - accuracy: 0.7262 - loss: 0.7525\n",
      "Epoch 6/30\n",
      "\u001b[1m47/47\u001b[0m \u001b[32m━━━━━━━━━━━━━━━━━━━━\u001b[0m\u001b[37m\u001b[0m \u001b[1m5s\u001b[0m 99ms/step - accuracy: 0.7988 - loss: 0.6387\n",
      "Epoch 7/30\n",
      "\u001b[1m47/47\u001b[0m \u001b[32m━━━━━━━━━━━━━━━━━━━━\u001b[0m\u001b[37m\u001b[0m \u001b[1m5s\u001b[0m 106ms/step - accuracy: 0.8074 - loss: 0.5499\n",
      "Epoch 8/30\n",
      "\u001b[1m47/47\u001b[0m \u001b[32m━━━━━━━━━━━━━━━━━━━━\u001b[0m\u001b[37m\u001b[0m \u001b[1m6s\u001b[0m 118ms/step - accuracy: 0.8223 - loss: 0.4916\n",
      "Epoch 9/30\n",
      "\u001b[1m47/47\u001b[0m \u001b[32m━━━━━━━━━━━━━━━━━━━━\u001b[0m\u001b[37m\u001b[0m \u001b[1m5s\u001b[0m 103ms/step - accuracy: 0.8395 - loss: 0.4393\n",
      "Epoch 10/30\n",
      "\u001b[1m47/47\u001b[0m \u001b[32m━━━━━━━━━━━━━━━━━━━━\u001b[0m\u001b[37m\u001b[0m \u001b[1m5s\u001b[0m 103ms/step - accuracy: 0.8422 - loss: 0.4240\n",
      "Epoch 11/30\n",
      "\u001b[1m47/47\u001b[0m \u001b[32m━━━━━━━━━━━━━━━━━━━━\u001b[0m\u001b[37m\u001b[0m \u001b[1m4s\u001b[0m 92ms/step - accuracy: 0.9101 - loss: 0.3706\n",
      "Epoch 12/30\n",
      "\u001b[1m47/47\u001b[0m \u001b[32m━━━━━━━━━━━━━━━━━━━━\u001b[0m\u001b[37m\u001b[0m \u001b[1m4s\u001b[0m 93ms/step - accuracy: 0.9338 - loss: 0.3354\n",
      "Epoch 13/30\n",
      "\u001b[1m47/47\u001b[0m \u001b[32m━━━━━━━━━━━━━━━━━━━━\u001b[0m\u001b[37m\u001b[0m \u001b[1m4s\u001b[0m 87ms/step - accuracy: 0.9443 - loss: 0.3191\n",
      "Epoch 14/30\n",
      "\u001b[1m47/47\u001b[0m \u001b[32m━━━━━━━━━━━━━━━━━━━━\u001b[0m\u001b[37m\u001b[0m \u001b[1m4s\u001b[0m 87ms/step - accuracy: 0.9600 - loss: 0.2746\n",
      "Epoch 15/30\n",
      "\u001b[1m47/47\u001b[0m \u001b[32m━━━━━━━━━━━━━━━━━━━━\u001b[0m\u001b[37m\u001b[0m \u001b[1m4s\u001b[0m 86ms/step - accuracy: 0.9524 - loss: 0.2608\n",
      "Epoch 16/30\n",
      "\u001b[1m47/47\u001b[0m \u001b[32m━━━━━━━━━━━━━━━━━━━━\u001b[0m\u001b[37m\u001b[0m \u001b[1m4s\u001b[0m 87ms/step - accuracy: 0.9681 - loss: 0.2363\n",
      "Epoch 17/30\n",
      "\u001b[1m47/47\u001b[0m \u001b[32m━━━━━━━━━━━━━━━━━━━━\u001b[0m\u001b[37m\u001b[0m \u001b[1m4s\u001b[0m 89ms/step - accuracy: 0.9655 - loss: 0.2182\n",
      "Epoch 18/30\n",
      "\u001b[1m47/47\u001b[0m \u001b[32m━━━━━━━━━━━━━━━━━━━━\u001b[0m\u001b[37m\u001b[0m \u001b[1m5s\u001b[0m 84ms/step - accuracy: 0.9693 - loss: 0.1950\n",
      "Epoch 19/30\n",
      "\u001b[1m47/47\u001b[0m \u001b[32m━━━━━━━━━━━━━━━━━━━━\u001b[0m\u001b[37m\u001b[0m \u001b[1m4s\u001b[0m 89ms/step - accuracy: 0.9628 - loss: 0.1896\n",
      "Epoch 20/30\n",
      "\u001b[1m47/47\u001b[0m \u001b[32m━━━━━━━━━━━━━━━━━━━━\u001b[0m\u001b[37m\u001b[0m \u001b[1m4s\u001b[0m 87ms/step - accuracy: 0.9782 - loss: 0.1598\n",
      "Epoch 21/30\n",
      "\u001b[1m47/47\u001b[0m \u001b[32m━━━━━━━━━━━━━━━━━━━━\u001b[0m\u001b[37m\u001b[0m \u001b[1m4s\u001b[0m 88ms/step - accuracy: 0.9714 - loss: 0.1690\n",
      "Epoch 22/30\n",
      "\u001b[1m47/47\u001b[0m \u001b[32m━━━━━━━━━━━━━━━━━━━━\u001b[0m\u001b[37m\u001b[0m \u001b[1m4s\u001b[0m 95ms/step - accuracy: 0.9766 - loss: 0.1511\n",
      "Epoch 23/30\n",
      "\u001b[1m47/47\u001b[0m \u001b[32m━━━━━━━━━━━━━━━━━━━━\u001b[0m\u001b[37m\u001b[0m \u001b[1m4s\u001b[0m 85ms/step - accuracy: 0.9779 - loss: 0.1345\n",
      "Epoch 24/30\n",
      "\u001b[1m47/47\u001b[0m \u001b[32m━━━━━━━━━━━━━━━━━━━━\u001b[0m\u001b[37m\u001b[0m \u001b[1m4s\u001b[0m 91ms/step - accuracy: 0.9781 - loss: 0.1279\n",
      "Epoch 25/30\n",
      "\u001b[1m47/47\u001b[0m \u001b[32m━━━━━━━━━━━━━━━━━━━━\u001b[0m\u001b[37m\u001b[0m \u001b[1m4s\u001b[0m 89ms/step - accuracy: 0.9740 - loss: 0.1314\n",
      "Epoch 26/30\n",
      "\u001b[1m47/47\u001b[0m \u001b[32m━━━━━━━━━━━━━━━━━━━━\u001b[0m\u001b[37m\u001b[0m \u001b[1m5s\u001b[0m 79ms/step - accuracy: 0.9700 - loss: 0.1235\n",
      "Epoch 27/30\n",
      "\u001b[1m47/47\u001b[0m \u001b[32m━━━━━━━━━━━━━━━━━━━━\u001b[0m\u001b[37m\u001b[0m \u001b[1m4s\u001b[0m 89ms/step - accuracy: 0.9723 - loss: 0.1130\n",
      "Epoch 28/30\n",
      "\u001b[1m47/47\u001b[0m \u001b[32m━━━━━━━━━━━━━━━━━━━━\u001b[0m\u001b[37m\u001b[0m \u001b[1m4s\u001b[0m 88ms/step - accuracy: 0.9749 - loss: 0.1130\n",
      "Epoch 29/30\n",
      "\u001b[1m47/47\u001b[0m \u001b[32m━━━━━━━━━━━━━━━━━━━━\u001b[0m\u001b[37m\u001b[0m \u001b[1m4s\u001b[0m 86ms/step - accuracy: 0.9821 - loss: 0.0913\n",
      "Epoch 30/30\n",
      "\u001b[1m47/47\u001b[0m \u001b[32m━━━━━━━━━━━━━━━━━━━━\u001b[0m\u001b[37m\u001b[0m \u001b[1m4s\u001b[0m 85ms/step - accuracy: 0.9798 - loss: 0.0851\n",
      "\n",
      "Metrics on Test Data:\n",
      "\u001b[1m12/12\u001b[0m \u001b[32m━━━━━━━━━━━━━━━━━━━━\u001b[0m\u001b[37m\u001b[0m \u001b[1m1s\u001b[0m 22ms/step - accuracy: 0.7999 - loss: 0.6126\n"
     ]
    }
   ],
   "source": [
    "lr = 0.0001\n",
    "batch_size = 32\n",
    "epochs = 30\n",
    "\n",
    "Trainer_rnn = Train_Model(model_rnn,lr,batch_size,epochs)\n",
    "Trainer_lstm = Train_Model(model_lstm,lr,batch_size,epochs)\n",
    "\n",
    "print(f'RNN model: ')\n",
    "model_rnn = Trainer_rnn.fit(X_train,y_train)\n",
    "Trainer_rnn.eval(X_test,y_test)\n",
    "\n",
    "print(f'LSTM model: ')\n",
    "model_lstm = Trainer_lstm.fit(X_train,y_train)\n",
    "Trainer_lstm.eval(X_test,y_test)"
   ]
  },
  {
   "cell_type": "code",
   "execution_count": 104,
   "metadata": {},
   "outputs": [
    {
     "name": "stdout",
     "output_type": "stream",
     "text": [
      "Review: 10 Subtle Strategies I Wish I Knew When I Had 23 Email Subscribers and Made $0 Onlinenan - Publication: Towards Data Science\n"
     ]
    },
    {
     "name": "stderr",
     "output_type": "stream",
     "text": [
      "/Library/Frameworks/Python.framework/Versions/3.11/lib/python3.11/site-packages/keras/src/layers/layer.py:915: UserWarning: Layer 'flatten_4' (of type Flatten) was passed an input with a mask attached to it. However, this layer does not support masking and will therefore destroy the mask information. Downstream layers will not see the mask.\n",
      "  warnings.warn(\n"
     ]
    }
   ],
   "source": [
    "review = df['text'].iloc[7]\n",
    "\n",
    "Publication(model_rnn,review)"
   ]
  },
  {
   "cell_type": "code",
   "execution_count": null,
   "metadata": {},
   "outputs": [],
   "source": []
  }
 ],
 "metadata": {
  "kernelspec": {
   "display_name": "Python 3",
   "language": "python",
   "name": "python3"
  },
  "language_info": {
   "codemirror_mode": {
    "name": "ipython",
    "version": 3
   },
   "file_extension": ".py",
   "mimetype": "text/x-python",
   "name": "python",
   "nbconvert_exporter": "python",
   "pygments_lexer": "ipython3",
   "version": "3.11.0"
  }
 },
 "nbformat": 4,
 "nbformat_minor": 2
}
