{
 "cells": [
  {
   "cell_type": "code",
   "execution_count": 415,
   "metadata": {},
   "outputs": [],
   "source": [
    "import numpy as np\n",
    "import pandas as pd\n",
    "import matplotlib.pyplot as plt\n",
    "import seaborn as sns\n",
    "\n",
    "from sklearn.preprocessing import OneHotEncoder\n",
    "from sklearn.preprocessing import normalize\n",
    "\n",
    "from sklearn.model_selection import GridSearchCV\n",
    "\n",
    "from sklearn.linear_model import LogisticRegression\n",
    "\n",
    "from sklearn.naive_bayes import GaussianNB\n",
    "\n",
    "from sklearn.svm import SVC\n",
    "\n",
    "from sklearn.tree import DecisionTreeClassifier\n",
    "from sklearn.ensemble import RandomForestClassifier\n",
    "\n",
    "from xgboost import XGBClassifier\n",
    "\n",
    "\n",
    "from sklearn.model_selection import train_test_split\n",
    "\n",
    "from sklearn.metrics import accuracy_score as accuracy\n",
    "\n",
    "\n",
    "from sklearn.decomposition import PCA\n",
    "\n",
    "import spacy\n",
    "\n",
    "nlp = spacy.load('en_core_web_sm')\n",
    "\n",
    "import joblib\n",
    "\n",
    "from tqdm.auto import tqdm\n",
    "from collections import Counter\n",
    "\n",
    "colors = sns.color_palette(\"rocket\")"
   ]
  },
  {
   "cell_type": "code",
   "execution_count": 416,
   "metadata": {},
   "outputs": [
    {
     "data": {
      "text/html": [
       "<div>\n",
       "<style scoped>\n",
       "    .dataframe tbody tr th:only-of-type {\n",
       "        vertical-align: middle;\n",
       "    }\n",
       "\n",
       "    .dataframe tbody tr th {\n",
       "        vertical-align: top;\n",
       "    }\n",
       "\n",
       "    .dataframe thead th {\n",
       "        text-align: right;\n",
       "    }\n",
       "</style>\n",
       "<table border=\"1\" class=\"dataframe\">\n",
       "  <thead>\n",
       "    <tr style=\"text-align: right;\">\n",
       "      <th></th>\n",
       "      <th>id</th>\n",
       "      <th>url</th>\n",
       "      <th>title</th>\n",
       "      <th>subtitle</th>\n",
       "      <th>claps</th>\n",
       "      <th>responses</th>\n",
       "      <th>reading_time</th>\n",
       "      <th>publication</th>\n",
       "      <th>date</th>\n",
       "    </tr>\n",
       "  </thead>\n",
       "  <tbody>\n",
       "    <tr>\n",
       "      <th>0</th>\n",
       "      <td>1</td>\n",
       "      <td>https://towardsdatascience.com/not-all-rainbow...</td>\n",
       "      <td>Not All Rainbows and Sunshine: The Darker Side...</td>\n",
       "      <td>Part 1: The Risks and Ethical Issues…</td>\n",
       "      <td>453.0</td>\n",
       "      <td>11</td>\n",
       "      <td>9</td>\n",
       "      <td>Towards Data Science</td>\n",
       "      <td>27-01-2023</td>\n",
       "    </tr>\n",
       "    <tr>\n",
       "      <th>1</th>\n",
       "      <td>2</td>\n",
       "      <td>https://towardsdatascience.com/ethics-in-ai-po...</td>\n",
       "      <td>Ethics in AI: Potential Root Causes for Biased...</td>\n",
       "      <td>An alternative approach to understanding bias ...</td>\n",
       "      <td>311.0</td>\n",
       "      <td>3</td>\n",
       "      <td>12</td>\n",
       "      <td>Towards Data Science</td>\n",
       "      <td>27-01-2023</td>\n",
       "    </tr>\n",
       "    <tr>\n",
       "      <th>2</th>\n",
       "      <td>3</td>\n",
       "      <td>https://towardsdatascience.com/python-tuple-th...</td>\n",
       "      <td>Python Tuple, The Whole Truth and Only the Tru...</td>\n",
       "      <td>NaN</td>\n",
       "      <td>188.0</td>\n",
       "      <td>0</td>\n",
       "      <td>24</td>\n",
       "      <td>Towards Data Science</td>\n",
       "      <td>27-01-2023</td>\n",
       "    </tr>\n",
       "  </tbody>\n",
       "</table>\n",
       "</div>"
      ],
      "text/plain": [
       "   id                                                url  \\\n",
       "0   1  https://towardsdatascience.com/not-all-rainbow...   \n",
       "1   2  https://towardsdatascience.com/ethics-in-ai-po...   \n",
       "2   3  https://towardsdatascience.com/python-tuple-th...   \n",
       "\n",
       "                                               title  \\\n",
       "0  Not All Rainbows and Sunshine: The Darker Side...   \n",
       "1  Ethics in AI: Potential Root Causes for Biased...   \n",
       "2  Python Tuple, The Whole Truth and Only the Tru...   \n",
       "\n",
       "                                            subtitle  claps  responses  \\\n",
       "0              Part 1: The Risks and Ethical Issues…  453.0         11   \n",
       "1  An alternative approach to understanding bias ...  311.0          3   \n",
       "2                                                NaN  188.0          0   \n",
       "\n",
       "   reading_time           publication        date  \n",
       "0             9  Towards Data Science  27-01-2023  \n",
       "1            12  Towards Data Science  27-01-2023  \n",
       "2            24  Towards Data Science  27-01-2023  "
      ]
     },
     "execution_count": 416,
     "metadata": {},
     "output_type": "execute_result"
    }
   ],
   "source": [
    "df = pd.read_csv('/Users/nazarlenisin/Desktop/Topic Classification/medium_data.csv')\n",
    "df.head(3)"
   ]
  },
  {
   "cell_type": "code",
   "execution_count": 417,
   "metadata": {},
   "outputs": [],
   "source": [
    "class Prior_Data_Analys:\n",
    "  def __init__(self,df):\n",
    "    self.df = df\n",
    "\n",
    "\n",
    "  def shape(self):\n",
    "    n_samples,n_columns = self.df.shape\n",
    "    print(f'Number of samples in Data Set: {n_samples}')\n",
    "    print(f'Number of columns: {n_columns}')\n",
    "\n",
    "    return n_samples,n_columns\n",
    "\n",
    "\n",
    "  def unique_columns(self):\n",
    "    columns = self.df.columns\n",
    "    print(f'Unique columns:\\n')\n",
    "\n",
    "    for column_idx,column in enumerate(columns):\n",
    "      print(f'Column {column_idx + 1}: {column}')\n",
    "\n",
    "    return columns\n",
    "\n",
    "\n",
    "  def columns_dtypes(self):\n",
    "    dtypes = self.df.dtypes\n",
    "    print(f'Dtypes:\\n\\n {dtypes}')\n",
    "\n",
    "    return dtypes\n",
    "\n",
    "\n",
    "  def categorical_features(self):\n",
    "    print(f'Categorical features:\\n')\n",
    "    categorical_feats = [column for column_idx,column in enumerate(self.df.columns) if self.df.dtypes[column_idx] == 'object']\n",
    "\n",
    "    for feature in categorical_feats:\n",
    "      print(f'* {feature}')\n",
    "\n",
    "    return np.array(categorical_feats)\n",
    "\n",
    "\n",
    "  def numerical_features(self):\n",
    "    print(f'Numerical features: \\n')\n",
    "\n",
    "    numerical_feats = [column for column_idx,column in enumerate(self.df.columns) if self.df.dtypes[column_idx] != 'object']\n",
    "    for feature in numerical_feats:\n",
    "      print(f'* {feature}')\n",
    "\n",
    "    return np.array(numerical_feats)\n",
    "\n",
    "\n",
    "  def group_by(self,feature):\n",
    "    categorical = self.categorical_features()\n",
    "\n",
    "    if feature in categorical:\n",
    "      return df.groupby([feature]).count()\n",
    "\n",
    "    else:\n",
    "      return df.groupby([feature]).describe()\n",
    "\n",
    "\n",
    "  def count_NA(self):\n",
    "    print(f'Amout of Nans per class:')\n",
    "    return self.df.isna().sum()\n",
    "\n",
    "\n",
    "  def duplicates(self):\n",
    "    print(f'Amount of duplicates: {self.df.duplicated().sum()}')\n",
    "\n",
    "  def item(self,index):\n",
    "    print(f'Object number: {index}')\n",
    "\n",
    "    return self.df.iloc[index]\n",
    "\n",
    "  def unique_values(self,feature):\n",
    "    data = self.df[feature]\n",
    "\n",
    "    values = data.values\n",
    "    unique_values = np.unique(values)\n",
    "    print(f'Unique values of {feature}: {unique_values}')\n",
    "\n",
    "    return unique_values"
   ]
  },
  {
   "cell_type": "code",
   "execution_count": 418,
   "metadata": {},
   "outputs": [],
   "source": [
    "class Distribution:\n",
    "  def __init__(self,df,target_feature):\n",
    "    self.df = df\n",
    "    self.target_feature = target_feature\n",
    "    self._eda = Prior_Data_Analys(self.df)\n",
    "\n",
    "\n",
    "  def distribution_of_target_feature(self):\n",
    "    for visualization in range(2):\n",
    "      plt.figure(figsize = (10,10))\n",
    "      plt.subplot(2,1,visualization + 1)\n",
    "      if visualization == 0:\n",
    "        sns.histplot(data = self.df,x = self.target_feature,color = colors[3])\n",
    "        plt.title(f'Distribution of Target feature: {self.target_feature}')\n",
    "        plt.show()\n",
    "\n",
    "      else:\n",
    "        sns.boxplot(x = self.df[self.target_feature],color = colors[3])\n",
    "        plt.title(f'Distribution of Target feature: {self.target_feature}')\n",
    "        plt.show()\n",
    "\n",
    "\n",
    "  def distribution_of_numerical_features(self):\n",
    "    numerical_features = self._eda.numerical_features()\n",
    "\n",
    "    for feature_idx,feature in enumerate(numerical_features):\n",
    "      plt.figure(figsize = (15,15))\n",
    "      plt.subplot(len(numerical_features) // 2 + 1 , 2 , feature_idx + 1)\n",
    "      sns.histplot(data = self.df,x = feature,color = colors[1])\n",
    "      plt.title(f'Distibution of {feature}')\n",
    "      plt.tight_layout\n",
    "      plt.show()\n",
    "\n",
    "\n",
    "  def distribution_of_categorical_features(self,top_k = 5):\n",
    "    categorical_features = self._eda.categorical_features()\n",
    "    plt.figure(figsize = (20,20))\n",
    "\n",
    "    for feature_idx,feature in enumerate(categorical_features):\n",
    "\n",
    "      values = self._eda.group_by(feature)[self.target_feature].sort_values(ascending = False).values[:top_k]\n",
    "      labels = self._eda.group_by(feature)[self.target_feature].sort_values(ascending = False).index[:top_k]\n",
    "\n",
    "      data_dict = {'Labels': labels, 'Values': values}\n",
    "      data = pd.DataFrame(data_dict)\n",
    "\n",
    "      plt.subplot(len(categorical_features) // 2 + 1 , 2 , feature_idx + 1)\n",
    "      sns.barplot(data = data,y = 'Labels',x = 'Values',color = colors[-1])\n",
    "      plt.title(f'Top {top_k} {feature} by count')\n",
    "\n",
    "    plt.tight_layout()\n",
    "    plt.show()\n",
    "\n",
    "  def relation_numerical_feats_to_target_feat(self):\n",
    "    numerical_features = self._eda.numerical_features()\n",
    "\n",
    "    data = df[numerical_features]\n",
    "    corr = data.corr()\n",
    "\n",
    "    return sns.heatmap(corr,annot = True, cmap = sns.cubehelix_palette(start=.5, rot=-.5, as_cmap=True))\n",
    "\n",
    "  def relation_categorical_feats_to_target_feat(self,top_k = 3):\n",
    "    categorical_features = self._eda.categorical_features()\n",
    "    plt.figure(figsize = (20,20))\n",
    "\n",
    "    for feature_idx,feature in enumerate(categorical_features):\n",
    "\n",
    "      feats = self._eda.group_by(feature)[self.target_feature].sort_values(ascending = False)[:top_k].index\n",
    "\n",
    "      data = self.df\n",
    "      data = data[data[feature].isin(feats)]\n",
    "\n",
    "      plt.subplot(len(categorical_features) // 2 + 1 , 2 , feature_idx + 1)\n",
    "      sns.stripplot(data = data, x = feature, y = self.target_feature,hue = feature)\n",
    "      plt.title(f'Relation between {feature} (top {top_k}) & {self.target_feature}')\n",
    "\n",
    "    plt.tight_layout()\n",
    "    plt.show()"
   ]
  },
  {
   "cell_type": "code",
   "execution_count": 419,
   "metadata": {},
   "outputs": [],
   "source": [
    "class Text_Tokenization:\n",
    "  def __init__(self,nlp):\n",
    "    self.nlp = nlp\n",
    "\n",
    "  def _spacy_tokenizer(self,doc):\n",
    "    return [token.lemma_ for token in self.nlp(doc)]\n",
    "\n",
    "  def tokenize(self,doc,max_len,Vocab = None):\n",
    "    tokenized_texts = []\n",
    "    vocab = {}\n",
    "\n",
    "    if Vocab == None:\n",
    "      for text in doc:\n",
    "        tokenized_text = []\n",
    "        text = self._spacy_tokenizer(text)\n",
    "\n",
    "        for token_idx,token in enumerate(text):\n",
    "          if token not in vocab.keys():\n",
    "            vocab[token] = token_idx\n",
    "\n",
    "          tokenized_text.append(vocab[token])\n",
    "\n",
    "        if len(tokenized_text) > max_len:\n",
    "          tokenized_text = tokenized_text[:max_len]\n",
    "\n",
    "        elif len(tokenized_text) < max_len:\n",
    "          while len(tokenized_text) != max_len:\n",
    "            tokenized_text.append(0)\n",
    "\n",
    "        tokenized_texts.append(np.array(tokenized_text))\n",
    "\n",
    "      vocab['<unk>'] = 1\n",
    "      vocab['<pad>'] = 0\n",
    "      self.vocab = vocab\n",
    "\n",
    "      return np.array(tokenized_texts)\n",
    "\n",
    "    else:\n",
    "      for text in doc:\n",
    "        text = self._spacy_tokenizer(text)\n",
    "\n",
    "        tokenized_text = [Vocab[token] if token in Vocab.keys() else Vocab['<unk>'] for token in text]\n",
    "        if len(tokenized_text) > max_len:\n",
    "          tokenized_text = tokenized_text[:max_len]\n",
    "\n",
    "        elif len(tokenized_text) < max_len:\n",
    "          while len(tokenized_text) != max_len:\n",
    "            tokenized_text.append(Vocab['<pad>'])\n",
    "\n",
    "        tokenized_texts.append(np.array(tokenized_text))\n",
    "\n",
    "      return np.array(tokenized_texts)"
   ]
  },
  {
   "cell_type": "code",
   "execution_count": 420,
   "metadata": {},
   "outputs": [],
   "source": [
    "class OneVsRestClassifier:\n",
    "  def __init__(self,model):\n",
    "    self.model = model\n",
    "    self._fit_models = []\n",
    "\n",
    "  def fit(self,X,y):\n",
    "    #X = X.values\n",
    "    #y = y.values\n",
    "    labels = np.unique(y)\n",
    "\n",
    "    for label in labels:\n",
    "      binary_y = np.where(y == label,1,0)\n",
    "\n",
    "      fit_model = self.model.fit(X,binary_y)\n",
    "      self._fit_models.append(joblib.dump(fit_model,f'OVA{label}'))\n",
    "\n",
    "  def predict(self,X):\n",
    "    predictions = []\n",
    "\n",
    "    for model_idx,_ in enumerate(self._fit_models):\n",
    "      model = joblib.load(f'OVA{model_idx}')\n",
    "\n",
    "      prediction = np.array(model.predict_proba(X)[:,1])\n",
    "      predictions.append(prediction)\n",
    "\n",
    "    predictions = np.array(predictions)\n",
    "    predictions = np.array([predictions[:,element_idx] for element_idx in range(predictions.shape[1])])\n",
    "\n",
    "    pred_labels = np.argmax(predictions,1)\n",
    "\n",
    "    return pred_labels"
   ]
  },
  {
   "cell_type": "code",
   "execution_count": 421,
   "metadata": {},
   "outputs": [],
   "source": [
    "class OneVsOneClassifier:\n",
    "  def __init__(self,model):\n",
    "    self.model = model\n",
    "    self._fit_models = []\n",
    "\n",
    "  def _most_common(self,y):\n",
    "    counter = Counter(y)\n",
    "    value = counter.most_common(1)[0][0]\n",
    "    return value\n",
    "\n",
    "  def _hypotesis(self,labels):\n",
    "    hypotesis = []\n",
    "    labels = [i for i in range(len(labels))]\n",
    "\n",
    "    x1 = 0\n",
    "    x2 = 1\n",
    "\n",
    "    while x1 <= len(labels) - 2:\n",
    "      while x2 <= len(labels) - 1:\n",
    "        hypotesis.append((x1,x2))\n",
    "        x2 += 1\n",
    "      x1 += 1\n",
    "      x2 = x1 + 1\n",
    "\n",
    "    return hypotesis\n",
    "\n",
    "\n",
    "  def fit(self,X,y):\n",
    "    #X = X.values\n",
    "    #y = y.values\n",
    "\n",
    "    labels = np.unique(y)\n",
    "\n",
    "    n = len(labels)\n",
    "\n",
    "    n_hypotesis = int((n * (n - 1)) / 2)\n",
    "    self.hypotesis = self._hypotesis(labels)\n",
    "\n",
    "    for hypotes_idx,hypotes in enumerate(self.hypotesis):\n",
    "\n",
    "      x1 = labels[hypotes[0]]\n",
    "      x2 = labels[hypotes[1]]\n",
    "\n",
    "      idxs = np.array([target_idx for target_idx,target in enumerate(y) if (target == x1 or target == x2)])\n",
    "\n",
    "      X_train = X[idxs]\n",
    "      y_train = y[idxs]\n",
    "\n",
    "      y_train = np.where(y_train == x1,0,1)\n",
    "\n",
    "      fit_model = self.model.fit(X_train,y_train)\n",
    "      self._fit_models.append(joblib.dump(fit_model,f'OVO{hypotes_idx}'))\n",
    "\n",
    "\n",
    "  def predict(self,X):\n",
    "    predictions = []\n",
    "\n",
    "    for model_idx,_ in enumerate(self._fit_models):\n",
    "      model = joblib.load(f'OVO{model_idx}')\n",
    "\n",
    "      prediction = np.array(model.predict_proba(X)[:,1])\n",
    "      predictions.append(prediction)\n",
    "\n",
    "    predictions = np.array(predictions)\n",
    "    predictions = np.array([predictions[:,element_idx] for element_idx in range(predictions.shape[1])])\n",
    "    predictions = np.array([np.where(prediction <= 0.5, 0 , 1) for prediction in predictions])\n",
    "\n",
    "    for prediction_idx,prediction in enumerate(predictions):\n",
    "      for label_prediction_idx,label_prediction in enumerate(prediction):\n",
    "        if label_prediction == 0:\n",
    "          predictions[prediction_idx,label_prediction_idx] = self.hypotesis[label_prediction_idx][0]\n",
    "        else:\n",
    "          predictions[prediction_idx,label_prediction_idx] = self.hypotesis[label_prediction_idx][1]\n",
    "\n",
    "    labels = np.array([self._most_common(classes) for classes in predictions])\n",
    "\n",
    "    return labels"
   ]
  },
  {
   "cell_type": "code",
   "execution_count": 422,
   "metadata": {},
   "outputs": [],
   "source": [
    "class Train_Model:\n",
    "  def __init__(self,model):\n",
    "    self.model = model\n",
    "    self._fit_models = []\n",
    "\n",
    "  def fit(self,X,y):\n",
    "    ova_model = OneVsRestClassifier(self.model)\n",
    "    ovo_model = OneVsOneClassifier(self.model)\n",
    "\n",
    "    ova_model.fit(X,y)\n",
    "    ovo_model.fit(X,y)\n",
    "\n",
    "    self._fit_models.append(ova_model)\n",
    "    self._fit_models.append(ovo_model)\n",
    "\n",
    "    ova_prediction = ova_model.predict(X)\n",
    "    ovo_prediction = ovo_model.predict(X)\n",
    "\n",
    "    ova_acc = accuracy(y,ova_prediction)\n",
    "    ovo_acc = accuracy(y,ovo_prediction)\n",
    "\n",
    "    print(f'{self.model} (OneVsRestClassifier) Accuracy on Train Data: {ova_acc}')\n",
    "    print(f'{self.model} (OneVsOneClassifier) Accuracy on Train Data: {ovo_acc}\\n\\n')\n",
    "\n",
    "    return ova_model,ovo_model\n",
    "\n",
    "  def eval(self,X,y):\n",
    "    ova_model = self._fit_models[0]\n",
    "    ovo_model = self._fit_models[1]\n",
    "\n",
    "    ova_prediction = ova_model.predict(X)\n",
    "    ovo_prediction = ovo_model.predict(X)\n",
    "\n",
    "    ova_acc = accuracy(y,ova_prediction)\n",
    "    ovo_acc = accuracy(y,ovo_prediction)\n",
    "\n",
    "    print(f'\\n{self.model} (OneVsRestClassifier) Accuracy on Test Data: {ova_acc}')\n",
    "    print(f'{self.model} (OneVsOneClassifier) Accuracy on Test Data: {ovo_acc}')\n",
    "\n",
    "    if ova_acc == ovo_acc:\n",
    "      return ova_model,ova_acc\n",
    "\n",
    "    else:\n",
    "      highest_score = np.argmax(np.array([ova_acc,ovo_acc]))\n",
    "      return self._fit_models[highest_score],np.max(np.array([ova_acc,ovo_acc]))"
   ]
  },
  {
   "cell_type": "code",
   "execution_count": 423,
   "metadata": {},
   "outputs": [],
   "source": [
    "class Optimal_Model:\n",
    "  def __init__(self,models,X_train,y_train,X_test,y_test):\n",
    "    self.models = models\n",
    "    self.X_train = X_train\n",
    "    self.y_train = y_train\n",
    "    self.X_test = X_test\n",
    "    self.y_test = y_test\n",
    "    self.optimal_models = []\n",
    "    self.accuracy_scores = []\n",
    "\n",
    "  def optimal(self):\n",
    "    for model in self.models:\n",
    "      print(f'\\nModel: {model}')\n",
    "\n",
    "      Trainer = Train_Model(model)\n",
    "      Trainer.fit(self.X_train,self.y_train)\n",
    "\n",
    "      optimal_model,accuracy_score = Trainer.eval(self.X_test,self.y_test)\n",
    "      self.optimal_models.append(optimal_model)\n",
    "      self.accuracy_scores.append(accuracy_score)\n",
    "\n",
    "    highest_acc = np.argmax(np.array(self.accuracy_scores))\n",
    "\n",
    "    return self.optimal_models[highest_acc]"
   ]
  },
  {
   "cell_type": "code",
   "execution_count": 424,
   "metadata": {},
   "outputs": [],
   "source": [
    "def Predict(review,model):\n",
    "  tokenized_review = tokenizer.tokenize([review],max_len = max_len,Vocab = vocab)\n",
    "\n",
    "  prediction = model.predict(tokenized_review)\n",
    "  publication = publications[np.array(prediction)[0]]\n",
    "  \n",
    "  print(f'{review}: Publication:{publication}')\n",
    "\n",
    "  return publication"
   ]
  },
  {
   "cell_type": "code",
   "execution_count": 425,
   "metadata": {},
   "outputs": [],
   "source": [
    "df['text'] = df.title.astype('str') + df.subtitle.astype('str')\n",
    "df = df[['text','publication']]\n",
    "\n",
    "publications = df['publication'].unique()\n"
   ]
  },
  {
   "cell_type": "code",
   "execution_count": 426,
   "metadata": {},
   "outputs": [],
   "source": [
    "df = df.replace(to_replace = 'Towards Data Science', value = 0)\n",
    "df = df.replace(to_replace = 'UX Collective', value = 1)\n",
    "df = df.replace(to_replace = 'The Startup', value = 2)\n",
    "df = df.replace(to_replace = 'The Writing Cooperative', value = 3)"
   ]
  },
  {
   "cell_type": "code",
   "execution_count": 427,
   "metadata": {},
   "outputs": [],
   "source": [
    "target_feature = 'publication'\n",
    "\n",
    "eda = Prior_Data_Analys(df)\n",
    "data_visualization = Distribution(df,target_feature)"
   ]
  },
  {
   "cell_type": "code",
   "execution_count": 428,
   "metadata": {},
   "outputs": [
    {
     "name": "stdout",
     "output_type": "stream",
     "text": [
      "Number of samples in Data Set: 2498\n",
      "Number of columns: 2\n"
     ]
    },
    {
     "data": {
      "text/plain": [
       "(2498, 2)"
      ]
     },
     "execution_count": 428,
     "metadata": {},
     "output_type": "execute_result"
    }
   ],
   "source": [
    "eda.shape()"
   ]
  },
  {
   "cell_type": "code",
   "execution_count": 429,
   "metadata": {},
   "outputs": [
    {
     "name": "stdout",
     "output_type": "stream",
     "text": [
      "Unique columns:\n",
      "\n",
      "Column 1: text\n",
      "Column 2: publication\n"
     ]
    },
    {
     "data": {
      "text/plain": [
       "Index(['text', 'publication'], dtype='object')"
      ]
     },
     "execution_count": 429,
     "metadata": {},
     "output_type": "execute_result"
    }
   ],
   "source": [
    "eda.unique_columns()"
   ]
  },
  {
   "cell_type": "code",
   "execution_count": 430,
   "metadata": {},
   "outputs": [
    {
     "name": "stdout",
     "output_type": "stream",
     "text": [
      "Dtypes:\n",
      "\n",
      " text           object\n",
      "publication     int64\n",
      "dtype: object\n"
     ]
    },
    {
     "data": {
      "text/plain": [
       "text           object\n",
       "publication     int64\n",
       "dtype: object"
      ]
     },
     "execution_count": 430,
     "metadata": {},
     "output_type": "execute_result"
    }
   ],
   "source": [
    "eda.columns_dtypes()"
   ]
  },
  {
   "cell_type": "code",
   "execution_count": 431,
   "metadata": {},
   "outputs": [
    {
     "name": "stdout",
     "output_type": "stream",
     "text": [
      "Categorical features:\n",
      "\n",
      "* text\n"
     ]
    },
    {
     "name": "stderr",
     "output_type": "stream",
     "text": [
      "/var/folders/k9/6y59tr5d45s1nynfg_sv5zr80000gn/T/ipykernel_36939/4263177674.py:33: FutureWarning: Series.__getitem__ treating keys as positions is deprecated. In a future version, integer keys will always be treated as labels (consistent with DataFrame behavior). To access a value by position, use `ser.iloc[pos]`\n",
      "  categorical_feats = [column for column_idx,column in enumerate(self.df.columns) if self.df.dtypes[column_idx] == 'object']\n",
      "/var/folders/k9/6y59tr5d45s1nynfg_sv5zr80000gn/T/ipykernel_36939/4263177674.py:33: FutureWarning: Series.__getitem__ treating keys as positions is deprecated. In a future version, integer keys will always be treated as labels (consistent with DataFrame behavior). To access a value by position, use `ser.iloc[pos]`\n",
      "  categorical_feats = [column for column_idx,column in enumerate(self.df.columns) if self.df.dtypes[column_idx] == 'object']\n"
     ]
    },
    {
     "data": {
      "text/plain": [
       "array(['text'], dtype='<U4')"
      ]
     },
     "execution_count": 431,
     "metadata": {},
     "output_type": "execute_result"
    }
   ],
   "source": [
    "eda.categorical_features()"
   ]
  },
  {
   "cell_type": "code",
   "execution_count": 432,
   "metadata": {},
   "outputs": [
    {
     "name": "stdout",
     "output_type": "stream",
     "text": [
      "Numerical features: \n",
      "\n",
      "* publication\n"
     ]
    },
    {
     "name": "stderr",
     "output_type": "stream",
     "text": [
      "/var/folders/k9/6y59tr5d45s1nynfg_sv5zr80000gn/T/ipykernel_36939/4263177674.py:44: FutureWarning: Series.__getitem__ treating keys as positions is deprecated. In a future version, integer keys will always be treated as labels (consistent with DataFrame behavior). To access a value by position, use `ser.iloc[pos]`\n",
      "  numerical_feats = [column for column_idx,column in enumerate(self.df.columns) if self.df.dtypes[column_idx] != 'object']\n",
      "/var/folders/k9/6y59tr5d45s1nynfg_sv5zr80000gn/T/ipykernel_36939/4263177674.py:44: FutureWarning: Series.__getitem__ treating keys as positions is deprecated. In a future version, integer keys will always be treated as labels (consistent with DataFrame behavior). To access a value by position, use `ser.iloc[pos]`\n",
      "  numerical_feats = [column for column_idx,column in enumerate(self.df.columns) if self.df.dtypes[column_idx] != 'object']\n"
     ]
    },
    {
     "data": {
      "text/plain": [
       "array(['publication'], dtype='<U11')"
      ]
     },
     "execution_count": 432,
     "metadata": {},
     "output_type": "execute_result"
    }
   ],
   "source": [
    "eda.numerical_features()"
   ]
  },
  {
   "cell_type": "code",
   "execution_count": 433,
   "metadata": {},
   "outputs": [
    {
     "name": "stdout",
     "output_type": "stream",
     "text": [
      "Amout of Nans per class:\n"
     ]
    },
    {
     "data": {
      "text/plain": [
       "text           0\n",
       "publication    0\n",
       "dtype: int64"
      ]
     },
     "execution_count": 433,
     "metadata": {},
     "output_type": "execute_result"
    }
   ],
   "source": [
    "eda.count_NA()"
   ]
  },
  {
   "cell_type": "code",
   "execution_count": 434,
   "metadata": {},
   "outputs": [
    {
     "name": "stdout",
     "output_type": "stream",
     "text": [
      "Amount of duplicates: 649\n"
     ]
    }
   ],
   "source": [
    "eda.duplicates()\n",
    "df = df[df.duplicated() == False]"
   ]
  },
  {
   "cell_type": "code",
   "execution_count": 435,
   "metadata": {},
   "outputs": [
    {
     "data": {
      "image/png": "[encoded data removed]",
      "text/plain": [
       "<Figure size 1000x1000 with 1 Axes>"
      ]
     },
     "metadata": {},
     "output_type": "display_data"
    },
    {
     "data": {
      "image/png": "[encoded data removed]",
      "text/plain": [
       "<Figure size 1000x1000 with 1 Axes>"
      ]
     },
     "metadata": {},
     "output_type": "display_data"
    }
   ],
   "source": [
    "data_visualization.distribution_of_target_feature()"
   ]
  },
  {
   "cell_type": "code",
   "execution_count": 436,
   "metadata": {},
   "outputs": [],
   "source": [
    "X = df['text'].values\n",
    "y = df['publication'].values\n",
    "\n",
    "x_train,x_test,y_train,y_test = train_test_split(X,y,test_size = 0.2,random_state = 42)"
   ]
  },
  {
   "cell_type": "code",
   "execution_count": 437,
   "metadata": {},
   "outputs": [],
   "source": [
    "max_len = 80\n",
    "\n",
    "tokenizer = Text_Tokenization(nlp)\n",
    "\n",
    "X_train = tokenizer.tokenize(x_train,max_len = max_len,Vocab = None)\n",
    "vocab = tokenizer.vocab\n",
    "\n",
    "X_test = tokenizer.tokenize(x_test,max_len = max_len,Vocab = vocab)"
   ]
  },
  {
   "cell_type": "code",
   "execution_count": 438,
   "metadata": {},
   "outputs": [
    {
     "data": {
      "image/png": "[encoded data removed]",
      "text/plain": [
       "<Figure size 640x480 with 1 Axes>"
      ]
     },
     "metadata": {},
     "output_type": "display_data"
    }
   ],
   "source": [
    "pca = PCA(n_components = 2)\n",
    "\n",
    "class_one_idxs = np.argwhere(y_train == 0)\n",
    "class_two_idxs = np.argwhere(y_train == 1)\n",
    "class_three_idxs = np.argwhere(y_train == 2)\n",
    "class_four_idxs = np.argwhere(y_train == 3)\n",
    "\n",
    "\n",
    "class_one = X_train[class_one_idxs].squeeze()\n",
    "class_two = X_train[class_two_idxs].squeeze()\n",
    "class_three = X_train[class_three_idxs].squeeze()\n",
    "class_four = X_train[class_four_idxs].squeeze()\n",
    "\n",
    "\n",
    "class_one_2d = pca.fit_transform(class_one)\n",
    "class_two_2d = pca.fit_transform(class_two)\n",
    "class_three_2d = pca.fit_transform(class_three)\n",
    "class_four_2d = pca.fit_transform(class_four)\n",
    "\n",
    "\n",
    "plt.scatter(class_one_2d[:,0],class_one_2d[:,1],label = '0')\n",
    "plt.scatter(class_two_2d[:,0],class_two_2d[:,1],label = '1')\n",
    "plt.scatter(class_three_2d[:,0],class_three_2d[:,1],label = '2')\n",
    "plt.scatter(class_four_2d[:,0],class_four_2d[:,1],label = '3')\n",
    "plt.title('Distribution of publications')\n",
    "plt.xlabel('PCA1')\n",
    "plt.ylabel('PCA2')\n",
    "plt.show()"
   ]
  },
  {
   "cell_type": "code",
   "execution_count": 439,
   "metadata": {},
   "outputs": [],
   "source": [
    "logistic_regression = LogisticRegression()\n",
    "naive_bayes = GaussianNB()\n",
    "svc = SVC(probability = True)\n",
    "decision_tree = DecisionTreeClassifier()\n",
    "random_forest = RandomForestClassifier()\n",
    "xgb_classifier = XGBClassifier()\n",
    "\n",
    "models = [logistic_regression,naive_bayes,svc,decision_tree,random_forest,xgb_classifier]"
   ]
  },
  {
   "cell_type": "code",
   "execution_count": 440,
   "metadata": {},
   "outputs": [
    {
     "name": "stdout",
     "output_type": "stream",
     "text": [
      "\n",
      "Model: LogisticRegression()\n"
     ]
    },
    {
     "name": "stderr",
     "output_type": "stream",
     "text": [
      "/Library/Frameworks/Python.framework/Versions/3.11/lib/python3.11/site-packages/sklearn/linear_model/_logistic.py:469: ConvergenceWarning: lbfgs failed to converge (status=1):\n",
      "STOP: TOTAL NO. of ITERATIONS REACHED LIMIT.\n",
      "\n",
      "Increase the number of iterations (max_iter) or scale the data as shown in:\n",
      "    https://scikit-learn.org/stable/modules/preprocessing.html\n",
      "Please also refer to the documentation for alternative solver options:\n",
      "    https://scikit-learn.org/stable/modules/linear_model.html#logistic-regression\n",
      "  n_iter_i = _check_optimize_result(\n",
      "/Library/Frameworks/Python.framework/Versions/3.11/lib/python3.11/site-packages/sklearn/linear_model/_logistic.py:469: ConvergenceWarning: lbfgs failed to converge (status=1):\n",
      "STOP: TOTAL NO. of ITERATIONS REACHED LIMIT.\n",
      "\n",
      "Increase the number of iterations (max_iter) or scale the data as shown in:\n",
      "    https://scikit-learn.org/stable/modules/preprocessing.html\n",
      "Please also refer to the documentation for alternative solver options:\n",
      "    https://scikit-learn.org/stable/modules/linear_model.html#logistic-regression\n",
      "  n_iter_i = _check_optimize_result(\n",
      "/Library/Frameworks/Python.framework/Versions/3.11/lib/python3.11/site-packages/sklearn/linear_model/_logistic.py:469: ConvergenceWarning: lbfgs failed to converge (status=1):\n",
      "STOP: TOTAL NO. of ITERATIONS REACHED LIMIT.\n",
      "\n",
      "Increase the number of iterations (max_iter) or scale the data as shown in:\n",
      "    https://scikit-learn.org/stable/modules/preprocessing.html\n",
      "Please also refer to the documentation for alternative solver options:\n",
      "    https://scikit-learn.org/stable/modules/linear_model.html#logistic-regression\n",
      "  n_iter_i = _check_optimize_result(\n",
      "/Library/Frameworks/Python.framework/Versions/3.11/lib/python3.11/site-packages/sklearn/linear_model/_logistic.py:469: ConvergenceWarning: lbfgs failed to converge (status=1):\n",
      "STOP: TOTAL NO. of ITERATIONS REACHED LIMIT.\n",
      "\n",
      "Increase the number of iterations (max_iter) or scale the data as shown in:\n",
      "    https://scikit-learn.org/stable/modules/preprocessing.html\n",
      "Please also refer to the documentation for alternative solver options:\n",
      "    https://scikit-learn.org/stable/modules/linear_model.html#logistic-regression\n",
      "  n_iter_i = _check_optimize_result(\n",
      "/Library/Frameworks/Python.framework/Versions/3.11/lib/python3.11/site-packages/sklearn/linear_model/_logistic.py:469: ConvergenceWarning: lbfgs failed to converge (status=1):\n",
      "STOP: TOTAL NO. of ITERATIONS REACHED LIMIT.\n",
      "\n",
      "Increase the number of iterations (max_iter) or scale the data as shown in:\n",
      "    https://scikit-learn.org/stable/modules/preprocessing.html\n",
      "Please also refer to the documentation for alternative solver options:\n",
      "    https://scikit-learn.org/stable/modules/linear_model.html#logistic-regression\n",
      "  n_iter_i = _check_optimize_result(\n",
      "/Library/Frameworks/Python.framework/Versions/3.11/lib/python3.11/site-packages/sklearn/linear_model/_logistic.py:469: ConvergenceWarning: lbfgs failed to converge (status=1):\n",
      "STOP: TOTAL NO. of ITERATIONS REACHED LIMIT.\n",
      "\n",
      "Increase the number of iterations (max_iter) or scale the data as shown in:\n",
      "    https://scikit-learn.org/stable/modules/preprocessing.html\n",
      "Please also refer to the documentation for alternative solver options:\n",
      "    https://scikit-learn.org/stable/modules/linear_model.html#logistic-regression\n",
      "  n_iter_i = _check_optimize_result(\n",
      "/Library/Frameworks/Python.framework/Versions/3.11/lib/python3.11/site-packages/sklearn/linear_model/_logistic.py:469: ConvergenceWarning: lbfgs failed to converge (status=1):\n",
      "STOP: TOTAL NO. of ITERATIONS REACHED LIMIT.\n",
      "\n",
      "Increase the number of iterations (max_iter) or scale the data as shown in:\n",
      "    https://scikit-learn.org/stable/modules/preprocessing.html\n",
      "Please also refer to the documentation for alternative solver options:\n",
      "    https://scikit-learn.org/stable/modules/linear_model.html#logistic-regression\n",
      "  n_iter_i = _check_optimize_result(\n",
      "/Library/Frameworks/Python.framework/Versions/3.11/lib/python3.11/site-packages/sklearn/linear_model/_logistic.py:469: ConvergenceWarning: lbfgs failed to converge (status=1):\n",
      "STOP: TOTAL NO. of ITERATIONS REACHED LIMIT.\n",
      "\n",
      "Increase the number of iterations (max_iter) or scale the data as shown in:\n",
      "    https://scikit-learn.org/stable/modules/preprocessing.html\n",
      "Please also refer to the documentation for alternative solver options:\n",
      "    https://scikit-learn.org/stable/modules/linear_model.html#logistic-regression\n",
      "  n_iter_i = _check_optimize_result(\n",
      "/Library/Frameworks/Python.framework/Versions/3.11/lib/python3.11/site-packages/sklearn/linear_model/_logistic.py:469: ConvergenceWarning: lbfgs failed to converge (status=1):\n",
      "STOP: TOTAL NO. of ITERATIONS REACHED LIMIT.\n",
      "\n",
      "Increase the number of iterations (max_iter) or scale the data as shown in:\n",
      "    https://scikit-learn.org/stable/modules/preprocessing.html\n",
      "Please also refer to the documentation for alternative solver options:\n",
      "    https://scikit-learn.org/stable/modules/linear_model.html#logistic-regression\n",
      "  n_iter_i = _check_optimize_result(\n",
      "/Library/Frameworks/Python.framework/Versions/3.11/lib/python3.11/site-packages/sklearn/linear_model/_logistic.py:469: ConvergenceWarning: lbfgs failed to converge (status=1):\n",
      "STOP: TOTAL NO. of ITERATIONS REACHED LIMIT.\n",
      "\n",
      "Increase the number of iterations (max_iter) or scale the data as shown in:\n",
      "    https://scikit-learn.org/stable/modules/preprocessing.html\n",
      "Please also refer to the documentation for alternative solver options:\n",
      "    https://scikit-learn.org/stable/modules/linear_model.html#logistic-regression\n",
      "  n_iter_i = _check_optimize_result(\n"
     ]
    },
    {
     "name": "stdout",
     "output_type": "stream",
     "text": [
      "LogisticRegression() (OneVsRestClassifier) Accuracy on Train Data: 0.5233265720081136\n",
      "LogisticRegression() (OneVsOneClassifier) Accuracy on Train Data: 0.521974306964165\n",
      "\n",
      "\n",
      "\n",
      "LogisticRegression() (OneVsRestClassifier) Accuracy on Test Data: 0.4594594594594595\n",
      "LogisticRegression() (OneVsOneClassifier) Accuracy on Test Data: 0.4540540540540541\n",
      "\n",
      "Model: GaussianNB()\n",
      "GaussianNB() (OneVsRestClassifier) Accuracy on Train Data: 0.20081135902636918\n",
      "GaussianNB() (OneVsOneClassifier) Accuracy on Train Data: 0.1832319134550372\n",
      "\n",
      "\n",
      "\n",
      "GaussianNB() (OneVsRestClassifier) Accuracy on Test Data: 0.1918918918918919\n",
      "GaussianNB() (OneVsOneClassifier) Accuracy on Test Data: 0.16486486486486487\n",
      "\n",
      "Model: SVC(probability=True)\n",
      "SVC(probability=True) (OneVsRestClassifier) Accuracy on Train Data: 0.5977011494252874\n",
      "SVC(probability=True) (OneVsOneClassifier) Accuracy on Train Data: 0.5747126436781609\n",
      "\n",
      "\n",
      "\n",
      "SVC(probability=True) (OneVsRestClassifier) Accuracy on Test Data: 0.5\n",
      "SVC(probability=True) (OneVsOneClassifier) Accuracy on Test Data: 0.5081081081081081\n",
      "\n",
      "Model: DecisionTreeClassifier()\n",
      "DecisionTreeClassifier() (OneVsRestClassifier) Accuracy on Train Data: 1.0\n",
      "DecisionTreeClassifier() (OneVsOneClassifier) Accuracy on Train Data: 1.0\n",
      "\n",
      "\n",
      "\n",
      "DecisionTreeClassifier() (OneVsRestClassifier) Accuracy on Test Data: 0.43243243243243246\n",
      "DecisionTreeClassifier() (OneVsOneClassifier) Accuracy on Test Data: 0.42702702702702705\n",
      "\n",
      "Model: RandomForestClassifier()\n",
      "RandomForestClassifier() (OneVsRestClassifier) Accuracy on Train Data: 1.0\n",
      "RandomForestClassifier() (OneVsOneClassifier) Accuracy on Train Data: 1.0\n",
      "\n",
      "\n",
      "\n",
      "RandomForestClassifier() (OneVsRestClassifier) Accuracy on Test Data: 0.5324324324324324\n",
      "RandomForestClassifier() (OneVsOneClassifier) Accuracy on Test Data: 0.5351351351351351\n",
      "\n",
      "Model: XGBClassifier(base_score=None, booster=None, callbacks=None,\n",
      "              colsample_bylevel=None, colsample_bynode=None,\n",
      "              colsample_bytree=None, device=None, early_stopping_rounds=None,\n",
      "              enable_categorical=False, eval_metric=None, feature_types=None,\n",
      "              gamma=None, grow_policy=None, importance_type=None,\n",
      "              interaction_constraints=None, learning_rate=None, max_bin=None,\n",
      "              max_cat_threshold=None, max_cat_to_onehot=None,\n",
      "              max_delta_step=None, max_depth=None, max_leaves=None,\n",
      "              min_child_weight=None, missing=nan, monotone_constraints=None,\n",
      "              multi_strategy=None, n_estimators=None, n_jobs=None,\n",
      "              num_parallel_tree=None, random_state=None, ...)\n",
      "XGBClassifier(base_score=None, booster=None, callbacks=None,\n",
      "              colsample_bylevel=None, colsample_bynode=None,\n",
      "              colsample_bytree=None, device=None, early_stopping_rounds=None,\n",
      "              enable_categorical=False, eval_metric=None, feature_types=None,\n",
      "              gamma=None, grow_policy=None, importance_type=None,\n",
      "              interaction_constraints=None, learning_rate=None, max_bin=None,\n",
      "              max_cat_threshold=None, max_cat_to_onehot=None,\n",
      "              max_delta_step=None, max_depth=None, max_leaves=None,\n",
      "              min_child_weight=None, missing=nan, monotone_constraints=None,\n",
      "              multi_strategy=None, n_estimators=None, n_jobs=None,\n",
      "              num_parallel_tree=None, random_state=None, ...) (OneVsRestClassifier) Accuracy on Train Data: 1.0\n",
      "XGBClassifier(base_score=None, booster=None, callbacks=None,\n",
      "              colsample_bylevel=None, colsample_bynode=None,\n",
      "              colsample_bytree=None, device=None, early_stopping_rounds=None,\n",
      "              enable_categorical=False, eval_metric=None, feature_types=None,\n",
      "              gamma=None, grow_policy=None, importance_type=None,\n",
      "              interaction_constraints=None, learning_rate=None, max_bin=None,\n",
      "              max_cat_threshold=None, max_cat_to_onehot=None,\n",
      "              max_delta_step=None, max_depth=None, max_leaves=None,\n",
      "              min_child_weight=None, missing=nan, monotone_constraints=None,\n",
      "              multi_strategy=None, n_estimators=None, n_jobs=None,\n",
      "              num_parallel_tree=None, random_state=None, ...) (OneVsOneClassifier) Accuracy on Train Data: 1.0\n",
      "\n",
      "\n",
      "\n",
      "XGBClassifier(base_score=None, booster=None, callbacks=None,\n",
      "              colsample_bylevel=None, colsample_bynode=None,\n",
      "              colsample_bytree=None, device=None, early_stopping_rounds=None,\n",
      "              enable_categorical=False, eval_metric=None, feature_types=None,\n",
      "              gamma=None, grow_policy=None, importance_type=None,\n",
      "              interaction_constraints=None, learning_rate=None, max_bin=None,\n",
      "              max_cat_threshold=None, max_cat_to_onehot=None,\n",
      "              max_delta_step=None, max_depth=None, max_leaves=None,\n",
      "              min_child_weight=None, missing=nan, monotone_constraints=None,\n",
      "              multi_strategy=None, n_estimators=None, n_jobs=None,\n",
      "              num_parallel_tree=None, random_state=None, ...) (OneVsRestClassifier) Accuracy on Test Data: 0.5459459459459459\n",
      "XGBClassifier(base_score=None, booster=None, callbacks=None,\n",
      "              colsample_bylevel=None, colsample_bynode=None,\n",
      "              colsample_bytree=None, device=None, early_stopping_rounds=None,\n",
      "              enable_categorical=False, eval_metric=None, feature_types=None,\n",
      "              gamma=None, grow_policy=None, importance_type=None,\n",
      "              interaction_constraints=None, learning_rate=None, max_bin=None,\n",
      "              max_cat_threshold=None, max_cat_to_onehot=None,\n",
      "              max_delta_step=None, max_depth=None, max_leaves=None,\n",
      "              min_child_weight=None, missing=nan, monotone_constraints=None,\n",
      "              multi_strategy=None, n_estimators=None, n_jobs=None,\n",
      "              num_parallel_tree=None, random_state=None, ...) (OneVsOneClassifier) Accuracy on Test Data: 0.518918918918919\n"
     ]
    }
   ],
   "source": [
    "Optimal = Optimal_Model(models,X_train,y_train,X_test,y_test)\n",
    "optimal_model = Optimal.optimal()"
   ]
  },
  {
   "cell_type": "code",
   "execution_count": 441,
   "metadata": {},
   "outputs": [
    {
     "name": "stdout",
     "output_type": "stream",
     "text": [
      "5 Reasons to Give Basic Advice as a WriterThe underestimated power of basic advice, and why it should…: Publication:The Writing Cooperative\n"
     ]
    },
    {
     "data": {
      "text/plain": [
       "'The Writing Cooperative'"
      ]
     },
     "execution_count": 441,
     "metadata": {},
     "output_type": "execute_result"
    }
   ],
   "source": [
    "review = df['text'].iloc[79]\n",
    "\n",
    "Predict(review,optimal_model)"
   ]
  },
  {
   "cell_type": "code",
   "execution_count": null,
   "metadata": {},
   "outputs": [],
   "source": []
  },
  {
   "cell_type": "code",
   "execution_count": null,
   "metadata": {},
   "outputs": [],
   "source": []
  }
 ],
 "metadata": {
  "kernelspec": {
   "display_name": "Python 3",
   "language": "python",
   "name": "python3"
  },
  "language_info": {
   "codemirror_mode": {
    "name": "ipython",
    "version": 3
   },
   "file_extension": ".py",
   "mimetype": "text/x-python",
   "name": "python",
   "nbconvert_exporter": "python",
   "pygments_lexer": "ipython3",
   "version": "3.11.0"
  }
 },
 "nbformat": 4,
 "nbformat_minor": 2
}
